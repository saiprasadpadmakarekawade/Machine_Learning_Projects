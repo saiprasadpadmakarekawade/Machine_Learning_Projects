{
 "cells": [
  {
   "cell_type": "markdown",
   "id": "24b3c61b-6370-42b1-b0fd-a47613543f24",
   "metadata": {},
   "source": [
    "## Business case:-Create Predictive model for inventory forecasting so that service centre achieve JIT standards."
   ]
  },
  {
   "cell_type": "code",
   "execution_count": 1,
   "id": "7653ae4d-449d-42c1-9905-ddbdaf5b4013",
   "metadata": {},
   "outputs": [],
   "source": [
    "import mysql.connector\n",
    "from mysql.connector import Error"
   ]
  },
  {
   "cell_type": "code",
   "execution_count": 2,
   "id": "618fc125-42c2-4e81-af5f-22ba45697691",
   "metadata": {},
   "outputs": [],
   "source": [
    "# Importing libraries\n",
    "import pandas as pd\n",
    "import numpy as np\n",
    "import matplotlib.pyplot as plt\n",
    "import seaborn as sns\n",
    "import mysql.connector\n",
    "import csv\n",
    "\n",
    "import warnings\n",
    "\n",
    "warnings.filterwarnings(\"ignore\")\n"
   ]
  },
  {
   "cell_type": "markdown",
   "id": "8f4679dc-4ddf-4364-b3ee-4a56ce58a416",
   "metadata": {},
   "source": [
    "### Established connection with MySql"
   ]
  },
  {
   "cell_type": "code",
   "execution_count": 3,
   "id": "9eec2d95-18a6-4c04-9116-ddcda8020936",
   "metadata": {},
   "outputs": [],
   "source": [
    "connection= mysql.connector.connect(user=\"dm_usdata_sql\",\n",
    "                                    password=\"37z<49REb&mKnl4AV!vJ\",\n",
    "                                    host=\"18.136.157.135\",\n",
    "                                    port=\"3306\",\n",
    "                                    database=\"project_service_data\"\n",
    "                                   )"
   ]
  },
  {
   "cell_type": "code",
   "execution_count": 4,
   "id": "7ccec080-bee4-4eec-bfe8-a5cd7132f362",
   "metadata": {},
   "outputs": [],
   "source": [
    "data = pd.read_sql('SELECT * FROM service_data', con=connection) ## Read the dataset"
   ]
  },
  {
   "cell_type": "code",
   "execution_count": 5,
   "id": "e48bc901-026e-49fc-aa59-b584cbe93bf7",
   "metadata": {},
   "outputs": [
    {
     "data": {
      "text/html": [
       "<div>\n",
       "<style scoped>\n",
       "    .dataframe tbody tr th:only-of-type {\n",
       "        vertical-align: middle;\n",
       "    }\n",
       "\n",
       "    .dataframe tbody tr th {\n",
       "        vertical-align: top;\n",
       "    }\n",
       "\n",
       "    .dataframe thead th {\n",
       "        text-align: right;\n",
       "    }\n",
       "</style>\n",
       "<table border=\"1\" class=\"dataframe\">\n",
       "  <thead>\n",
       "    <tr style=\"text-align: right;\">\n",
       "      <th></th>\n",
       "      <th>invoice_date</th>\n",
       "      <th>job_card_date</th>\n",
       "      <th>business_partner_name</th>\n",
       "      <th>vehicle_no</th>\n",
       "      <th>vehicle_model</th>\n",
       "      <th>current_km_reading</th>\n",
       "      <th>invoice_line_text</th>\n",
       "    </tr>\n",
       "  </thead>\n",
       "  <tbody>\n",
       "    <tr>\n",
       "      <th>0</th>\n",
       "      <td>30-05-17</td>\n",
       "      <td>30-05-17</td>\n",
       "      <td>shivXXXXXXXXXX</td>\n",
       "      <td>KA03MFXXXX</td>\n",
       "      <td>BAJAJ AVENGER STREET 220</td>\n",
       "      <td>50000</td>\n",
       "      <td>ENGINE OIL</td>\n",
       "    </tr>\n",
       "    <tr>\n",
       "      <th>1</th>\n",
       "      <td>02-06-17</td>\n",
       "      <td>31-05-17</td>\n",
       "      <td>KIRAXXXXXXXXXX</td>\n",
       "      <td>KA53ESXXXX</td>\n",
       "      <td>BAJAJ PULSAR NS 200</td>\n",
       "      <td>758</td>\n",
       "      <td>ENGINE OIL</td>\n",
       "    </tr>\n",
       "    <tr>\n",
       "      <th>2</th>\n",
       "      <td>02-06-17</td>\n",
       "      <td>31-05-17</td>\n",
       "      <td>KIRAXXXXXXXXXX</td>\n",
       "      <td>KA53ESXXXX</td>\n",
       "      <td>BAJAJ PULSAR NS 200</td>\n",
       "      <td>758</td>\n",
       "      <td>POLISH</td>\n",
       "    </tr>\n",
       "    <tr>\n",
       "      <th>3</th>\n",
       "      <td>02-06-17</td>\n",
       "      <td>31-05-17</td>\n",
       "      <td>KIRAXXXXXXXXXX</td>\n",
       "      <td>KA53ESXXXX</td>\n",
       "      <td>BAJAJ PULSAR NS 200</td>\n",
       "      <td>758</td>\n",
       "      <td>CONSUMABLES</td>\n",
       "    </tr>\n",
       "    <tr>\n",
       "      <th>4</th>\n",
       "      <td>02-06-17</td>\n",
       "      <td>31-05-17</td>\n",
       "      <td>KIRAXXXXXXXXXX</td>\n",
       "      <td>KA53ESXXXX</td>\n",
       "      <td>BAJAJ PULSAR NS 200</td>\n",
       "      <td>758</td>\n",
       "      <td>COOLANT OIL</td>\n",
       "    </tr>\n",
       "    <tr>\n",
       "      <th>...</th>\n",
       "      <td>...</td>\n",
       "      <td>...</td>\n",
       "      <td>...</td>\n",
       "      <td>...</td>\n",
       "      <td>...</td>\n",
       "      <td>...</td>\n",
       "      <td>...</td>\n",
       "    </tr>\n",
       "    <tr>\n",
       "      <th>28477</th>\n",
       "      <td>06-01-19</td>\n",
       "      <td>06-01-19</td>\n",
       "      <td>pravXXXXXXXXXX</td>\n",
       "      <td>KA53EVXXXX</td>\n",
       "      <td>BAJAJ DISCOVER 125</td>\n",
       "      <td>12805</td>\n",
       "      <td>SPROCKET RUBBER</td>\n",
       "    </tr>\n",
       "    <tr>\n",
       "      <th>28478</th>\n",
       "      <td>06-01-19</td>\n",
       "      <td>06-01-19</td>\n",
       "      <td>pravXXXXXXXXXX</td>\n",
       "      <td>KA53EVXXXX</td>\n",
       "      <td>BAJAJ DISCOVER 125</td>\n",
       "      <td>12805</td>\n",
       "      <td>CLUTCH CABLE</td>\n",
       "    </tr>\n",
       "    <tr>\n",
       "      <th>28479</th>\n",
       "      <td>06-01-19</td>\n",
       "      <td>06-01-19</td>\n",
       "      <td>pravXXXXXXXXXX</td>\n",
       "      <td>KA53EVXXXX</td>\n",
       "      <td>BAJAJ DISCOVER 125</td>\n",
       "      <td>12805</td>\n",
       "      <td>OIL FILTER</td>\n",
       "    </tr>\n",
       "    <tr>\n",
       "      <th>28480</th>\n",
       "      <td>06-01-19</td>\n",
       "      <td>06-01-19</td>\n",
       "      <td>pravXXXXXXXXXX</td>\n",
       "      <td>KA53EVXXXX</td>\n",
       "      <td>BAJAJ DISCOVER 125</td>\n",
       "      <td>12805</td>\n",
       "      <td>DISC OIL</td>\n",
       "    </tr>\n",
       "    <tr>\n",
       "      <th>28481</th>\n",
       "      <td>06-01-19</td>\n",
       "      <td>06-01-19</td>\n",
       "      <td>pravXXXXXXXXXX</td>\n",
       "      <td>KA53EVXXXX</td>\n",
       "      <td>BAJAJ DISCOVER 125</td>\n",
       "      <td>12805</td>\n",
       "      <td>AIR FILTER</td>\n",
       "    </tr>\n",
       "  </tbody>\n",
       "</table>\n",
       "<p>28482 rows × 7 columns</p>\n",
       "</div>"
      ],
      "text/plain": [
       "      invoice_date job_card_date business_partner_name  vehicle_no  \\\n",
       "0         30-05-17      30-05-17        shivXXXXXXXXXX  KA03MFXXXX   \n",
       "1         02-06-17      31-05-17        KIRAXXXXXXXXXX  KA53ESXXXX   \n",
       "2         02-06-17      31-05-17        KIRAXXXXXXXXXX  KA53ESXXXX   \n",
       "3         02-06-17      31-05-17        KIRAXXXXXXXXXX  KA53ESXXXX   \n",
       "4         02-06-17      31-05-17        KIRAXXXXXXXXXX  KA53ESXXXX   \n",
       "...            ...           ...                   ...         ...   \n",
       "28477     06-01-19      06-01-19        pravXXXXXXXXXX  KA53EVXXXX   \n",
       "28478     06-01-19      06-01-19        pravXXXXXXXXXX  KA53EVXXXX   \n",
       "28479     06-01-19      06-01-19        pravXXXXXXXXXX  KA53EVXXXX   \n",
       "28480     06-01-19      06-01-19        pravXXXXXXXXXX  KA53EVXXXX   \n",
       "28481     06-01-19      06-01-19        pravXXXXXXXXXX  KA53EVXXXX   \n",
       "\n",
       "                  vehicle_model current_km_reading invoice_line_text  \n",
       "0      BAJAJ AVENGER STREET 220              50000        ENGINE OIL  \n",
       "1           BAJAJ PULSAR NS 200                758        ENGINE OIL  \n",
       "2           BAJAJ PULSAR NS 200                758            POLISH  \n",
       "3           BAJAJ PULSAR NS 200                758       CONSUMABLES  \n",
       "4           BAJAJ PULSAR NS 200                758       COOLANT OIL  \n",
       "...                         ...                ...               ...  \n",
       "28477        BAJAJ DISCOVER 125              12805   SPROCKET RUBBER  \n",
       "28478        BAJAJ DISCOVER 125              12805      CLUTCH CABLE  \n",
       "28479        BAJAJ DISCOVER 125              12805        OIL FILTER  \n",
       "28480        BAJAJ DISCOVER 125              12805          DISC OIL  \n",
       "28481        BAJAJ DISCOVER 125              12805        AIR FILTER  \n",
       "\n",
       "[28482 rows x 7 columns]"
      ]
     },
     "execution_count": 5,
     "metadata": {},
     "output_type": "execute_result"
    }
   ],
   "source": [
    "data"
   ]
  },
  {
   "cell_type": "markdown",
   "id": "86b25072-b3d9-431d-ab13-261523e1cad1",
   "metadata": {},
   "source": [
    "## Domain Analysis:-"
   ]
  },
  {
   "cell_type": "markdown",
   "id": "76a5c2fb-c511-4ef6-aced-ef405377327b",
   "metadata": {},
   "source": [
    "### Basic checks"
   ]
  },
  {
   "cell_type": "code",
   "execution_count": 6,
   "id": "189a404b-7945-40f6-be42-a52d293702a3",
   "metadata": {},
   "outputs": [
    {
     "data": {
      "text/html": [
       "<div>\n",
       "<style scoped>\n",
       "    .dataframe tbody tr th:only-of-type {\n",
       "        vertical-align: middle;\n",
       "    }\n",
       "\n",
       "    .dataframe tbody tr th {\n",
       "        vertical-align: top;\n",
       "    }\n",
       "\n",
       "    .dataframe thead th {\n",
       "        text-align: right;\n",
       "    }\n",
       "</style>\n",
       "<table border=\"1\" class=\"dataframe\">\n",
       "  <thead>\n",
       "    <tr style=\"text-align: right;\">\n",
       "      <th></th>\n",
       "      <th>invoice_date</th>\n",
       "      <th>job_card_date</th>\n",
       "      <th>business_partner_name</th>\n",
       "      <th>vehicle_no</th>\n",
       "      <th>vehicle_model</th>\n",
       "      <th>current_km_reading</th>\n",
       "      <th>invoice_line_text</th>\n",
       "    </tr>\n",
       "  </thead>\n",
       "  <tbody>\n",
       "    <tr>\n",
       "      <th>0</th>\n",
       "      <td>30-05-17</td>\n",
       "      <td>30-05-17</td>\n",
       "      <td>shivXXXXXXXXXX</td>\n",
       "      <td>KA03MFXXXX</td>\n",
       "      <td>BAJAJ AVENGER STREET 220</td>\n",
       "      <td>50000</td>\n",
       "      <td>ENGINE OIL</td>\n",
       "    </tr>\n",
       "    <tr>\n",
       "      <th>1</th>\n",
       "      <td>02-06-17</td>\n",
       "      <td>31-05-17</td>\n",
       "      <td>KIRAXXXXXXXXXX</td>\n",
       "      <td>KA53ESXXXX</td>\n",
       "      <td>BAJAJ PULSAR NS 200</td>\n",
       "      <td>758</td>\n",
       "      <td>ENGINE OIL</td>\n",
       "    </tr>\n",
       "    <tr>\n",
       "      <th>2</th>\n",
       "      <td>02-06-17</td>\n",
       "      <td>31-05-17</td>\n",
       "      <td>KIRAXXXXXXXXXX</td>\n",
       "      <td>KA53ESXXXX</td>\n",
       "      <td>BAJAJ PULSAR NS 200</td>\n",
       "      <td>758</td>\n",
       "      <td>POLISH</td>\n",
       "    </tr>\n",
       "    <tr>\n",
       "      <th>3</th>\n",
       "      <td>02-06-17</td>\n",
       "      <td>31-05-17</td>\n",
       "      <td>KIRAXXXXXXXXXX</td>\n",
       "      <td>KA53ESXXXX</td>\n",
       "      <td>BAJAJ PULSAR NS 200</td>\n",
       "      <td>758</td>\n",
       "      <td>CONSUMABLES</td>\n",
       "    </tr>\n",
       "    <tr>\n",
       "      <th>4</th>\n",
       "      <td>02-06-17</td>\n",
       "      <td>31-05-17</td>\n",
       "      <td>KIRAXXXXXXXXXX</td>\n",
       "      <td>KA53ESXXXX</td>\n",
       "      <td>BAJAJ PULSAR NS 200</td>\n",
       "      <td>758</td>\n",
       "      <td>COOLANT OIL</td>\n",
       "    </tr>\n",
       "  </tbody>\n",
       "</table>\n",
       "</div>"
      ],
      "text/plain": [
       "  invoice_date job_card_date business_partner_name  vehicle_no  \\\n",
       "0     30-05-17      30-05-17        shivXXXXXXXXXX  KA03MFXXXX   \n",
       "1     02-06-17      31-05-17        KIRAXXXXXXXXXX  KA53ESXXXX   \n",
       "2     02-06-17      31-05-17        KIRAXXXXXXXXXX  KA53ESXXXX   \n",
       "3     02-06-17      31-05-17        KIRAXXXXXXXXXX  KA53ESXXXX   \n",
       "4     02-06-17      31-05-17        KIRAXXXXXXXXXX  KA53ESXXXX   \n",
       "\n",
       "              vehicle_model current_km_reading invoice_line_text  \n",
       "0  BAJAJ AVENGER STREET 220              50000        ENGINE OIL  \n",
       "1       BAJAJ PULSAR NS 200                758        ENGINE OIL  \n",
       "2       BAJAJ PULSAR NS 200                758            POLISH  \n",
       "3       BAJAJ PULSAR NS 200                758       CONSUMABLES  \n",
       "4       BAJAJ PULSAR NS 200                758       COOLANT OIL  "
      ]
     },
     "execution_count": 6,
     "metadata": {},
     "output_type": "execute_result"
    }
   ],
   "source": [
    "data.head() # first 5 rows of data"
   ]
  },
  {
   "cell_type": "code",
   "execution_count": 7,
   "id": "86ebc89d-efa6-4e36-9382-1cb1a5314b97",
   "metadata": {},
   "outputs": [
    {
     "data": {
      "text/html": [
       "<div>\n",
       "<style scoped>\n",
       "    .dataframe tbody tr th:only-of-type {\n",
       "        vertical-align: middle;\n",
       "    }\n",
       "\n",
       "    .dataframe tbody tr th {\n",
       "        vertical-align: top;\n",
       "    }\n",
       "\n",
       "    .dataframe thead th {\n",
       "        text-align: right;\n",
       "    }\n",
       "</style>\n",
       "<table border=\"1\" class=\"dataframe\">\n",
       "  <thead>\n",
       "    <tr style=\"text-align: right;\">\n",
       "      <th></th>\n",
       "      <th>invoice_date</th>\n",
       "      <th>job_card_date</th>\n",
       "      <th>business_partner_name</th>\n",
       "      <th>vehicle_no</th>\n",
       "      <th>vehicle_model</th>\n",
       "      <th>current_km_reading</th>\n",
       "      <th>invoice_line_text</th>\n",
       "    </tr>\n",
       "  </thead>\n",
       "  <tbody>\n",
       "    <tr>\n",
       "      <th>28477</th>\n",
       "      <td>06-01-19</td>\n",
       "      <td>06-01-19</td>\n",
       "      <td>pravXXXXXXXXXX</td>\n",
       "      <td>KA53EVXXXX</td>\n",
       "      <td>BAJAJ DISCOVER 125</td>\n",
       "      <td>12805</td>\n",
       "      <td>SPROCKET RUBBER</td>\n",
       "    </tr>\n",
       "    <tr>\n",
       "      <th>28478</th>\n",
       "      <td>06-01-19</td>\n",
       "      <td>06-01-19</td>\n",
       "      <td>pravXXXXXXXXXX</td>\n",
       "      <td>KA53EVXXXX</td>\n",
       "      <td>BAJAJ DISCOVER 125</td>\n",
       "      <td>12805</td>\n",
       "      <td>CLUTCH CABLE</td>\n",
       "    </tr>\n",
       "    <tr>\n",
       "      <th>28479</th>\n",
       "      <td>06-01-19</td>\n",
       "      <td>06-01-19</td>\n",
       "      <td>pravXXXXXXXXXX</td>\n",
       "      <td>KA53EVXXXX</td>\n",
       "      <td>BAJAJ DISCOVER 125</td>\n",
       "      <td>12805</td>\n",
       "      <td>OIL FILTER</td>\n",
       "    </tr>\n",
       "    <tr>\n",
       "      <th>28480</th>\n",
       "      <td>06-01-19</td>\n",
       "      <td>06-01-19</td>\n",
       "      <td>pravXXXXXXXXXX</td>\n",
       "      <td>KA53EVXXXX</td>\n",
       "      <td>BAJAJ DISCOVER 125</td>\n",
       "      <td>12805</td>\n",
       "      <td>DISC OIL</td>\n",
       "    </tr>\n",
       "    <tr>\n",
       "      <th>28481</th>\n",
       "      <td>06-01-19</td>\n",
       "      <td>06-01-19</td>\n",
       "      <td>pravXXXXXXXXXX</td>\n",
       "      <td>KA53EVXXXX</td>\n",
       "      <td>BAJAJ DISCOVER 125</td>\n",
       "      <td>12805</td>\n",
       "      <td>AIR FILTER</td>\n",
       "    </tr>\n",
       "  </tbody>\n",
       "</table>\n",
       "</div>"
      ],
      "text/plain": [
       "      invoice_date job_card_date business_partner_name  vehicle_no  \\\n",
       "28477     06-01-19      06-01-19        pravXXXXXXXXXX  KA53EVXXXX   \n",
       "28478     06-01-19      06-01-19        pravXXXXXXXXXX  KA53EVXXXX   \n",
       "28479     06-01-19      06-01-19        pravXXXXXXXXXX  KA53EVXXXX   \n",
       "28480     06-01-19      06-01-19        pravXXXXXXXXXX  KA53EVXXXX   \n",
       "28481     06-01-19      06-01-19        pravXXXXXXXXXX  KA53EVXXXX   \n",
       "\n",
       "            vehicle_model current_km_reading invoice_line_text  \n",
       "28477  BAJAJ DISCOVER 125              12805   SPROCKET RUBBER  \n",
       "28478  BAJAJ DISCOVER 125              12805      CLUTCH CABLE  \n",
       "28479  BAJAJ DISCOVER 125              12805        OIL FILTER  \n",
       "28480  BAJAJ DISCOVER 125              12805          DISC OIL  \n",
       "28481  BAJAJ DISCOVER 125              12805        AIR FILTER  "
      ]
     },
     "execution_count": 7,
     "metadata": {},
     "output_type": "execute_result"
    }
   ],
   "source": [
    "data.tail() # last 5 rows od data"
   ]
  },
  {
   "cell_type": "code",
   "execution_count": 6,
   "id": "0a98bbe5-2c5a-4a7d-b9d3-be1ce5cba85d",
   "metadata": {},
   "outputs": [
    {
     "data": {
      "text/plain": [
       "Index(['invoice_date', 'job_card_date', 'business_partner_name', 'vehicle_no',\n",
       "       'vehicle_model', 'current_km_reading', 'invoice_line_text'],\n",
       "      dtype='object')"
      ]
     },
     "execution_count": 6,
     "metadata": {},
     "output_type": "execute_result"
    }
   ],
   "source": [
    "# columns\n",
    "data.columns"
   ]
  },
  {
   "cell_type": "code",
   "execution_count": 8,
   "id": "9e532d74-c2f4-4704-9217-52380e5da634",
   "metadata": {},
   "outputs": [
    {
     "name": "stdout",
     "output_type": "stream",
     "text": [
      "<class 'pandas.core.frame.DataFrame'>\n",
      "RangeIndex: 28482 entries, 0 to 28481\n",
      "Data columns (total 7 columns):\n",
      " #   Column                 Non-Null Count  Dtype \n",
      "---  ------                 --------------  ----- \n",
      " 0   invoice_date           28482 non-null  object\n",
      " 1   job_card_date          28482 non-null  object\n",
      " 2   business_partner_name  28482 non-null  object\n",
      " 3   vehicle_no             28482 non-null  object\n",
      " 4   vehicle_model          28482 non-null  object\n",
      " 5   current_km_reading     28482 non-null  object\n",
      " 6   invoice_line_text      28476 non-null  object\n",
      "dtypes: object(7)\n",
      "memory usage: 1.5+ MB\n"
     ]
    }
   ],
   "source": [
    "data.info()  # total no. of rows, columns, data types,etc"
   ]
  },
  {
   "cell_type": "code",
   "execution_count": 9,
   "id": "27f9c448-6f7f-4cc6-b5cc-88e3fdc4454c",
   "metadata": {},
   "outputs": [],
   "source": [
    "## here we can see the only 6 rows have null values.\n",
    "## If only a small percentage of the dataset contains null values (e.g.,less than 5%),so we can drop the rows with null values. "
   ]
  },
  {
   "cell_type": "code",
   "execution_count": 10,
   "id": "34b7b1a9-b91f-4116-b85e-607330383eb2",
   "metadata": {},
   "outputs": [
    {
     "data": {
      "text/plain": [
       "invoice_date             0\n",
       "job_card_date            0\n",
       "business_partner_name    0\n",
       "vehicle_no               0\n",
       "vehicle_model            0\n",
       "current_km_reading       0\n",
       "invoice_line_text        6\n",
       "dtype: int64"
      ]
     },
     "execution_count": 10,
     "metadata": {},
     "output_type": "execute_result"
    }
   ],
   "source": [
    "# Handling nulls\n",
    "data.isnull().sum()\n"
   ]
  },
  {
   "cell_type": "code",
   "execution_count": 11,
   "id": "3db0b360-c4bc-482c-9be5-b703a0b3d5be",
   "metadata": {},
   "outputs": [],
   "source": [
    "data = data[pd.notnull(data.invoice_line_text)].reset_index(drop=True)  ## null values dropped"
   ]
  },
  {
   "cell_type": "code",
   "execution_count": 12,
   "id": "565218c3-d752-44d6-a9e3-836740440c12",
   "metadata": {},
   "outputs": [
    {
     "data": {
      "text/html": [
       "<div>\n",
       "<style scoped>\n",
       "    .dataframe tbody tr th:only-of-type {\n",
       "        vertical-align: middle;\n",
       "    }\n",
       "\n",
       "    .dataframe tbody tr th {\n",
       "        vertical-align: top;\n",
       "    }\n",
       "\n",
       "    .dataframe thead th {\n",
       "        text-align: right;\n",
       "    }\n",
       "</style>\n",
       "<table border=\"1\" class=\"dataframe\">\n",
       "  <thead>\n",
       "    <tr style=\"text-align: right;\">\n",
       "      <th></th>\n",
       "      <th>invoice_date</th>\n",
       "      <th>job_card_date</th>\n",
       "      <th>business_partner_name</th>\n",
       "      <th>vehicle_no</th>\n",
       "      <th>vehicle_model</th>\n",
       "      <th>current_km_reading</th>\n",
       "      <th>invoice_line_text</th>\n",
       "    </tr>\n",
       "  </thead>\n",
       "  <tbody>\n",
       "    <tr>\n",
       "      <th>0</th>\n",
       "      <td>30-05-17</td>\n",
       "      <td>30-05-17</td>\n",
       "      <td>shivXXXXXXXXXX</td>\n",
       "      <td>KA03MFXXXX</td>\n",
       "      <td>BAJAJ AVENGER STREET 220</td>\n",
       "      <td>50000</td>\n",
       "      <td>ENGINE OIL</td>\n",
       "    </tr>\n",
       "    <tr>\n",
       "      <th>1</th>\n",
       "      <td>02-06-17</td>\n",
       "      <td>31-05-17</td>\n",
       "      <td>KIRAXXXXXXXXXX</td>\n",
       "      <td>KA53ESXXXX</td>\n",
       "      <td>BAJAJ PULSAR NS 200</td>\n",
       "      <td>758</td>\n",
       "      <td>ENGINE OIL</td>\n",
       "    </tr>\n",
       "    <tr>\n",
       "      <th>2</th>\n",
       "      <td>02-06-17</td>\n",
       "      <td>31-05-17</td>\n",
       "      <td>KIRAXXXXXXXXXX</td>\n",
       "      <td>KA53ESXXXX</td>\n",
       "      <td>BAJAJ PULSAR NS 200</td>\n",
       "      <td>758</td>\n",
       "      <td>POLISH</td>\n",
       "    </tr>\n",
       "    <tr>\n",
       "      <th>3</th>\n",
       "      <td>02-06-17</td>\n",
       "      <td>31-05-17</td>\n",
       "      <td>KIRAXXXXXXXXXX</td>\n",
       "      <td>KA53ESXXXX</td>\n",
       "      <td>BAJAJ PULSAR NS 200</td>\n",
       "      <td>758</td>\n",
       "      <td>CONSUMABLES</td>\n",
       "    </tr>\n",
       "    <tr>\n",
       "      <th>4</th>\n",
       "      <td>02-06-17</td>\n",
       "      <td>31-05-17</td>\n",
       "      <td>KIRAXXXXXXXXXX</td>\n",
       "      <td>KA53ESXXXX</td>\n",
       "      <td>BAJAJ PULSAR NS 200</td>\n",
       "      <td>758</td>\n",
       "      <td>COOLANT OIL</td>\n",
       "    </tr>\n",
       "    <tr>\n",
       "      <th>...</th>\n",
       "      <td>...</td>\n",
       "      <td>...</td>\n",
       "      <td>...</td>\n",
       "      <td>...</td>\n",
       "      <td>...</td>\n",
       "      <td>...</td>\n",
       "      <td>...</td>\n",
       "    </tr>\n",
       "    <tr>\n",
       "      <th>28471</th>\n",
       "      <td>06-01-19</td>\n",
       "      <td>06-01-19</td>\n",
       "      <td>pravXXXXXXXXXX</td>\n",
       "      <td>KA53EVXXXX</td>\n",
       "      <td>BAJAJ DISCOVER 125</td>\n",
       "      <td>12805</td>\n",
       "      <td>SPROCKET RUBBER</td>\n",
       "    </tr>\n",
       "    <tr>\n",
       "      <th>28472</th>\n",
       "      <td>06-01-19</td>\n",
       "      <td>06-01-19</td>\n",
       "      <td>pravXXXXXXXXXX</td>\n",
       "      <td>KA53EVXXXX</td>\n",
       "      <td>BAJAJ DISCOVER 125</td>\n",
       "      <td>12805</td>\n",
       "      <td>CLUTCH CABLE</td>\n",
       "    </tr>\n",
       "    <tr>\n",
       "      <th>28473</th>\n",
       "      <td>06-01-19</td>\n",
       "      <td>06-01-19</td>\n",
       "      <td>pravXXXXXXXXXX</td>\n",
       "      <td>KA53EVXXXX</td>\n",
       "      <td>BAJAJ DISCOVER 125</td>\n",
       "      <td>12805</td>\n",
       "      <td>OIL FILTER</td>\n",
       "    </tr>\n",
       "    <tr>\n",
       "      <th>28474</th>\n",
       "      <td>06-01-19</td>\n",
       "      <td>06-01-19</td>\n",
       "      <td>pravXXXXXXXXXX</td>\n",
       "      <td>KA53EVXXXX</td>\n",
       "      <td>BAJAJ DISCOVER 125</td>\n",
       "      <td>12805</td>\n",
       "      <td>DISC OIL</td>\n",
       "    </tr>\n",
       "    <tr>\n",
       "      <th>28475</th>\n",
       "      <td>06-01-19</td>\n",
       "      <td>06-01-19</td>\n",
       "      <td>pravXXXXXXXXXX</td>\n",
       "      <td>KA53EVXXXX</td>\n",
       "      <td>BAJAJ DISCOVER 125</td>\n",
       "      <td>12805</td>\n",
       "      <td>AIR FILTER</td>\n",
       "    </tr>\n",
       "  </tbody>\n",
       "</table>\n",
       "<p>28476 rows × 7 columns</p>\n",
       "</div>"
      ],
      "text/plain": [
       "      invoice_date job_card_date business_partner_name  vehicle_no  \\\n",
       "0         30-05-17      30-05-17        shivXXXXXXXXXX  KA03MFXXXX   \n",
       "1         02-06-17      31-05-17        KIRAXXXXXXXXXX  KA53ESXXXX   \n",
       "2         02-06-17      31-05-17        KIRAXXXXXXXXXX  KA53ESXXXX   \n",
       "3         02-06-17      31-05-17        KIRAXXXXXXXXXX  KA53ESXXXX   \n",
       "4         02-06-17      31-05-17        KIRAXXXXXXXXXX  KA53ESXXXX   \n",
       "...            ...           ...                   ...         ...   \n",
       "28471     06-01-19      06-01-19        pravXXXXXXXXXX  KA53EVXXXX   \n",
       "28472     06-01-19      06-01-19        pravXXXXXXXXXX  KA53EVXXXX   \n",
       "28473     06-01-19      06-01-19        pravXXXXXXXXXX  KA53EVXXXX   \n",
       "28474     06-01-19      06-01-19        pravXXXXXXXXXX  KA53EVXXXX   \n",
       "28475     06-01-19      06-01-19        pravXXXXXXXXXX  KA53EVXXXX   \n",
       "\n",
       "                  vehicle_model current_km_reading invoice_line_text  \n",
       "0      BAJAJ AVENGER STREET 220              50000        ENGINE OIL  \n",
       "1           BAJAJ PULSAR NS 200                758        ENGINE OIL  \n",
       "2           BAJAJ PULSAR NS 200                758            POLISH  \n",
       "3           BAJAJ PULSAR NS 200                758       CONSUMABLES  \n",
       "4           BAJAJ PULSAR NS 200                758       COOLANT OIL  \n",
       "...                         ...                ...               ...  \n",
       "28471        BAJAJ DISCOVER 125              12805   SPROCKET RUBBER  \n",
       "28472        BAJAJ DISCOVER 125              12805      CLUTCH CABLE  \n",
       "28473        BAJAJ DISCOVER 125              12805        OIL FILTER  \n",
       "28474        BAJAJ DISCOVER 125              12805          DISC OIL  \n",
       "28475        BAJAJ DISCOVER 125              12805        AIR FILTER  \n",
       "\n",
       "[28476 rows x 7 columns]"
      ]
     },
     "execution_count": 12,
     "metadata": {},
     "output_type": "execute_result"
    }
   ],
   "source": [
    "data"
   ]
  },
  {
   "cell_type": "code",
   "execution_count": 11,
   "id": "2659adf2-8daa-4c19-9ae3-8da3e77ae155",
   "metadata": {},
   "outputs": [
    {
     "data": {
      "text/plain": [
       "invoice_date             0\n",
       "job_card_date            0\n",
       "business_partner_name    0\n",
       "vehicle_no               0\n",
       "vehicle_model            0\n",
       "current_km_reading       0\n",
       "invoice_line_text        0\n",
       "dtype: int64"
      ]
     },
     "execution_count": 11,
     "metadata": {},
     "output_type": "execute_result"
    }
   ],
   "source": [
    "data.isnull().sum()"
   ]
  },
  {
   "cell_type": "code",
   "execution_count": 13,
   "id": "e92c53c1-0bb7-4241-b24b-aac001757c2b",
   "metadata": {},
   "outputs": [
    {
     "data": {
      "text/html": [
       "<div>\n",
       "<style scoped>\n",
       "    .dataframe tbody tr th:only-of-type {\n",
       "        vertical-align: middle;\n",
       "    }\n",
       "\n",
       "    .dataframe tbody tr th {\n",
       "        vertical-align: top;\n",
       "    }\n",
       "\n",
       "    .dataframe thead th {\n",
       "        text-align: right;\n",
       "    }\n",
       "</style>\n",
       "<table border=\"1\" class=\"dataframe\">\n",
       "  <thead>\n",
       "    <tr style=\"text-align: right;\">\n",
       "      <th></th>\n",
       "      <th>invoice_date</th>\n",
       "      <th>job_card_date</th>\n",
       "      <th>business_partner_name</th>\n",
       "      <th>vehicle_no</th>\n",
       "      <th>vehicle_model</th>\n",
       "      <th>current_km_reading</th>\n",
       "      <th>invoice_line_text</th>\n",
       "    </tr>\n",
       "  </thead>\n",
       "  <tbody>\n",
       "    <tr>\n",
       "      <th>count</th>\n",
       "      <td>28476</td>\n",
       "      <td>28476</td>\n",
       "      <td>28476</td>\n",
       "      <td>28476</td>\n",
       "      <td>28476</td>\n",
       "      <td>28476</td>\n",
       "      <td>28476</td>\n",
       "    </tr>\n",
       "    <tr>\n",
       "      <th>unique</th>\n",
       "      <td>555</td>\n",
       "      <td>553</td>\n",
       "      <td>1010</td>\n",
       "      <td>846</td>\n",
       "      <td>28</td>\n",
       "      <td>3474</td>\n",
       "      <td>503</td>\n",
       "    </tr>\n",
       "    <tr>\n",
       "      <th>top</th>\n",
       "      <td>01-12-18</td>\n",
       "      <td>01-12-18</td>\n",
       "      <td>venkXXXXXXXXXX</td>\n",
       "      <td>KA53EVXXXX</td>\n",
       "      <td>BAJAJ PULSAR 150</td>\n",
       "      <td>0</td>\n",
       "      <td>ENGINE OIL</td>\n",
       "    </tr>\n",
       "    <tr>\n",
       "      <th>freq</th>\n",
       "      <td>179</td>\n",
       "      <td>179</td>\n",
       "      <td>424</td>\n",
       "      <td>1313</td>\n",
       "      <td>8631</td>\n",
       "      <td>842</td>\n",
       "      <td>3802</td>\n",
       "    </tr>\n",
       "  </tbody>\n",
       "</table>\n",
       "</div>"
      ],
      "text/plain": [
       "       invoice_date job_card_date business_partner_name  vehicle_no  \\\n",
       "count         28476         28476                 28476       28476   \n",
       "unique          555           553                  1010         846   \n",
       "top        01-12-18      01-12-18        venkXXXXXXXXXX  KA53EVXXXX   \n",
       "freq            179           179                   424        1313   \n",
       "\n",
       "           vehicle_model current_km_reading invoice_line_text  \n",
       "count              28476              28476             28476  \n",
       "unique                28               3474               503  \n",
       "top     BAJAJ PULSAR 150                  0        ENGINE OIL  \n",
       "freq                8631                842              3802  "
      ]
     },
     "execution_count": 13,
     "metadata": {},
     "output_type": "execute_result"
    }
   ],
   "source": [
    "data.describe() ## stastitical analysis of dataset"
   ]
  },
  {
   "cell_type": "code",
   "execution_count": null,
   "id": "e4930d90-3fad-473a-8eba-d88a2edd2b41",
   "metadata": {},
   "outputs": [],
   "source": [
    "## top value gives the max. occurance of data.\n",
    "## freq gives the total no.of occurance.\n",
    "## we can see some vehical have 0 km distance driven."
   ]
  },
  {
   "cell_type": "markdown",
   "id": "45bd09d5-4ea6-4484-bbe0-7e93d6082ad6",
   "metadata": {},
   "source": [
    "#### Checking and Handling of outliers"
   ]
  },
  {
   "cell_type": "code",
   "execution_count": 15,
   "id": "ce14e177-4d3b-474b-842f-97308ffa01d1",
   "metadata": {},
   "outputs": [],
   "source": [
    "## First we have convert datatypes of column"
   ]
  },
  {
   "cell_type": "code",
   "execution_count": 16,
   "id": "ac65431e-2540-460f-ba0a-65f49cc43d27",
   "metadata": {},
   "outputs": [],
   "source": [
    "data['current_km_reading']=pd.to_numeric(data['current_km_reading'], errors='coerce')"
   ]
  },
  {
   "cell_type": "code",
   "execution_count": 17,
   "id": "241d6de4-d1dd-494d-8259-88064caf9637",
   "metadata": {},
   "outputs": [
    {
     "data": {
      "image/png": "[encoded data removed]",
      "text/plain": [
       "<Figure size 1000x700 with 1 Axes>"
      ]
     },
     "metadata": {},
     "output_type": "display_data"
    }
   ],
   "source": [
    "fig = plt.figure(figsize =(10, 7))\n",
    "\n",
    "# Creating plot\n",
    "plt.boxplot(data.current_km_reading)\n",
    "plt.title(\"current_km_reading\")\n",
    "# show plot\n",
    "plt.show()\n"
   ]
  },
  {
   "cell_type": "markdown",
   "id": "582d8b30-e447-4c7a-ad8f-0d8fbeb4c58e",
   "metadata": {},
   "source": [
    "### Note: Normally bikes can't exceed 100,000 km.\r\n"
   ]
  },
  {
   "cell_type": "code",
   "execution_count": 18,
   "id": "1c74afd3-b594-4a43-849c-b13918ebe4fa",
   "metadata": {},
   "outputs": [
    {
     "data": {
      "text/plain": [
       "35"
      ]
     },
     "execution_count": 18,
     "metadata": {},
     "output_type": "execute_result"
    }
   ],
   "source": [
    "data[data.current_km_reading > 100000].shape[0]\n"
   ]
  },
  {
   "cell_type": "code",
   "execution_count": 19,
   "id": "c3a67119-bf2a-4878-88ae-3b89784aa238",
   "metadata": {},
   "outputs": [
    {
     "data": {
      "text/plain": [
       "(28441, 7)"
      ]
     },
     "execution_count": 19,
     "metadata": {},
     "output_type": "execute_result"
    }
   ],
   "source": [
    "# removing outliers\n",
    "data = data[data.current_km_reading <= 100000].reset_index(drop=True)\n",
    "data.shape\n"
   ]
  },
  {
   "cell_type": "code",
   "execution_count": 17,
   "id": "9353874b-fbd1-48bb-9145-e6481929d02a",
   "metadata": {},
   "outputs": [
    {
     "data": {
      "text/plain": [
       "Index(['invoice_date', 'job_card_date', 'business_partner_name', 'vehicle_no',\n",
       "       'vehicle_model', 'current_km_reading', 'invoice_line_text'],\n",
       "      dtype='object')"
      ]
     },
     "execution_count": 17,
     "metadata": {},
     "output_type": "execute_result"
    }
   ],
   "source": [
    "data.columns"
   ]
  },
  {
   "cell_type": "code",
   "execution_count": 18,
   "id": "d304c8f5-ff92-4232-97ee-95d0ec270511",
   "metadata": {},
   "outputs": [
    {
     "data": {
      "text/plain": [
       "(28441, 3)"
      ]
     },
     "execution_count": 18,
     "metadata": {},
     "output_type": "execute_result"
    }
   ],
   "source": [
    "# dropping redundant columns ['invoice_date', 'business_partner_name', 'vehicle_no','current_km_reading']\n",
    "data = data[['job_card_date', 'vehicle_model', 'invoice_line_text']]\n",
    "data.shape\n"
   ]
  },
  {
   "cell_type": "code",
   "execution_count": 19,
   "id": "4e39a032-e4b9-4da7-8d5b-b0d566ec5aa8",
   "metadata": {},
   "outputs": [
    {
     "data": {
      "text/html": [
       "<div>\n",
       "<style scoped>\n",
       "    .dataframe tbody tr th:only-of-type {\n",
       "        vertical-align: middle;\n",
       "    }\n",
       "\n",
       "    .dataframe tbody tr th {\n",
       "        vertical-align: top;\n",
       "    }\n",
       "\n",
       "    .dataframe thead th {\n",
       "        text-align: right;\n",
       "    }\n",
       "</style>\n",
       "<table border=\"1\" class=\"dataframe\">\n",
       "  <thead>\n",
       "    <tr style=\"text-align: right;\">\n",
       "      <th></th>\n",
       "      <th>job_card_date</th>\n",
       "      <th>vehicle_model</th>\n",
       "      <th>invoice_line_text</th>\n",
       "    </tr>\n",
       "  </thead>\n",
       "  <tbody>\n",
       "    <tr>\n",
       "      <th>0</th>\n",
       "      <td>30-05-17</td>\n",
       "      <td>BAJAJ AVENGER STREET 220</td>\n",
       "      <td>ENGINE OIL</td>\n",
       "    </tr>\n",
       "    <tr>\n",
       "      <th>1</th>\n",
       "      <td>31-05-17</td>\n",
       "      <td>BAJAJ PULSAR NS 200</td>\n",
       "      <td>ENGINE OIL</td>\n",
       "    </tr>\n",
       "    <tr>\n",
       "      <th>2</th>\n",
       "      <td>31-05-17</td>\n",
       "      <td>BAJAJ PULSAR NS 200</td>\n",
       "      <td>POLISH</td>\n",
       "    </tr>\n",
       "    <tr>\n",
       "      <th>3</th>\n",
       "      <td>31-05-17</td>\n",
       "      <td>BAJAJ PULSAR NS 200</td>\n",
       "      <td>CONSUMABLES</td>\n",
       "    </tr>\n",
       "    <tr>\n",
       "      <th>4</th>\n",
       "      <td>31-05-17</td>\n",
       "      <td>BAJAJ PULSAR NS 200</td>\n",
       "      <td>COOLANT OIL</td>\n",
       "    </tr>\n",
       "    <tr>\n",
       "      <th>...</th>\n",
       "      <td>...</td>\n",
       "      <td>...</td>\n",
       "      <td>...</td>\n",
       "    </tr>\n",
       "    <tr>\n",
       "      <th>28436</th>\n",
       "      <td>06-01-19</td>\n",
       "      <td>BAJAJ DISCOVER 125</td>\n",
       "      <td>SPROCKET RUBBER</td>\n",
       "    </tr>\n",
       "    <tr>\n",
       "      <th>28437</th>\n",
       "      <td>06-01-19</td>\n",
       "      <td>BAJAJ DISCOVER 125</td>\n",
       "      <td>CLUTCH CABLE</td>\n",
       "    </tr>\n",
       "    <tr>\n",
       "      <th>28438</th>\n",
       "      <td>06-01-19</td>\n",
       "      <td>BAJAJ DISCOVER 125</td>\n",
       "      <td>OIL FILTER</td>\n",
       "    </tr>\n",
       "    <tr>\n",
       "      <th>28439</th>\n",
       "      <td>06-01-19</td>\n",
       "      <td>BAJAJ DISCOVER 125</td>\n",
       "      <td>DISC OIL</td>\n",
       "    </tr>\n",
       "    <tr>\n",
       "      <th>28440</th>\n",
       "      <td>06-01-19</td>\n",
       "      <td>BAJAJ DISCOVER 125</td>\n",
       "      <td>AIR FILTER</td>\n",
       "    </tr>\n",
       "  </tbody>\n",
       "</table>\n",
       "<p>28441 rows × 3 columns</p>\n",
       "</div>"
      ],
      "text/plain": [
       "      job_card_date             vehicle_model invoice_line_text\n",
       "0          30-05-17  BAJAJ AVENGER STREET 220        ENGINE OIL\n",
       "1          31-05-17       BAJAJ PULSAR NS 200        ENGINE OIL\n",
       "2          31-05-17       BAJAJ PULSAR NS 200            POLISH\n",
       "3          31-05-17       BAJAJ PULSAR NS 200       CONSUMABLES\n",
       "4          31-05-17       BAJAJ PULSAR NS 200       COOLANT OIL\n",
       "...             ...                       ...               ...\n",
       "28436      06-01-19        BAJAJ DISCOVER 125   SPROCKET RUBBER\n",
       "28437      06-01-19        BAJAJ DISCOVER 125      CLUTCH CABLE\n",
       "28438      06-01-19        BAJAJ DISCOVER 125        OIL FILTER\n",
       "28439      06-01-19        BAJAJ DISCOVER 125          DISC OIL\n",
       "28440      06-01-19        BAJAJ DISCOVER 125        AIR FILTER\n",
       "\n",
       "[28441 rows x 3 columns]"
      ]
     },
     "execution_count": 19,
     "metadata": {},
     "output_type": "execute_result"
    }
   ],
   "source": [
    "data"
   ]
  },
  {
   "cell_type": "code",
   "execution_count": 20,
   "id": "7b417c38-b15d-494c-8f9e-f7b0d8bda844",
   "metadata": {},
   "outputs": [
    {
     "data": {
      "text/html": [
       "<div>\n",
       "<style scoped>\n",
       "    .dataframe tbody tr th:only-of-type {\n",
       "        vertical-align: middle;\n",
       "    }\n",
       "\n",
       "    .dataframe tbody tr th {\n",
       "        vertical-align: top;\n",
       "    }\n",
       "\n",
       "    .dataframe thead th {\n",
       "        text-align: right;\n",
       "    }\n",
       "</style>\n",
       "<table border=\"1\" class=\"dataframe\">\n",
       "  <thead>\n",
       "    <tr style=\"text-align: right;\">\n",
       "      <th></th>\n",
       "      <th>job_card_date</th>\n",
       "      <th>vehicle_model</th>\n",
       "      <th>invoice_line_text</th>\n",
       "    </tr>\n",
       "  </thead>\n",
       "  <tbody>\n",
       "    <tr>\n",
       "      <th>0</th>\n",
       "      <td>30-05-17</td>\n",
       "      <td>BAJAJ AVENGER STREET 220</td>\n",
       "      <td>ENGINE OIL</td>\n",
       "    </tr>\n",
       "    <tr>\n",
       "      <th>1</th>\n",
       "      <td>31-05-17</td>\n",
       "      <td>BAJAJ PULSAR NS 200</td>\n",
       "      <td>ENGINE OIL</td>\n",
       "    </tr>\n",
       "    <tr>\n",
       "      <th>2</th>\n",
       "      <td>31-05-17</td>\n",
       "      <td>BAJAJ PULSAR NS 200</td>\n",
       "      <td>POLISH</td>\n",
       "    </tr>\n",
       "    <tr>\n",
       "      <th>3</th>\n",
       "      <td>31-05-17</td>\n",
       "      <td>BAJAJ PULSAR NS 200</td>\n",
       "      <td>CONSUMABLES</td>\n",
       "    </tr>\n",
       "    <tr>\n",
       "      <th>4</th>\n",
       "      <td>31-05-17</td>\n",
       "      <td>BAJAJ PULSAR NS 200</td>\n",
       "      <td>COOLANT OIL</td>\n",
       "    </tr>\n",
       "    <tr>\n",
       "      <th>...</th>\n",
       "      <td>...</td>\n",
       "      <td>...</td>\n",
       "      <td>...</td>\n",
       "    </tr>\n",
       "    <tr>\n",
       "      <th>28436</th>\n",
       "      <td>06-01-19</td>\n",
       "      <td>BAJAJ DISCOVER 125</td>\n",
       "      <td>SPROCKET RUBBER</td>\n",
       "    </tr>\n",
       "    <tr>\n",
       "      <th>28437</th>\n",
       "      <td>06-01-19</td>\n",
       "      <td>BAJAJ DISCOVER 125</td>\n",
       "      <td>CLUTCH CABLE</td>\n",
       "    </tr>\n",
       "    <tr>\n",
       "      <th>28438</th>\n",
       "      <td>06-01-19</td>\n",
       "      <td>BAJAJ DISCOVER 125</td>\n",
       "      <td>OIL FILTER</td>\n",
       "    </tr>\n",
       "    <tr>\n",
       "      <th>28439</th>\n",
       "      <td>06-01-19</td>\n",
       "      <td>BAJAJ DISCOVER 125</td>\n",
       "      <td>DISC OIL</td>\n",
       "    </tr>\n",
       "    <tr>\n",
       "      <th>28440</th>\n",
       "      <td>06-01-19</td>\n",
       "      <td>BAJAJ DISCOVER 125</td>\n",
       "      <td>AIR FILTER</td>\n",
       "    </tr>\n",
       "  </tbody>\n",
       "</table>\n",
       "<p>28441 rows × 3 columns</p>\n",
       "</div>"
      ],
      "text/plain": [
       "      job_card_date             vehicle_model invoice_line_text\n",
       "0          30-05-17  BAJAJ AVENGER STREET 220        ENGINE OIL\n",
       "1          31-05-17       BAJAJ PULSAR NS 200        ENGINE OIL\n",
       "2          31-05-17       BAJAJ PULSAR NS 200            POLISH\n",
       "3          31-05-17       BAJAJ PULSAR NS 200       CONSUMABLES\n",
       "4          31-05-17       BAJAJ PULSAR NS 200       COOLANT OIL\n",
       "...             ...                       ...               ...\n",
       "28436      06-01-19        BAJAJ DISCOVER 125   SPROCKET RUBBER\n",
       "28437      06-01-19        BAJAJ DISCOVER 125      CLUTCH CABLE\n",
       "28438      06-01-19        BAJAJ DISCOVER 125        OIL FILTER\n",
       "28439      06-01-19        BAJAJ DISCOVER 125          DISC OIL\n",
       "28440      06-01-19        BAJAJ DISCOVER 125        AIR FILTER\n",
       "\n",
       "[28441 rows x 3 columns]"
      ]
     },
     "execution_count": 20,
     "metadata": {},
     "output_type": "execute_result"
    }
   ],
   "source": [
    "data"
   ]
  },
  {
   "cell_type": "markdown",
   "id": "78f1dee0-6b6b-4c86-aeec-1763bbb709aa",
   "metadata": {},
   "source": [
    "#### To check the total count of data of the invoice_line_text with respect to vehicle_model, we will group by these two columns"
   ]
  },
  {
   "cell_type": "code",
   "execution_count": 21,
   "id": "48152621-f57c-4391-ad9d-def70c414af5",
   "metadata": {},
   "outputs": [
    {
     "data": {
      "text/html": [
       "<div>\n",
       "<style scoped>\n",
       "    .dataframe tbody tr th:only-of-type {\n",
       "        vertical-align: middle;\n",
       "    }\n",
       "\n",
       "    .dataframe tbody tr th {\n",
       "        vertical-align: top;\n",
       "    }\n",
       "\n",
       "    .dataframe thead th {\n",
       "        text-align: right;\n",
       "    }\n",
       "</style>\n",
       "<table border=\"1\" class=\"dataframe\">\n",
       "  <thead>\n",
       "    <tr style=\"text-align: right;\">\n",
       "      <th></th>\n",
       "      <th>vehicle_model</th>\n",
       "      <th>count</th>\n",
       "    </tr>\n",
       "  </thead>\n",
       "  <tbody>\n",
       "    <tr>\n",
       "      <th>12</th>\n",
       "      <td>BAJAJ PULSAR 150</td>\n",
       "      <td>8616</td>\n",
       "    </tr>\n",
       "    <tr>\n",
       "      <th>2</th>\n",
       "      <td>BAJAJ AVENGER STREET 220</td>\n",
       "      <td>4212</td>\n",
       "    </tr>\n",
       "    <tr>\n",
       "      <th>14</th>\n",
       "      <td>BAJAJ PULSAR 220</td>\n",
       "      <td>2655</td>\n",
       "    </tr>\n",
       "    <tr>\n",
       "      <th>13</th>\n",
       "      <td>BAJAJ PULSAR 180</td>\n",
       "      <td>2252</td>\n",
       "    </tr>\n",
       "    <tr>\n",
       "      <th>18</th>\n",
       "      <td>BAJAJ PULSAR NS 200</td>\n",
       "      <td>2204</td>\n",
       "    </tr>\n",
       "    <tr>\n",
       "      <th>5</th>\n",
       "      <td>BAJAJ CT 100</td>\n",
       "      <td>1432</td>\n",
       "    </tr>\n",
       "    <tr>\n",
       "      <th>7</th>\n",
       "      <td>BAJAJ DISCOVER 125</td>\n",
       "      <td>1346</td>\n",
       "    </tr>\n",
       "    <tr>\n",
       "      <th>0</th>\n",
       "      <td>BAJAJ AVENGER STREET</td>\n",
       "      <td>1111</td>\n",
       "    </tr>\n",
       "    <tr>\n",
       "      <th>11</th>\n",
       "      <td>BAJAJ PLATINA</td>\n",
       "      <td>844</td>\n",
       "    </tr>\n",
       "    <tr>\n",
       "      <th>23</th>\n",
       "      <td>BAJAJ V150</td>\n",
       "      <td>686</td>\n",
       "    </tr>\n",
       "    <tr>\n",
       "      <th>6</th>\n",
       "      <td>BAJAJ DISCOVER</td>\n",
       "      <td>672</td>\n",
       "    </tr>\n",
       "    <tr>\n",
       "      <th>16</th>\n",
       "      <td>BAJAJ PULSAR LS135</td>\n",
       "      <td>517</td>\n",
       "    </tr>\n",
       "    <tr>\n",
       "      <th>15</th>\n",
       "      <td>BAJAJ PULSAR AS 200</td>\n",
       "      <td>421</td>\n",
       "    </tr>\n",
       "    <tr>\n",
       "      <th>17</th>\n",
       "      <td>BAJAJ PULSAR NS 160</td>\n",
       "      <td>364</td>\n",
       "    </tr>\n",
       "    <tr>\n",
       "      <th>19</th>\n",
       "      <td>BAJAJ PULSAR RS 200</td>\n",
       "      <td>322</td>\n",
       "    </tr>\n",
       "    <tr>\n",
       "      <th>9</th>\n",
       "      <td>BAJAJ DISCOVER 150</td>\n",
       "      <td>282</td>\n",
       "    </tr>\n",
       "    <tr>\n",
       "      <th>1</th>\n",
       "      <td>BAJAJ AVENGER STREET 180</td>\n",
       "      <td>122</td>\n",
       "    </tr>\n",
       "    <tr>\n",
       "      <th>8</th>\n",
       "      <td>BAJAJ DISCOVER 135</td>\n",
       "      <td>106</td>\n",
       "    </tr>\n",
       "    <tr>\n",
       "      <th>21</th>\n",
       "      <td>BAJAJ V125</td>\n",
       "      <td>95</td>\n",
       "    </tr>\n",
       "    <tr>\n",
       "      <th>20</th>\n",
       "      <td>BAJAJ V</td>\n",
       "      <td>52</td>\n",
       "    </tr>\n",
       "    <tr>\n",
       "      <th>4</th>\n",
       "      <td>BAJAJ CALIBER</td>\n",
       "      <td>40</td>\n",
       "    </tr>\n",
       "    <tr>\n",
       "      <th>25</th>\n",
       "      <td>BAJAJ XCD 125</td>\n",
       "      <td>27</td>\n",
       "    </tr>\n",
       "    <tr>\n",
       "      <th>22</th>\n",
       "      <td>BAJAJ V15</td>\n",
       "      <td>23</td>\n",
       "    </tr>\n",
       "    <tr>\n",
       "      <th>26</th>\n",
       "      <td>BAJAJ XCD 135</td>\n",
       "      <td>13</td>\n",
       "    </tr>\n",
       "    <tr>\n",
       "      <th>27</th>\n",
       "      <td>WAVE</td>\n",
       "      <td>10</td>\n",
       "    </tr>\n",
       "    <tr>\n",
       "      <th>10</th>\n",
       "      <td>BAJAJ DOMINAR 400 ABS</td>\n",
       "      <td>7</td>\n",
       "    </tr>\n",
       "    <tr>\n",
       "      <th>24</th>\n",
       "      <td>BAJAJ WIND 125</td>\n",
       "      <td>6</td>\n",
       "    </tr>\n",
       "    <tr>\n",
       "      <th>3</th>\n",
       "      <td>BAJAJ BOXER CT</td>\n",
       "      <td>4</td>\n",
       "    </tr>\n",
       "  </tbody>\n",
       "</table>\n",
       "</div>"
      ],
      "text/plain": [
       "               vehicle_model  count\n",
       "12          BAJAJ PULSAR 150   8616\n",
       "2   BAJAJ AVENGER STREET 220   4212\n",
       "14          BAJAJ PULSAR 220   2655\n",
       "13          BAJAJ PULSAR 180   2252\n",
       "18       BAJAJ PULSAR NS 200   2204\n",
       "5               BAJAJ CT 100   1432\n",
       "7         BAJAJ DISCOVER 125   1346\n",
       "0       BAJAJ AVENGER STREET   1111\n",
       "11             BAJAJ PLATINA    844\n",
       "23                BAJAJ V150    686\n",
       "6             BAJAJ DISCOVER    672\n",
       "16        BAJAJ PULSAR LS135    517\n",
       "15       BAJAJ PULSAR AS 200    421\n",
       "17       BAJAJ PULSAR NS 160    364\n",
       "19       BAJAJ PULSAR RS 200    322\n",
       "9         BAJAJ DISCOVER 150    282\n",
       "1   BAJAJ AVENGER STREET 180    122\n",
       "8         BAJAJ DISCOVER 135    106\n",
       "21                BAJAJ V125     95\n",
       "20                   BAJAJ V     52\n",
       "4              BAJAJ CALIBER     40\n",
       "25             BAJAJ XCD 125     27\n",
       "22                 BAJAJ V15     23\n",
       "26             BAJAJ XCD 135     13\n",
       "27                      WAVE     10\n",
       "10     BAJAJ DOMINAR 400 ABS      7\n",
       "24            BAJAJ WIND 125      6\n",
       "3             BAJAJ BOXER CT      4"
      ]
     },
     "execution_count": 21,
     "metadata": {},
     "output_type": "execute_result"
    }
   ],
   "source": [
    "grouped_data = data.groupby(['vehicle_model'])['invoice_line_text'].count().reset_index()\n",
    "grouped_data.rename(columns={'invoice_line_text': 'count'}, inplace=True)\n",
    "grouped_data = grouped_data.sort_values(by='count', ascending=False)\n",
    "grouped_data\n"
   ]
  },
  {
   "cell_type": "markdown",
   "id": "6e5cba64-c9b1-4c68-83d9-d3ad58c7d9e9",
   "metadata": {},
   "source": [
    "#### To check the total count of data of the vehicle_model with respect to invoive_line_text, we will group by these two columns"
   ]
  },
  {
   "cell_type": "code",
   "execution_count": 22,
   "id": "cb1cc666-17bb-4d40-bd40-87deb3e68bbc",
   "metadata": {},
   "outputs": [
    {
     "data": {
      "text/html": [
       "<div>\n",
       "<style scoped>\n",
       "    .dataframe tbody tr th:only-of-type {\n",
       "        vertical-align: middle;\n",
       "    }\n",
       "\n",
       "    .dataframe tbody tr th {\n",
       "        vertical-align: top;\n",
       "    }\n",
       "\n",
       "    .dataframe thead th {\n",
       "        text-align: right;\n",
       "    }\n",
       "</style>\n",
       "<table border=\"1\" class=\"dataframe\">\n",
       "  <thead>\n",
       "    <tr style=\"text-align: right;\">\n",
       "      <th></th>\n",
       "      <th>invoice_line_text</th>\n",
       "      <th>count</th>\n",
       "    </tr>\n",
       "  </thead>\n",
       "  <tbody>\n",
       "    <tr>\n",
       "      <th>149</th>\n",
       "      <td>ENGINE OIL</td>\n",
       "      <td>3799</td>\n",
       "    </tr>\n",
       "    <tr>\n",
       "      <th>77</th>\n",
       "      <td>CHAIN LUBRICATION</td>\n",
       "      <td>3437</td>\n",
       "    </tr>\n",
       "    <tr>\n",
       "      <th>210</th>\n",
       "      <td>GENERAL SERVICE</td>\n",
       "      <td>2136</td>\n",
       "    </tr>\n",
       "    <tr>\n",
       "      <th>11</th>\n",
       "      <td>AIR FILTER</td>\n",
       "      <td>1713</td>\n",
       "    </tr>\n",
       "    <tr>\n",
       "      <th>3</th>\n",
       "      <td>3M OIL</td>\n",
       "      <td>1628</td>\n",
       "    </tr>\n",
       "    <tr>\n",
       "      <th>...</th>\n",
       "      <td>...</td>\n",
       "      <td>...</td>\n",
       "    </tr>\n",
       "    <tr>\n",
       "      <th>266</th>\n",
       "      <td>KICKER RUBBER</td>\n",
       "      <td>1</td>\n",
       "    </tr>\n",
       "    <tr>\n",
       "      <th>273</th>\n",
       "      <td>LEVER BOLT</td>\n",
       "      <td>1</td>\n",
       "    </tr>\n",
       "    <tr>\n",
       "      <th>274</th>\n",
       "      <td>LEVER RUBBER</td>\n",
       "      <td>1</td>\n",
       "    </tr>\n",
       "    <tr>\n",
       "      <th>276</th>\n",
       "      <td>LIGHT FITTING CHARGE</td>\n",
       "      <td>1</td>\n",
       "    </tr>\n",
       "    <tr>\n",
       "      <th>502</th>\n",
       "      <td>tyre</td>\n",
       "      <td>1</td>\n",
       "    </tr>\n",
       "  </tbody>\n",
       "</table>\n",
       "<p>503 rows × 2 columns</p>\n",
       "</div>"
      ],
      "text/plain": [
       "        invoice_line_text  count\n",
       "149            ENGINE OIL   3799\n",
       "77      CHAIN LUBRICATION   3437\n",
       "210       GENERAL SERVICE   2136\n",
       "11             AIR FILTER   1713\n",
       "3                  3M OIL   1628\n",
       "..                    ...    ...\n",
       "266         KICKER RUBBER      1\n",
       "273            LEVER BOLT      1\n",
       "274          LEVER RUBBER      1\n",
       "276  LIGHT FITTING CHARGE      1\n",
       "502                  tyre      1\n",
       "\n",
       "[503 rows x 2 columns]"
      ]
     },
     "execution_count": 22,
     "metadata": {},
     "output_type": "execute_result"
    }
   ],
   "source": [
    "grouped_data = data.groupby(['invoice_line_text'])['vehicle_model'].count().reset_index()\n",
    "grouped_data.rename(columns={'vehicle_model': 'count'}, inplace=True)\n",
    "grouped_data = grouped_data.sort_values(by='count', ascending=False)\n",
    "grouped_data\n"
   ]
  },
  {
   "cell_type": "code",
   "execution_count": 23,
   "id": "8e04df8e-e0f0-4794-8f28-97be94bef8c4",
   "metadata": {},
   "outputs": [
    {
     "data": {
      "text/plain": [
       "503"
      ]
     },
     "execution_count": 23,
     "metadata": {},
     "output_type": "execute_result"
    }
   ],
   "source": [
    "data['invoice_line_text'].nunique()\n"
   ]
  },
  {
   "cell_type": "code",
   "execution_count": 24,
   "id": "0d8d988b-9f9a-488a-9fe3-27b26bf2c37b",
   "metadata": {},
   "outputs": [
    {
     "name": "stdout",
     "output_type": "stream",
     "text": [
      "'ENGINE OIL',\n",
      "'POLISH',\n",
      "'CONSUMABLES',\n",
      "'COOLANT OIL',\n",
      "'CHAIN LUBRICATION',\n",
      "'4 WAY SWITCH',\n",
      "'3M OIL',\n",
      "'GENERAL SERVICE',\n",
      "'OIL FILTER',\n",
      "'INDICATOR',\n",
      "'HEAD REST',\n",
      "'VALVE GUIDE',\n",
      "'TIMMING CHAIN',\n",
      "'FOOT REST',\n",
      "'LOW BEAM BULB',\n",
      "'VALVE GRAINDING',\n",
      "'DISC PAD',\n",
      "'LOADING GEAR',\n",
      "'PACKING KIT',\n",
      "'TIMMING CHAIN PAD',\n",
      "'TENSIONER',\n",
      "'CLUTCH BELL REST',\n",
      "'CLUTCH ASSEMBLY',\n",
      "'VALVE KIT',\n",
      "'SPARK PLUG',\n",
      "'ONE WAY CLUTCH',\n",
      "'BORE KIT',\n",
      "'AIR FILTER',\n",
      "'HEAD RUBBER',\n",
      "'CLUTCH CABLE',\n",
      "'CRANK SHAFT',\n",
      "'BRAKE ADJUSTMENT',\n",
      "'BRAKE SHOE',\n",
      "'AIR FILTER CHECKUP',\n",
      "'DRUM BOLT WASHER',\n",
      "'TANK CLEANING',\n",
      "'FORK BEND',\n",
      "'GEAR SHAFT',\n",
      "'CLUTCH COVER GASKET',\n",
      "'INDICATOR BULB',\n",
      "'GEAR LEVER',\n",
      "'HANDLEBAR',\n",
      "'CRASH GUARD',\n",
      "'FORK OIL SEAL',\n",
      "'FORK OIL',\n",
      "'SIDE SHIELD',\n",
      "'VISIOR',\n",
      "'FORK CONE SET',\n",
      "'HEAD LIGHT DOOM',\n",
      "'TANK ASSEMBLY',\n",
      "'Clutch cable',\n",
      "'DISC LEVER',\n",
      "'CARBURETOR CLEANING',\n",
      "'SEAT COVER',\n",
      "'BUZZER',\n",
      "'TAIL LAMP BULB',\n",
      "'DISC OIL',\n",
      "'DISC OVERHUAL',\n",
      "'MASTER ASSEMBLY',\n",
      "'CHAIN COVER RUBBER',\n",
      "'ENGINE GUARD',\n",
      "'CLUTCH CAM ',\n",
      "'DOOM',\n",
      "'WHEEL RUBBER',\n",
      "'TIMMING CHAIN OVERHUAL',\n",
      "'SERVICE',\n",
      "'FORK OVERHUAL',\n",
      "'bore kit',\n",
      "'ENGINE BEARING',\n",
      "'CRANK RESET',\n",
      "'CARBURETOR DIAPHRAGM RUBBER',\n",
      "'ENGINE LABOUR',\n",
      "'CLUTCH LEVER',\n",
      "'DRUM BOLT',\n",
      "'LOCK SET',\n",
      "'RIGHT SHIELD CAP',\n",
      "'SWITCH',\n",
      "'SHOCK ABSORBER',\n",
      "'STEP HOLDER',\n",
      "'ACCELATOR CABLE',\n",
      "'JALL SCREW',\n",
      "'TANK COVER',\n",
      "'CLUTCH OVERHUAL',\n",
      "'HANDLE LOCK',\n",
      "'GRIPPER',\n",
      "'PARKING BULB',\n",
      "'WIND SHIELD',\n",
      "'SPEEDOMETER CAP',\n",
      "'HEAD LIGHT STAY',\n",
      "'LABOUR',\n",
      "'CONE SET',\n",
      "'DOOM SCREW KIT',\n",
      "'DISK PAD',\n",
      "'HEAD LIGHT BULB',\n",
      "'CALIPER ASSEMBLY',\n",
      "'LOCK ARM',\n",
      "'CHAIN OVERHAUL',\n",
      "'CHAIN SPROCKET',\n",
      "'YOKE RUBBER',\n",
      "'TYRE GUARD',\n",
      "'CHAIN SET',\n",
      "'PETROL TUBE',\n",
      "'REAR CALIPER ASSEMBLY',\n",
      "'clutch cable',\n",
      "'MIRROR ADJUSTMENT',\n",
      "'FORK ASSEMBLY',\n",
      "'HORN',\n",
      "'FORK LABOUR',\n",
      "'',\n",
      "'CLUTCH SWITCH',\n",
      "'SILENCER',\n",
      "'WHEEL BEARING',\n",
      "'SWITCH ',\n",
      "'CHOKE CABLE',\n",
      "'KICKER STOPPER',\n",
      "'FORK OIL AND OIL SEAL',\n",
      "'LADIES FOOT REST',\n",
      "'FOOT REST RUBBER',\n",
      "'SILENCER JALL',\n",
      "'BRAKE CABLE',\n",
      "'DISC PUMP KIT',\n",
      "'RACTIFIER',\n",
      "'SELF MOTOR',\n",
      "'WIRING CHECKUP',\n",
      "'YOKE',\n",
      "'MIRROR',\n",
      "'ONE WAY CLUTCH BUSH KIT',\n",
      "'WASHING',\n",
      "'SIDE SHIELD LOCK',\n",
      "'OIL CAMP O RING',\n",
      "'Clutch CABLE',\n",
      "'TAIL LAMP COVER',\n",
      "'TANK BAG',\n",
      "'BATTERY',\n",
      "'WIND SHIELD STICKER',\n",
      "'LOCK SET BOLT',\n",
      "'SPEEDOMETER CABLE',\n",
      "'STOPPER WELDING',\n",
      "'CAM SHAFT',\n",
      "'LADIES HANDLE',\n",
      "'TAIL LAMP ASSEMBLY',\n",
      "'SPROCKET BEARING',\n",
      "'SILENCER JALI',\n",
      "'FORK',\n",
      "'SPRING',\n",
      "'HEAD O RING',\n",
      "'GEAR LEVER RUBBER',\n",
      "'STAY',\n",
      "'BRAKE LIGHT SWITCH',\n",
      "'BRAKE ROD SPRING',\n",
      "'PAD',\n",
      "'SEAT COWL',\n",
      "'FUEL GUAGE',\n",
      "'HANDLE WEIGHT',\n",
      "'NUMBER PLATE WITH STICKER',\n",
      "'CAM SHAFT SPRING',\n",
      "'PETROL TAP',\n",
      "'INDICATOR SWITCH',\n",
      "'KICKER SPRING',\n",
      "'SILENCER GASKET',\n",
      "'BODY COVER',\n",
      "'BATTERY BELT',\n",
      "'DISC PLATE',\n",
      "'BOTTLE COIL',\n",
      "'ENGINE OIL TOPUP',\n",
      "'PETROL',\n",
      "'MUDGUARD FLOP',\n",
      "'FRONT MUDGUARD',\n",
      "'BATTERY CHARGE',\n",
      "'PETROL PIPE',\n",
      "'BRAKE SWITCH',\n",
      "'TEFLON COATING',\n",
      "'SPEEDOMETER COVER',\n",
      "'STICKER',\n",
      "'ENGINE WORK',\n",
      "'PUNCHER',\n",
      "'STARTER COIL',\n",
      "'VISIOR STICKER',\n",
      "'SIDE SHELD RUBBER',\n",
      "'SELF REALY',\n",
      "'WIRING KIT',\n",
      "'SELF KIT',\n",
      "'VISIOR WITH LABOUR',\n",
      "'HANDLE BAR',\n",
      "'BULB ',\n",
      "'BULB',\n",
      "'SPEEDOMETER',\n",
      "'HEAD LIGHT HOLDER',\n",
      "'MUDGUARD BOLT',\n",
      "'SIDE STAND SPRING',\n",
      "'CHAIN ADJUSTER PLATE',\n",
      "'CDI UNIT',\n",
      "'WIRING LABOUR',\n",
      "'CHAIN LINK LOCK',\n",
      "'WIRING',\n",
      "'CLUTCH ADJUSTMENT',\n",
      "'PLUG ADAPTER',\n",
      "'SHIELD RUBBER',\n",
      "'FUSE BOX',\n",
      "'PLUG ADAPTER RUBBER',\n",
      "'HALF ACCELERATOR',\n",
      "'NUMBER PLATE',\n",
      "'COIL CHECK',\n",
      "'STAND RUBBER',\n",
      "'DISC OIL TOPUP',\n",
      "'DC KIT',\n",
      "'BRAKE LEVER',\n",
      "'BRAKE PEDAL SPRING',\n",
      "'AIR INTAKE',\n",
      "'TOP PLATE',\n",
      "'TANK CAP',\n",
      "'CLUTCH OUTLET PIPE',\n",
      "'SIDE STAND',\n",
      "'GRIP HANDLE',\n",
      "'handle weight',\n",
      "'SPEEDOMETER BULB',\n",
      "'WELDING',\n",
      "'PILOT LIGHT',\n",
      "'SILENCER JALL SCREW',\n",
      "'TUBE',\n",
      "'ENGINE SCREW KIT',\n",
      "'OIL SEAL KIT',\n",
      "'PETROL LOCK',\n",
      "'FLASHER',\n",
      "'BOLT WIELDING',\n",
      "'TYRE',\n",
      "'TYRE REPLACEMENT',\n",
      "'FUSE',\n",
      "'HEAD BORE GASKET',\n",
      "'NUMBER PLATE STICKER',\n",
      "'HEAD LIGHT SWITCH',\n",
      "'BATTERY CLIP',\n",
      "'BRAKE PEDAL RUBBER',\n",
      "'HELMET LOCK',\n",
      "'tyre',\n",
      "'HEAD CAP O RING',\n",
      "'HANDLE GRIPPER',\n",
      "'GRILL',\n",
      "'BEARING SET',\n",
      "'MASTER CYLENDER',\n",
      "'PUMP KIT',\n",
      "'LEVER BOLT',\n",
      "'TAIL LAMP GLASS',\n",
      "'COIL',\n",
      "'GB COVER SCREW',\n",
      "'SIDE LOCK',\n",
      "'CENTER STAND SPRING',\n",
      "'GEAR LEVER BOLT',\n",
      "'ENGINE OIL TANK COVER SEAT LADIES ENGINE GUARD',\n",
      "'DOOM REPLACEMENT',\n",
      "'CLUTCH CAM SPRING',\n",
      "'MAGNET COVER BOLT',\n",
      "'DISC ASSEMBLY',\n",
      "'TANK FOLP',\n",
      "'BRAKE PEDAL',\n",
      "'HANDLE HOLDER',\n",
      "'PACKING',\n",
      "'PAYMENT',\n",
      "'KICKER',\n",
      "'LEVER',\n",
      "'GASKET KIT',\n",
      "'COIL START',\n",
      "'WIND SHIELD RUBBER',\n",
      "'OIL LENSE',\n",
      "'RC CARD',\n",
      "'PLUG',\n",
      "'BALANCING GEAR',\n",
      "'INDICATOR BUZZER',\n",
      "'DRUM',\n",
      "'RIM',\n",
      "'ENGINE RUBBER',\n",
      "'PICKUP COIL',\n",
      "'HALF AXLE',\n",
      "'ENGINE CASE WELDING',\n",
      "'THREADING',\n",
      "'BODY ',\n",
      "'HOLDER STEP',\n",
      "'CARBURETOR SPRING',\n",
      "'CENTER STAND',\n",
      "'AXLE',\n",
      "'BOLT REMOVAL',\n",
      "'RELAY',\n",
      "'GEAR AND GB SHAFT OIL SEAL',\n",
      "'REAR BREAK LIGHT SWITCH',\n",
      "'DOOM CAP',\n",
      "'CRASH GUARD BOLT',\n",
      "'REBORE',\n",
      "'MAGNET COIL',\n",
      "'BRAKE LIGHT SPRING',\n",
      "'EX SHOW ROOM',\n",
      "'REGISTER FEES',\n",
      "'LIFE TIME TAX',\n",
      "'ADD ON FEES',\n",
      "'HEAD LAMP CONTROL',\n",
      "'SWING ARM BUISH KIT',\n",
      "'FLOAT',\n",
      "'ENGINE OVERHUAL',\n",
      "'BC UNIT',\n",
      "'SIDE STAND RUBBER',\n",
      "'SHIELD COVER',\n",
      "'SAREE GUARD',\n",
      "'WHEEL BEND',\n",
      "'SPEEDOMETER STAY',\n",
      "'HANDLEBAR RUBBER',\n",
      "'BRAKE ROD',\n",
      "'BORE',\n",
      "'BULB HOLDER',\n",
      "'WHEEL ALIGNMENT',\n",
      "'REAR FOOT REST',\n",
      "'HALF ENGINE AND CARBORATOR',\n",
      "'COOLANT OIL TOP UP',\n",
      "'ENGINE RE CONDITION',\n",
      "'DOOM SCREW RUBBER',\n",
      "'HEAD LIGHT GRILL',\n",
      "'CHAIN ADJUSTER',\n",
      "'SIDE BOX',\n",
      "'TANK DENT',\n",
      "'COOLANT OIL SENSOR',\n",
      "'YOKE SET',\n",
      "'BRAKE LIGHT SWITCH ',\n",
      "'SPPEDOMETER CABLE',\n",
      "'SPEEDOMETER WORM',\n",
      "'RADIATOR',\n",
      "'YOKE LEVER',\n",
      "'SERVICE AND ONE WAY CLUTCH BUSH KIT',\n",
      "'DISC HOSE PIPE',\n",
      "'SEAT COWL STICKER',\n",
      "'GRILL SET',\n",
      "'ENGINE',\n",
      "'HEAD SENSOR',\n",
      "'GB SHAFT OIL SEAL',\n",
      "'MOBILE HOLDER',\n",
      "'WHEEL ASSMEBLY',\n",
      "'WHEEL BOLT',\n",
      "'CHAIN COVER BOLT',\n",
      "'HEAD CAP LABOUR',\n",
      "'REAR SHOCK ABSORBER',\n",
      "'OIL COOLER PIPE',\n",
      "'BEDDING BOLT',\n",
      "'MAGNET ASSEMBLY',\n",
      "'BEARING',\n",
      "'ENGINE TEM SENSOR',\n",
      "'SPRING AND BREAK SHOE',\n",
      "'FRONT NO PLATE WITH STIKER-',\n",
      "'FUEL WIRING KIT',\n",
      "'BORE GASKET',\n",
      "'HEAD GASKET KIT',\n",
      "'BRAKE RUBBER',\n",
      "'MUDGAURD',\n",
      "'WHEEL AXLE',\n",
      "'MUDGAURD CLAMP',\n",
      "'REGISTER EXPENSES',\n",
      "'REAR TUBE',\n",
      "'MAGNET OVERHUAL',\n",
      "'MAGNET COVER GASKET',\n",
      "'MAGNET COVER PACKING',\n",
      "'CLUTCH YOUCK',\n",
      "'CHAIN PAD',\n",
      "'CLUTCH COVER PACKING',\n",
      "'DISK PLATE',\n",
      "'MAGWHEEL BEND',\n",
      "'TAPPED WELDING',\n",
      "'INTAKE',\n",
      "'FLOAT NEEDLE',\n",
      "'GEAR LEVER WELDING',\n",
      "'CARBURETOR ASSEMBLY',\n",
      "'LEVER RUBBER',\n",
      "'RIM TUBLESS NECK',\n",
      "'RADIATOR OVERHUAL',\n",
      "'LOCK TYPE PETROL TAP',\n",
      "'PETROL FILTER',\n",
      "'CLUTCH CAM SWITCH',\n",
      "'SPROCKET RUBBER',\n",
      "'CASE WELDING',\n",
      "'GEAR BOX OIL',\n",
      "'CLUTCH ROLLERS',\n",
      "'CLUTCH SPRING KIT',\n",
      "'CLUTCH SHOE',\n",
      "'U BUSH',\n",
      "'MAJOR KIT',\n",
      "'MAGNET COIL AND PICKUP COIL',\n",
      "'CONE SET OVERHUAL',\n",
      "'HELMET CABLE',\n",
      "'ONE WAY BODY',\n",
      "'STAND WELDING',\n",
      "'TUBELESS NECK',\n",
      "'SEAT',\n",
      "'COOLANT OIL HOSE PIPE',\n",
      "'INSURANCE',\n",
      "'PULSAR RS 200 ABS',\n",
      "'COOLANT OIL TANK',\n",
      "'FOG LAMP',\n",
      "'8 SIZE BOLT',\n",
      "'GB BOLT',\n",
      "'STOPPER HOLDER',\n",
      "'NUMBER PLATE CLAMP',\n",
      "'SPEEDOMETER CLAMP',\n",
      "'FITTING LABOUR',\n",
      "'VISIOR BOTTOM COVER',\n",
      "'MUDGUARD',\n",
      "'WASHING AND LABOUR',\n",
      "'REAR TAIL LAMP GRILL',\n",
      "'FOG LAMP FITTING',\n",
      "'CLUTCH REPALCEMENT',\n",
      "'STAND LOCK PIN ',\n",
      "'WIRING CHECK WITH LABOR',\n",
      "'OIL SEAL WATER PUMP',\n",
      "'GEAR LEVER ASSEMBLY',\n",
      "'CABLE LOCK',\n",
      "'KICKER RUBBER',\n",
      "'10 SIZE NUT',\n",
      "'MUDGUARD CLAMP',\n",
      "'6004 BEARING',\n",
      "'6303 BEARING',\n",
      "'6202 BEARING',\n",
      "'SHIELD LOCK',\n",
      "'CARBURETOR',\n",
      "'GEAR SHAFT OIL SEAL',\n",
      "'MAGNET COVER STICKER',\n",
      "'ENGINE CASE',\n",
      "'ENGINE CASE BEARING ASSEBLY',\n",
      "'GEAR BOX',\n",
      "'HEAD LIGHT WIRING',\n",
      "'LIGHTING COIL',\n",
      "'LIGHT SWITCH',\n",
      "'STOPPER',\n",
      "'LIGHT RELAY',\n",
      "'COIL LABOUR',\n",
      "'BRAKE BUSH KIT',\n",
      "'GB COVER',\n",
      "'FORK SPRING',\n",
      "'CAHIN PAD SCREW',\n",
      "'SHIELD SQUARE RUBBER',\n",
      "'SIDE STAND BRACKET',\n",
      "'CHOKE SENSOR',\n",
      "'GEAR AND WASHER',\n",
      "'CARBURETOR PLATE',\n",
      "'WIND SHIELD LOGO',\n",
      "'FOG LAMP SET',\n",
      "'ONE WAY CLUTCH BODY',\n",
      "'12 SIZE BOLT',\n",
      "'GB COVER BOLT',\n",
      "'SIDE SWITCH MAGNET',\n",
      "'WASHING AND POLISH',\n",
      "'BUSH KIT',\n",
      "'GRIP SET',\n",
      "'HANDLE WEIGHT BOLT',\n",
      "'SEAT LOCK',\n",
      "'CHAIN COVER BEADING',\n",
      "'FIBER LOCK',\n",
      "'GEAR SHAFT SPRING',\n",
      "'BATTERY TARMINAL',\n",
      "'HANDLE WEIGHT LIGHT',\n",
      "'CALIPER RUBBER KIT',\n",
      "'FUEL TAP',\n",
      "'SILENCER WELDING',\n",
      "'WHEEL NECK',\n",
      "'PILOT LIGHT BULB',\n",
      "'LIGHT FITTING CHARGE',\n",
      "'HEAD LIGHT CLIP',\n",
      "'HANDLEBAR THREADING',\n",
      "'LIGHT FITTING LABOUR',\n",
      "'HANDLE BAR LIGHT',\n",
      "'SIDE STAND MAGNET',\n",
      "'HORN CLIP',\n",
      "'POWER ADAPTER',\n",
      "'TANK LOGO',\n",
      "'MAGWHEEL',\n",
      "'RADIATOR FAN',\n",
      "'HAND GLOUSE',\n",
      "'POSITION LAMP',\n",
      "'FRONT MASK',\n",
      "'OIL PUMP',\n",
      "'HEAD LIGHT RELAY',\n",
      "'PICKUP CHARGES',\n",
      "'COIL OVERHUAL',\n",
      "'O RING KIT',\n",
      "'CASE BEARING',\n",
      "'SIDE STAND BOLT',\n",
      "'SIDE MASK',\n",
      "'FOOT REST ASSEMBLY',\n",
      "'SPEEDOMETER GLASS',\n",
      "'POWER COIL',\n",
      "'HIGH BEAM BULB',\n",
      "'WHEEL ACCELETOR CABLE',\n",
      "'BEARING WIELDING',\n",
      "'OIL COOLER CAP',\n",
      "'FUEL GUAGE OVERHUAL',\n",
      "'FUEL TANK',\n",
      "'TANK  RUBBER',\n",
      "'HEAD STAY',\n",
      "'CRASH GASKET',\n",
      "'MASK',\n",
      "'GEAR LEVER OIL SEAL',\n",
      "'GEAR LEVER BUSH',\n",
      "'WHEEL TUBE',\n",
      "'ONE WAY CLUTCH ASSEMBLY',\n",
      "'SEAT FITTING CHARGE',\n",
      "'SPEEDOMETER FLOP',\n",
      "'WIND SHIELD RUBBER KIT',\n",
      "'HORN FITTING CHARGE',\n",
      "'MAGNET OIL SEAL',\n",
      "'HELMET',\n"
     ]
    }
   ],
   "source": [
    "# printing all items from invoice_line_text\n",
    "for item in data.invoice_line_text.unique():\n",
    "    print(f\"'{item}',\")\n"
   ]
  },
  {
   "cell_type": "markdown",
   "id": "46305044-9831-4299-9fbe-483043749181",
   "metadata": {},
   "source": [
    "### Data cleaning"
   ]
  },
  {
   "cell_type": "code",
   "execution_count": 25,
   "id": "f900d144-8dcb-4a7d-aed9-4320cc70360d",
   "metadata": {},
   "outputs": [],
   "source": [
    "\n",
    "data['invoice_line_text'] = data['invoice_line_text'].str.replace('BULB ', 'BULB')\n",
    "data['invoice_line_text'] = data['invoice_line_text'].str.replace('OVERHUAL', 'OVERHAUL')\n",
    "data['invoice_line_text'] = data['invoice_line_text'].str.replace('WIELDING', 'WELDING')\n",
    "data['invoice_line_text'] = data['invoice_line_text'].str.replace('ENGINE OIL TOPUP', 'ENGINE OIL')\n",
    "data['invoice_line_text'] = data['invoice_line_text'].str.replace('ASSEBLY', 'ASSEMBLY')\n",
    "data['invoice_line_text'] = data['invoice_line_text'].str.replace('GRIP HANDLE', 'HANDLE GRIPPER')\n",
    "data['invoice_line_text'] = data['invoice_line_text'].str.replace('HANDLEBAR', 'HANDLE BAR')\n",
    "data['invoice_line_text'] = data['invoice_line_text'].str.replace('NUMBER PLATE WITH STICKERS', 'NUMBER PLATE')\n"
   ]
  },
  {
   "cell_type": "code",
   "execution_count": 26,
   "id": "0a7e5679-368a-4452-ab1d-34e6a55bb5f7",
   "metadata": {},
   "outputs": [],
   "source": [
    "service_related_tokens = [\n",
    "'OVERHAUL', \n",
    "'WELDING',\n",
    "'SERVICE', \n",
    "'WORK',\n",
    "'PUNCHER',\n",
    "'REBORE',\n",
    "'DENT',\n",
    "'RC CARD',\n",
    "'TAX',\n",
    "'ENGINE WORK',\n",
    "'CHECK',\n",
    "'LABOUR',\n",
    "'CHARGE',\n",
    "'FEES',\n",
    "'PAYMENT',\n",
    "'STICKERS'\n",
    "'ADJUSTMENT',\n",
    "'REGISTOR',\n",
    "'INSURANCE',\n",
    "'ADJUSTMENT',\n",
    "'REMOVAL', \n",
    "'THREADING', \n",
    "'CLEANING',\n",
    "]\n",
    "services = []\n",
    "for item in data.invoice_line_text.unique():\n",
    "    try:\n",
    "        if sum([item.find(token)!= -1 for token in service_related_tokens]) > 0:\n",
    "            services.append(item)\n",
    "    except:\n",
    "        print(item)\n",
    "        \n",
    "need_to_be_removed_in_services = [\n",
    "'PETROL',\n",
    "'VALVE GRAINDING',\n",
    "'CHAIN LUBRICATION',\n",
    "'ENGINE RE CONDITION',\n",
    "'HEAD LIGHT WIRING',\n",
    "'EX SHOW ROOM'\n",
    "]\n",
    "services.extend(need_to_be_removed_in_services)\n"
   ]
  },
  {
   "cell_type": "code",
   "execution_count": 27,
   "id": "318e9c5a-8198-4370-8b0a-0958008d510b",
   "metadata": {},
   "outputs": [
    {
     "data": {
      "text/plain": [
       "67"
      ]
     },
     "execution_count": 27,
     "metadata": {},
     "output_type": "execute_result"
    }
   ],
   "source": [
    "len(services)"
   ]
  },
  {
   "cell_type": "code",
   "execution_count": 28,
   "id": "90b38caf-f525-415b-a6a8-7a5ab88057ec",
   "metadata": {},
   "outputs": [
    {
     "name": "stdout",
     "output_type": "stream",
     "text": [
      "ENGINE OIL\n",
      "POLISH\n",
      "CONSUMABLES\n",
      "COOLANT OIL\n",
      "4 WAY SWITCH\n",
      "3M OIL\n",
      "OIL FILTER\n",
      "INDICATOR\n",
      "HEAD REST\n",
      "VALVE GUIDE\n",
      "TIMMING CHAIN\n",
      "FOOT REST\n",
      "LOW BEAM BULB\n",
      "DISC PAD\n",
      "LOADING GEAR\n",
      "PACKING KIT\n",
      "TIMMING CHAIN PAD\n",
      "TENSIONER\n",
      "CLUTCH BELL REST\n",
      "CLUTCH ASSEMBLY\n",
      "VALVE KIT\n",
      "SPARK PLUG\n",
      "ONE WAY CLUTCH\n",
      "BORE KIT\n",
      "AIR FILTER\n",
      "HEAD RUBBER\n",
      "CLUTCH CABLE\n",
      "CRANK SHAFT\n",
      "BRAKE SHOE\n",
      "DRUM BOLT WASHER\n",
      "FORK BEND\n",
      "GEAR SHAFT\n",
      "CLUTCH COVER GASKET\n",
      "INDICATOR BULB\n",
      "GEAR LEVER\n",
      "HANDLE BAR\n",
      "CRASH GUARD\n",
      "FORK OIL SEAL\n",
      "FORK OIL\n",
      "SIDE SHIELD\n",
      "VISIOR\n",
      "FORK CONE SET\n",
      "HEAD LIGHT DOOM\n",
      "TANK ASSEMBLY\n",
      "Clutch cable\n",
      "DISC LEVER\n",
      "SEAT COVER\n",
      "BUZZER\n",
      "TAIL LAMP BULB\n",
      "DISC OIL\n",
      "MASTER ASSEMBLY\n",
      "CHAIN COVER RUBBER\n",
      "ENGINE GUARD\n",
      "CLUTCH CAM \n",
      "DOOM\n",
      "WHEEL RUBBER\n",
      "bore kit\n",
      "ENGINE BEARING\n",
      "CRANK RESET\n",
      "CARBURETOR DIAPHRAGM RUBBER\n",
      "CLUTCH LEVER\n",
      "DRUM BOLT\n",
      "LOCK SET\n",
      "RIGHT SHIELD CAP\n",
      "SWITCH\n",
      "SHOCK ABSORBER\n",
      "STEP HOLDER\n",
      "ACCELATOR CABLE\n",
      "JALL SCREW\n",
      "TANK COVER\n",
      "HANDLE LOCK\n",
      "GRIPPER\n",
      "PARKING BULB\n",
      "WIND SHIELD\n",
      "SPEEDOMETER CAP\n",
      "HEAD LIGHT STAY\n",
      "CONE SET\n",
      "DOOM SCREW KIT\n",
      "DISK PAD\n",
      "HEAD LIGHT BULB\n",
      "CALIPER ASSEMBLY\n",
      "LOCK ARM\n",
      "CHAIN SPROCKET\n",
      "YOKE RUBBER\n",
      "TYRE GUARD\n",
      "CHAIN SET\n",
      "PETROL TUBE\n",
      "REAR CALIPER ASSEMBLY\n",
      "clutch cable\n",
      "FORK ASSEMBLY\n",
      "HORN\n",
      "\n",
      "CLUTCH SWITCH\n",
      "SILENCER\n",
      "WHEEL BEARING\n",
      "SWITCH \n",
      "CHOKE CABLE\n",
      "KICKER STOPPER\n",
      "FORK OIL AND OIL SEAL\n",
      "LADIES FOOT REST\n",
      "FOOT REST RUBBER\n",
      "SILENCER JALL\n",
      "BRAKE CABLE\n",
      "DISC PUMP KIT\n",
      "RACTIFIER\n",
      "SELF MOTOR\n",
      "YOKE\n",
      "MIRROR\n",
      "ONE WAY CLUTCH BUSH KIT\n",
      "WASHING\n",
      "SIDE SHIELD LOCK\n",
      "OIL CAMP O RING\n",
      "Clutch CABLE\n",
      "TAIL LAMP COVER\n",
      "TANK BAG\n",
      "BATTERY\n",
      "WIND SHIELD STICKER\n",
      "LOCK SET BOLT\n",
      "SPEEDOMETER CABLE\n",
      "CAM SHAFT\n",
      "LADIES HANDLE\n",
      "TAIL LAMP ASSEMBLY\n",
      "SPROCKET BEARING\n",
      "SILENCER JALI\n",
      "FORK\n",
      "SPRING\n",
      "HEAD O RING\n",
      "GEAR LEVER RUBBER\n",
      "STAY\n",
      "BRAKE LIGHT SWITCH\n",
      "BRAKE ROD SPRING\n",
      "PAD\n",
      "SEAT COWL\n",
      "FUEL GUAGE\n",
      "HANDLE WEIGHT\n",
      "NUMBER PLATE WITH STICKER\n",
      "CAM SHAFT SPRING\n",
      "PETROL TAP\n",
      "INDICATOR SWITCH\n",
      "KICKER SPRING\n",
      "SILENCER GASKET\n",
      "BODY COVER\n",
      "BATTERY BELT\n",
      "DISC PLATE\n",
      "BOTTLE COIL\n",
      "MUDGUARD FLOP\n",
      "FRONT MUDGUARD\n",
      "PETROL PIPE\n",
      "BRAKE SWITCH\n",
      "TEFLON COATING\n",
      "SPEEDOMETER COVER\n",
      "STICKER\n",
      "STARTER COIL\n",
      "VISIOR STICKER\n",
      "SIDE SHELD RUBBER\n",
      "SELF REALY\n",
      "WIRING KIT\n",
      "SELF KIT\n",
      "BULB\n",
      "SPEEDOMETER\n",
      "HEAD LIGHT HOLDER\n",
      "MUDGUARD BOLT\n",
      "SIDE STAND SPRING\n",
      "CHAIN ADJUSTER PLATE\n",
      "CDI UNIT\n",
      "CHAIN LINK LOCK\n",
      "WIRING\n",
      "PLUG ADAPTER\n",
      "SHIELD RUBBER\n",
      "FUSE BOX\n",
      "PLUG ADAPTER RUBBER\n",
      "HALF ACCELERATOR\n",
      "NUMBER PLATE\n",
      "STAND RUBBER\n",
      "DISC OIL TOPUP\n",
      "DC KIT\n",
      "BRAKE LEVER\n",
      "BRAKE PEDAL SPRING\n",
      "AIR INTAKE\n",
      "TOP PLATE\n",
      "TANK CAP\n",
      "CLUTCH OUTLET PIPE\n",
      "SIDE STAND\n",
      "HANDLE GRIPPER\n",
      "handle weight\n",
      "SPEEDOMETER BULB\n",
      "PILOT LIGHT\n",
      "SILENCER JALL SCREW\n",
      "TUBE\n",
      "ENGINE SCREW KIT\n",
      "OIL SEAL KIT\n",
      "PETROL LOCK\n",
      "FLASHER\n",
      "TYRE\n",
      "TYRE REPLACEMENT\n",
      "FUSE\n",
      "HEAD BORE GASKET\n",
      "NUMBER PLATE STICKER\n",
      "HEAD LIGHT SWITCH\n",
      "BATTERY CLIP\n",
      "BRAKE PEDAL RUBBER\n",
      "HELMET LOCK\n",
      "tyre\n",
      "HEAD CAP O RING\n",
      "GRILL\n",
      "BEARING SET\n",
      "MASTER CYLENDER\n",
      "PUMP KIT\n",
      "LEVER BOLT\n",
      "TAIL LAMP GLASS\n",
      "COIL\n",
      "GB COVER SCREW\n",
      "SIDE LOCK\n",
      "CENTER STAND SPRING\n",
      "GEAR LEVER BOLT\n",
      "ENGINE OIL TANK COVER SEAT LADIES ENGINE GUARD\n",
      "DOOM REPLACEMENT\n",
      "CLUTCH CAM SPRING\n",
      "MAGNET COVER BOLT\n",
      "DISC ASSEMBLY\n",
      "TANK FOLP\n",
      "BRAKE PEDAL\n",
      "HANDLE HOLDER\n",
      "PACKING\n",
      "KICKER\n",
      "LEVER\n",
      "GASKET KIT\n",
      "COIL START\n",
      "WIND SHIELD RUBBER\n",
      "OIL LENSE\n",
      "PLUG\n",
      "BALANCING GEAR\n",
      "INDICATOR BUZZER\n",
      "DRUM\n",
      "RIM\n",
      "ENGINE RUBBER\n",
      "PICKUP COIL\n",
      "HALF AXLE\n",
      "BODY \n",
      "HOLDER STEP\n",
      "CARBURETOR SPRING\n",
      "CENTER STAND\n",
      "AXLE\n",
      "RELAY\n",
      "GEAR AND GB SHAFT OIL SEAL\n",
      "REAR BREAK LIGHT SWITCH\n",
      "DOOM CAP\n",
      "CRASH GUARD BOLT\n",
      "MAGNET COIL\n",
      "BRAKE LIGHT SPRING\n",
      "HEAD LAMP CONTROL\n",
      "SWING ARM BUISH KIT\n",
      "FLOAT\n",
      "BC UNIT\n",
      "SIDE STAND RUBBER\n",
      "SHIELD COVER\n",
      "SAREE GUARD\n",
      "WHEEL BEND\n",
      "SPEEDOMETER STAY\n",
      "HANDLE BAR RUBBER\n",
      "BRAKE ROD\n",
      "BORE\n",
      "BULBHOLDER\n",
      "WHEEL ALIGNMENT\n",
      "REAR FOOT REST\n",
      "HALF ENGINE AND CARBORATOR\n",
      "COOLANT OIL TOP UP\n",
      "DOOM SCREW RUBBER\n",
      "HEAD LIGHT GRILL\n",
      "CHAIN ADJUSTER\n",
      "SIDE BOX\n",
      "COOLANT OIL SENSOR\n",
      "YOKE SET\n",
      "BRAKE LIGHT SWITCH \n",
      "SPPEDOMETER CABLE\n",
      "SPEEDOMETER WORM\n",
      "RADIATOR\n",
      "YOKE LEVER\n",
      "DISC HOSE PIPE\n",
      "SEAT COWL STICKER\n",
      "GRILL SET\n",
      "ENGINE\n",
      "HEAD SENSOR\n",
      "GB SHAFT OIL SEAL\n",
      "MOBILE HOLDER\n",
      "WHEEL ASSMEBLY\n",
      "WHEEL BOLT\n",
      "CHAIN COVER BOLT\n",
      "REAR SHOCK ABSORBER\n",
      "OIL COOLER PIPE\n",
      "BEDDING BOLT\n",
      "MAGNET ASSEMBLY\n",
      "BEARING\n",
      "ENGINE TEM SENSOR\n",
      "SPRING AND BREAK SHOE\n",
      "FRONT NO PLATE WITH STIKER-\n",
      "FUEL WIRING KIT\n",
      "BORE GASKET\n",
      "HEAD GASKET KIT\n",
      "BRAKE RUBBER\n",
      "MUDGAURD\n",
      "WHEEL AXLE\n",
      "MUDGAURD CLAMP\n",
      "REGISTER EXPENSES\n",
      "REAR TUBE\n",
      "MAGNET COVER GASKET\n",
      "MAGNET COVER PACKING\n",
      "CLUTCH YOUCK\n",
      "CHAIN PAD\n",
      "CLUTCH COVER PACKING\n",
      "DISK PLATE\n",
      "MAGWHEEL BEND\n",
      "INTAKE\n",
      "FLOAT NEEDLE\n",
      "CARBURETOR ASSEMBLY\n",
      "LEVER RUBBER\n",
      "RIM TUBLESS NECK\n",
      "LOCK TYPE PETROL TAP\n",
      "PETROL FILTER\n",
      "CLUTCH CAM SWITCH\n",
      "SPROCKET RUBBER\n",
      "GEAR BOX OIL\n",
      "CLUTCH ROLLERS\n",
      "CLUTCH SPRING KIT\n",
      "CLUTCH SHOE\n",
      "U BUSH\n",
      "MAJOR KIT\n",
      "MAGNET COIL AND PICKUP COIL\n",
      "HELMET CABLE\n",
      "ONE WAY BODY\n",
      "TUBELESS NECK\n",
      "SEAT\n",
      "COOLANT OIL HOSE PIPE\n",
      "PULSAR RS 200 ABS\n",
      "COOLANT OIL TANK\n",
      "FOG LAMP\n",
      "8 SIZE BOLT\n",
      "GB BOLT\n",
      "STOPPER HOLDER\n",
      "NUMBER PLATE CLAMP\n",
      "SPEEDOMETER CLAMP\n",
      "VISIOR BOTTOM COVER\n",
      "MUDGUARD\n",
      "REAR TAIL LAMP GRILL\n",
      "FOG LAMP FITTING\n",
      "CLUTCH REPALCEMENT\n",
      "STAND LOCK PIN \n",
      "OIL SEAL WATER PUMP\n",
      "GEAR LEVER ASSEMBLY\n",
      "CABLE LOCK\n",
      "KICKER RUBBER\n",
      "10 SIZE NUT\n",
      "MUDGUARD CLAMP\n",
      "6004 BEARING\n",
      "6303 BEARING\n",
      "6202 BEARING\n",
      "SHIELD LOCK\n",
      "CARBURETOR\n",
      "GEAR SHAFT OIL SEAL\n",
      "MAGNET COVER STICKER\n",
      "ENGINE CASE\n",
      "ENGINE CASE BEARING ASSEMBLY\n",
      "GEAR BOX\n",
      "LIGHTING COIL\n",
      "LIGHT SWITCH\n",
      "STOPPER\n",
      "LIGHT RELAY\n",
      "BRAKE BUSH KIT\n",
      "GB COVER\n",
      "FORK SPRING\n",
      "CAHIN PAD SCREW\n",
      "SHIELD SQUARE RUBBER\n",
      "SIDE STAND BRACKET\n",
      "CHOKE SENSOR\n",
      "GEAR AND WASHER\n",
      "CARBURETOR PLATE\n",
      "WIND SHIELD LOGO\n",
      "FOG LAMP SET\n",
      "ONE WAY CLUTCH BODY\n",
      "12 SIZE BOLT\n",
      "GB COVER BOLT\n",
      "SIDE SWITCH MAGNET\n",
      "WASHING AND POLISH\n",
      "BUSH KIT\n",
      "GRIP SET\n",
      "HANDLE WEIGHT BOLT\n",
      "SEAT LOCK\n",
      "CHAIN COVER BEADING\n",
      "FIBER LOCK\n",
      "GEAR SHAFT SPRING\n",
      "BATTERY TARMINAL\n",
      "HANDLE WEIGHT LIGHT\n",
      "CALIPER RUBBER KIT\n",
      "FUEL TAP\n",
      "WHEEL NECK\n",
      "PILOT LIGHT BULB\n",
      "HEAD LIGHT CLIP\n",
      "HANDLE BAR LIGHT\n",
      "SIDE STAND MAGNET\n",
      "HORN CLIP\n",
      "POWER ADAPTER\n",
      "TANK LOGO\n",
      "MAGWHEEL\n",
      "RADIATOR FAN\n",
      "HAND GLOUSE\n",
      "POSITION LAMP\n",
      "FRONT MASK\n",
      "OIL PUMP\n",
      "HEAD LIGHT RELAY\n",
      "O RING KIT\n",
      "CASE BEARING\n",
      "SIDE STAND BOLT\n",
      "SIDE MASK\n",
      "FOOT REST ASSEMBLY\n",
      "SPEEDOMETER GLASS\n",
      "POWER COIL\n",
      "HIGH BEAM BULB\n",
      "WHEEL ACCELETOR CABLE\n",
      "OIL COOLER CAP\n",
      "FUEL TANK\n",
      "TANK  RUBBER\n",
      "HEAD STAY\n",
      "CRASH GASKET\n",
      "MASK\n",
      "GEAR LEVER OIL SEAL\n",
      "GEAR LEVER BUSH\n",
      "WHEEL TUBE\n",
      "ONE WAY CLUTCH ASSEMBLY\n",
      "SPEEDOMETER FLOP\n",
      "WIND SHIELD RUBBER KIT\n",
      "MAGNET OIL SEAL\n",
      "HELMET\n"
     ]
    }
   ],
   "source": [
    "for item in data.invoice_line_text.unique():\n",
    "    if item not in services:\n",
    "        print(item)\n"
   ]
  },
  {
   "cell_type": "code",
   "execution_count": 29,
   "id": "deb376a3-bf9a-4b74-9644-77920f639e9f",
   "metadata": {},
   "outputs": [
    {
     "data": {
      "text/plain": [
       "(21326, 3)"
      ]
     },
     "execution_count": 29,
     "metadata": {},
     "output_type": "execute_result"
    }
   ],
   "source": [
    "# dropping rows related to services\n",
    "data = data[~data.invoice_line_text.isin(services)]\n",
    "data = data.reset_index(drop=True)\n",
    "data.shape\n"
   ]
  },
  {
   "cell_type": "code",
   "execution_count": 30,
   "id": "5a5b2a22-7aa0-4cb4-8cd1-9ef9fa67d424",
   "metadata": {},
   "outputs": [
    {
     "data": {
      "text/html": [
       "<div>\n",
       "<style scoped>\n",
       "    .dataframe tbody tr th:only-of-type {\n",
       "        vertical-align: middle;\n",
       "    }\n",
       "\n",
       "    .dataframe tbody tr th {\n",
       "        vertical-align: top;\n",
       "    }\n",
       "\n",
       "    .dataframe thead th {\n",
       "        text-align: right;\n",
       "    }\n",
       "</style>\n",
       "<table border=\"1\" class=\"dataframe\">\n",
       "  <thead>\n",
       "    <tr style=\"text-align: right;\">\n",
       "      <th></th>\n",
       "      <th>job_card_date</th>\n",
       "      <th>vehicle_model</th>\n",
       "      <th>invoice_line_text</th>\n",
       "    </tr>\n",
       "  </thead>\n",
       "  <tbody>\n",
       "    <tr>\n",
       "      <th>0</th>\n",
       "      <td>30-05-17</td>\n",
       "      <td>BAJAJ AVENGER STREET 220</td>\n",
       "      <td>ENGINE OIL</td>\n",
       "    </tr>\n",
       "    <tr>\n",
       "      <th>1</th>\n",
       "      <td>31-05-17</td>\n",
       "      <td>BAJAJ PULSAR NS 200</td>\n",
       "      <td>ENGINE OIL</td>\n",
       "    </tr>\n",
       "    <tr>\n",
       "      <th>2</th>\n",
       "      <td>31-05-17</td>\n",
       "      <td>BAJAJ PULSAR NS 200</td>\n",
       "      <td>POLISH</td>\n",
       "    </tr>\n",
       "    <tr>\n",
       "      <th>3</th>\n",
       "      <td>31-05-17</td>\n",
       "      <td>BAJAJ PULSAR NS 200</td>\n",
       "      <td>CONSUMABLES</td>\n",
       "    </tr>\n",
       "    <tr>\n",
       "      <th>4</th>\n",
       "      <td>31-05-17</td>\n",
       "      <td>BAJAJ PULSAR NS 200</td>\n",
       "      <td>COOLANT OIL</td>\n",
       "    </tr>\n",
       "    <tr>\n",
       "      <th>...</th>\n",
       "      <td>...</td>\n",
       "      <td>...</td>\n",
       "      <td>...</td>\n",
       "    </tr>\n",
       "    <tr>\n",
       "      <th>21321</th>\n",
       "      <td>06-01-19</td>\n",
       "      <td>BAJAJ DISCOVER 125</td>\n",
       "      <td>SPROCKET RUBBER</td>\n",
       "    </tr>\n",
       "    <tr>\n",
       "      <th>21322</th>\n",
       "      <td>06-01-19</td>\n",
       "      <td>BAJAJ DISCOVER 125</td>\n",
       "      <td>CLUTCH CABLE</td>\n",
       "    </tr>\n",
       "    <tr>\n",
       "      <th>21323</th>\n",
       "      <td>06-01-19</td>\n",
       "      <td>BAJAJ DISCOVER 125</td>\n",
       "      <td>OIL FILTER</td>\n",
       "    </tr>\n",
       "    <tr>\n",
       "      <th>21324</th>\n",
       "      <td>06-01-19</td>\n",
       "      <td>BAJAJ DISCOVER 125</td>\n",
       "      <td>DISC OIL</td>\n",
       "    </tr>\n",
       "    <tr>\n",
       "      <th>21325</th>\n",
       "      <td>06-01-19</td>\n",
       "      <td>BAJAJ DISCOVER 125</td>\n",
       "      <td>AIR FILTER</td>\n",
       "    </tr>\n",
       "  </tbody>\n",
       "</table>\n",
       "<p>21326 rows × 3 columns</p>\n",
       "</div>"
      ],
      "text/plain": [
       "      job_card_date             vehicle_model invoice_line_text\n",
       "0          30-05-17  BAJAJ AVENGER STREET 220        ENGINE OIL\n",
       "1          31-05-17       BAJAJ PULSAR NS 200        ENGINE OIL\n",
       "2          31-05-17       BAJAJ PULSAR NS 200            POLISH\n",
       "3          31-05-17       BAJAJ PULSAR NS 200       CONSUMABLES\n",
       "4          31-05-17       BAJAJ PULSAR NS 200       COOLANT OIL\n",
       "...             ...                       ...               ...\n",
       "21321      06-01-19        BAJAJ DISCOVER 125   SPROCKET RUBBER\n",
       "21322      06-01-19        BAJAJ DISCOVER 125      CLUTCH CABLE\n",
       "21323      06-01-19        BAJAJ DISCOVER 125        OIL FILTER\n",
       "21324      06-01-19        BAJAJ DISCOVER 125          DISC OIL\n",
       "21325      06-01-19        BAJAJ DISCOVER 125        AIR FILTER\n",
       "\n",
       "[21326 rows x 3 columns]"
      ]
     },
     "execution_count": 30,
     "metadata": {},
     "output_type": "execute_result"
    }
   ],
   "source": [
    "data"
   ]
  },
  {
   "cell_type": "code",
   "execution_count": 31,
   "id": "cb44679f-b268-45e4-b9c5-4d69d1ed34a3",
   "metadata": {},
   "outputs": [],
   "source": [
    "# renaming some columns\n",
    "data.rename(columns={\"job_card_date\":\"date\", \"invoice_line_text\":\"spare_part\"}, inplace=True)"
   ]
  },
  {
   "cell_type": "code",
   "execution_count": 32,
   "id": "2bbf1e78-c7a8-43d8-a491-797a854222bb",
   "metadata": {},
   "outputs": [],
   "source": [
    "data['date'] = pd.to_datetime(data['date'])"
   ]
  },
  {
   "cell_type": "code",
   "execution_count": 33,
   "id": "7a845368-bef8-4f7d-98ef-b20f96472f79",
   "metadata": {},
   "outputs": [
    {
     "data": {
      "text/html": [
       "<div>\n",
       "<style scoped>\n",
       "    .dataframe tbody tr th:only-of-type {\n",
       "        vertical-align: middle;\n",
       "    }\n",
       "\n",
       "    .dataframe tbody tr th {\n",
       "        vertical-align: top;\n",
       "    }\n",
       "\n",
       "    .dataframe thead th {\n",
       "        text-align: right;\n",
       "    }\n",
       "</style>\n",
       "<table border=\"1\" class=\"dataframe\">\n",
       "  <thead>\n",
       "    <tr style=\"text-align: right;\">\n",
       "      <th></th>\n",
       "      <th>date</th>\n",
       "      <th>vehicle_model</th>\n",
       "      <th>spare_part</th>\n",
       "    </tr>\n",
       "  </thead>\n",
       "  <tbody>\n",
       "    <tr>\n",
       "      <th>0</th>\n",
       "      <td>2017-05-30</td>\n",
       "      <td>BAJAJ AVENGER STREET 220</td>\n",
       "      <td>ENGINE OIL</td>\n",
       "    </tr>\n",
       "    <tr>\n",
       "      <th>1</th>\n",
       "      <td>2017-05-31</td>\n",
       "      <td>BAJAJ PULSAR NS 200</td>\n",
       "      <td>ENGINE OIL</td>\n",
       "    </tr>\n",
       "    <tr>\n",
       "      <th>2</th>\n",
       "      <td>2017-05-31</td>\n",
       "      <td>BAJAJ PULSAR NS 200</td>\n",
       "      <td>POLISH</td>\n",
       "    </tr>\n",
       "    <tr>\n",
       "      <th>3</th>\n",
       "      <td>2017-05-31</td>\n",
       "      <td>BAJAJ PULSAR NS 200</td>\n",
       "      <td>CONSUMABLES</td>\n",
       "    </tr>\n",
       "    <tr>\n",
       "      <th>4</th>\n",
       "      <td>2017-05-31</td>\n",
       "      <td>BAJAJ PULSAR NS 200</td>\n",
       "      <td>COOLANT OIL</td>\n",
       "    </tr>\n",
       "  </tbody>\n",
       "</table>\n",
       "</div>"
      ],
      "text/plain": [
       "        date             vehicle_model   spare_part\n",
       "0 2017-05-30  BAJAJ AVENGER STREET 220   ENGINE OIL\n",
       "1 2017-05-31       BAJAJ PULSAR NS 200   ENGINE OIL\n",
       "2 2017-05-31       BAJAJ PULSAR NS 200       POLISH\n",
       "3 2017-05-31       BAJAJ PULSAR NS 200  CONSUMABLES\n",
       "4 2017-05-31       BAJAJ PULSAR NS 200  COOLANT OIL"
      ]
     },
     "execution_count": 33,
     "metadata": {},
     "output_type": "execute_result"
    }
   ],
   "source": [
    "data.head()"
   ]
  },
  {
   "cell_type": "code",
   "execution_count": 34,
   "id": "5a67e155-110f-4b05-80bd-b3148e07938c",
   "metadata": {},
   "outputs": [],
   "source": [
    "# Calculate the counts of unique elements of invoice_line_text\n",
    "value_counts = data['spare_part'].value_counts()\n"
   ]
  },
  {
   "cell_type": "code",
   "execution_count": 35,
   "id": "93bdde87-0b9f-4dab-995b-af13a3c59cf1",
   "metadata": {},
   "outputs": [
    {
     "data": {
      "text/plain": [
       "spare_part\n",
       "ENGINE OIL              3804\n",
       "AIR FILTER              1713\n",
       "3M OIL                  1628\n",
       "CONSUMABLES             1595\n",
       "POLISH                  1245\n",
       "                        ... \n",
       "REGISTER EXPENSES          1\n",
       "SWITCH                     1\n",
       "MAGNET COVER PACKING       1\n",
       "CLUTCH OUTLET PIPE         1\n",
       "HELMET                     1\n",
       "Name: count, Length: 432, dtype: int64"
      ]
     },
     "execution_count": 35,
     "metadata": {},
     "output_type": "execute_result"
    }
   ],
   "source": [
    "value_counts"
   ]
  },
  {
   "cell_type": "markdown",
   "id": "279fae23-c18d-4463-ad87-af10b353a568",
   "metadata": {},
   "source": [
    "## EDA"
   ]
  },
  {
   "cell_type": "code",
   "execution_count": 36,
   "id": "01b1825c-21dd-4361-a1a6-30533f2d07d5",
   "metadata": {},
   "outputs": [
    {
     "data": {
      "image/png": "[encoded data removed]",
      "text/plain": [
       "<Figure size 1500x1000 with 1 Axes>"
      ]
     },
     "metadata": {},
     "output_type": "display_data"
    }
   ],
   "source": [
    "# Create a figure and axes\n",
    "fig, ax = plt.subplots(figsize=(15, 10))\n",
    "\n",
    "# Create the countplot\n",
    "sns.countplot(data=data, x='spare_part',\n",
    "              order=data['spare_part'].value_counts().index[:50],\n",
    "              ax=ax)\n",
    "\n",
    "# Set titles and labels with customized fontsizes\n",
    "ax.set_title('top 50 spare parts', fontsize=20)\n",
    "ax.set_ylabel('spare parts count', fontsize=20)\n",
    "ax.set_xlabel('spare part', fontsize=20)\n",
    "\n",
    "# Rotate x-axis labels\n",
    "ax.tick_params(axis='x', rotation=90)\n",
    "\n",
    "# Show the plot\n",
    "plt.show()"
   ]
  },
  {
   "cell_type": "code",
   "execution_count": 37,
   "id": "89d1181e-4a67-4ce4-974a-11dfd4f129fe",
   "metadata": {},
   "outputs": [
    {
     "data": {
      "text/html": [
       "<div>\n",
       "<style scoped>\n",
       "    .dataframe tbody tr th:only-of-type {\n",
       "        vertical-align: middle;\n",
       "    }\n",
       "\n",
       "    .dataframe tbody tr th {\n",
       "        vertical-align: top;\n",
       "    }\n",
       "\n",
       "    .dataframe thead th {\n",
       "        text-align: right;\n",
       "    }\n",
       "</style>\n",
       "<table border=\"1\" class=\"dataframe\">\n",
       "  <thead>\n",
       "    <tr style=\"text-align: right;\">\n",
       "      <th></th>\n",
       "      <th>vehicle_model</th>\n",
       "      <th>count</th>\n",
       "    </tr>\n",
       "  </thead>\n",
       "  <tbody>\n",
       "    <tr>\n",
       "      <th>12</th>\n",
       "      <td>BAJAJ PULSAR 150</td>\n",
       "      <td>6497</td>\n",
       "    </tr>\n",
       "    <tr>\n",
       "      <th>2</th>\n",
       "      <td>BAJAJ AVENGER STREET 220</td>\n",
       "      <td>3058</td>\n",
       "    </tr>\n",
       "    <tr>\n",
       "      <th>14</th>\n",
       "      <td>BAJAJ PULSAR 220</td>\n",
       "      <td>1985</td>\n",
       "    </tr>\n",
       "    <tr>\n",
       "      <th>18</th>\n",
       "      <td>BAJAJ PULSAR NS 200</td>\n",
       "      <td>1706</td>\n",
       "    </tr>\n",
       "    <tr>\n",
       "      <th>13</th>\n",
       "      <td>BAJAJ PULSAR 180</td>\n",
       "      <td>1704</td>\n",
       "    </tr>\n",
       "    <tr>\n",
       "      <th>5</th>\n",
       "      <td>BAJAJ CT 100</td>\n",
       "      <td>1119</td>\n",
       "    </tr>\n",
       "    <tr>\n",
       "      <th>7</th>\n",
       "      <td>BAJAJ DISCOVER 125</td>\n",
       "      <td>1028</td>\n",
       "    </tr>\n",
       "    <tr>\n",
       "      <th>0</th>\n",
       "      <td>BAJAJ AVENGER STREET</td>\n",
       "      <td>767</td>\n",
       "    </tr>\n",
       "    <tr>\n",
       "      <th>11</th>\n",
       "      <td>BAJAJ PLATINA</td>\n",
       "      <td>662</td>\n",
       "    </tr>\n",
       "    <tr>\n",
       "      <th>23</th>\n",
       "      <td>BAJAJ V150</td>\n",
       "      <td>524</td>\n",
       "    </tr>\n",
       "    <tr>\n",
       "      <th>6</th>\n",
       "      <td>BAJAJ DISCOVER</td>\n",
       "      <td>486</td>\n",
       "    </tr>\n",
       "    <tr>\n",
       "      <th>16</th>\n",
       "      <td>BAJAJ PULSAR LS135</td>\n",
       "      <td>388</td>\n",
       "    </tr>\n",
       "    <tr>\n",
       "      <th>17</th>\n",
       "      <td>BAJAJ PULSAR NS 160</td>\n",
       "      <td>292</td>\n",
       "    </tr>\n",
       "    <tr>\n",
       "      <th>15</th>\n",
       "      <td>BAJAJ PULSAR AS 200</td>\n",
       "      <td>291</td>\n",
       "    </tr>\n",
       "    <tr>\n",
       "      <th>19</th>\n",
       "      <td>BAJAJ PULSAR RS 200</td>\n",
       "      <td>237</td>\n",
       "    </tr>\n",
       "    <tr>\n",
       "      <th>9</th>\n",
       "      <td>BAJAJ DISCOVER 150</td>\n",
       "      <td>202</td>\n",
       "    </tr>\n",
       "    <tr>\n",
       "      <th>1</th>\n",
       "      <td>BAJAJ AVENGER STREET 180</td>\n",
       "      <td>98</td>\n",
       "    </tr>\n",
       "    <tr>\n",
       "      <th>8</th>\n",
       "      <td>BAJAJ DISCOVER 135</td>\n",
       "      <td>80</td>\n",
       "    </tr>\n",
       "    <tr>\n",
       "      <th>21</th>\n",
       "      <td>BAJAJ V125</td>\n",
       "      <td>75</td>\n",
       "    </tr>\n",
       "    <tr>\n",
       "      <th>20</th>\n",
       "      <td>BAJAJ V</td>\n",
       "      <td>40</td>\n",
       "    </tr>\n",
       "    <tr>\n",
       "      <th>4</th>\n",
       "      <td>BAJAJ CALIBER</td>\n",
       "      <td>27</td>\n",
       "    </tr>\n",
       "    <tr>\n",
       "      <th>25</th>\n",
       "      <td>BAJAJ XCD 125</td>\n",
       "      <td>17</td>\n",
       "    </tr>\n",
       "    <tr>\n",
       "      <th>22</th>\n",
       "      <td>BAJAJ V15</td>\n",
       "      <td>17</td>\n",
       "    </tr>\n",
       "    <tr>\n",
       "      <th>26</th>\n",
       "      <td>BAJAJ XCD 135</td>\n",
       "      <td>8</td>\n",
       "    </tr>\n",
       "    <tr>\n",
       "      <th>27</th>\n",
       "      <td>WAVE</td>\n",
       "      <td>8</td>\n",
       "    </tr>\n",
       "    <tr>\n",
       "      <th>10</th>\n",
       "      <td>BAJAJ DOMINAR 400 ABS</td>\n",
       "      <td>6</td>\n",
       "    </tr>\n",
       "    <tr>\n",
       "      <th>24</th>\n",
       "      <td>BAJAJ WIND 125</td>\n",
       "      <td>3</td>\n",
       "    </tr>\n",
       "    <tr>\n",
       "      <th>3</th>\n",
       "      <td>BAJAJ BOXER CT</td>\n",
       "      <td>1</td>\n",
       "    </tr>\n",
       "  </tbody>\n",
       "</table>\n",
       "</div>"
      ],
      "text/plain": [
       "               vehicle_model  count\n",
       "12          BAJAJ PULSAR 150   6497\n",
       "2   BAJAJ AVENGER STREET 220   3058\n",
       "14          BAJAJ PULSAR 220   1985\n",
       "18       BAJAJ PULSAR NS 200   1706\n",
       "13          BAJAJ PULSAR 180   1704\n",
       "5               BAJAJ CT 100   1119\n",
       "7         BAJAJ DISCOVER 125   1028\n",
       "0       BAJAJ AVENGER STREET    767\n",
       "11             BAJAJ PLATINA    662\n",
       "23                BAJAJ V150    524\n",
       "6             BAJAJ DISCOVER    486\n",
       "16        BAJAJ PULSAR LS135    388\n",
       "17       BAJAJ PULSAR NS 160    292\n",
       "15       BAJAJ PULSAR AS 200    291\n",
       "19       BAJAJ PULSAR RS 200    237\n",
       "9         BAJAJ DISCOVER 150    202\n",
       "1   BAJAJ AVENGER STREET 180     98\n",
       "8         BAJAJ DISCOVER 135     80\n",
       "21                BAJAJ V125     75\n",
       "20                   BAJAJ V     40\n",
       "4              BAJAJ CALIBER     27\n",
       "25             BAJAJ XCD 125     17\n",
       "22                 BAJAJ V15     17\n",
       "26             BAJAJ XCD 135      8\n",
       "27                      WAVE      8\n",
       "10     BAJAJ DOMINAR 400 ABS      6\n",
       "24            BAJAJ WIND 125      3\n",
       "3             BAJAJ BOXER CT      1"
      ]
     },
     "execution_count": 37,
     "metadata": {},
     "output_type": "execute_result"
    }
   ],
   "source": [
    "# grouping by vehicle_model\n",
    "\n",
    "vm_grouped_data = data.groupby(['vehicle_model'])['spare_part'].count().reset_index()\n",
    "vm_grouped_data.rename(columns={'spare_part': 'count'}, inplace=True)\n",
    "vm_grouped_data = vm_grouped_data.sort_values(by='count', ascending=False)\n",
    "vm_grouped_data"
   ]
  },
  {
   "cell_type": "code",
   "execution_count": 38,
   "id": "e8040a21-ee4f-4297-88cc-713046c8a1e3",
   "metadata": {},
   "outputs": [
    {
     "data": {
      "text/html": [
       "<div>\n",
       "<style scoped>\n",
       "    .dataframe tbody tr th:only-of-type {\n",
       "        vertical-align: middle;\n",
       "    }\n",
       "\n",
       "    .dataframe tbody tr th {\n",
       "        vertical-align: top;\n",
       "    }\n",
       "\n",
       "    .dataframe thead th {\n",
       "        text-align: right;\n",
       "    }\n",
       "</style>\n",
       "<table border=\"1\" class=\"dataframe\">\n",
       "  <thead>\n",
       "    <tr style=\"text-align: right;\">\n",
       "      <th></th>\n",
       "      <th>spare_part</th>\n",
       "      <th>count</th>\n",
       "    </tr>\n",
       "  </thead>\n",
       "  <tbody>\n",
       "    <tr>\n",
       "      <th>128</th>\n",
       "      <td>ENGINE OIL</td>\n",
       "      <td>3804</td>\n",
       "    </tr>\n",
       "    <tr>\n",
       "      <th>10</th>\n",
       "      <td>AIR FILTER</td>\n",
       "      <td>1713</td>\n",
       "    </tr>\n",
       "    <tr>\n",
       "      <th>3</th>\n",
       "      <td>3M OIL</td>\n",
       "      <td>1628</td>\n",
       "    </tr>\n",
       "    <tr>\n",
       "      <th>91</th>\n",
       "      <td>CONSUMABLES</td>\n",
       "      <td>1595</td>\n",
       "    </tr>\n",
       "    <tr>\n",
       "      <th>299</th>\n",
       "      <td>POLISH</td>\n",
       "      <td>1245</td>\n",
       "    </tr>\n",
       "    <tr>\n",
       "      <th>...</th>\n",
       "      <td>...</td>\n",
       "      <td>...</td>\n",
       "    </tr>\n",
       "    <tr>\n",
       "      <th>233</th>\n",
       "      <td>LEVER BOLT</td>\n",
       "      <td>1</td>\n",
       "    </tr>\n",
       "    <tr>\n",
       "      <th>234</th>\n",
       "      <td>LEVER RUBBER</td>\n",
       "      <td>1</td>\n",
       "    </tr>\n",
       "    <tr>\n",
       "      <th>237</th>\n",
       "      <td>LIGHTING COIL</td>\n",
       "      <td>1</td>\n",
       "    </tr>\n",
       "    <tr>\n",
       "      <th>244</th>\n",
       "      <td>MAGNET ASSEMBLY</td>\n",
       "      <td>1</td>\n",
       "    </tr>\n",
       "    <tr>\n",
       "      <th>431</th>\n",
       "      <td>tyre</td>\n",
       "      <td>1</td>\n",
       "    </tr>\n",
       "  </tbody>\n",
       "</table>\n",
       "<p>432 rows × 2 columns</p>\n",
       "</div>"
      ],
      "text/plain": [
       "          spare_part  count\n",
       "128       ENGINE OIL   3804\n",
       "10        AIR FILTER   1713\n",
       "3             3M OIL   1628\n",
       "91       CONSUMABLES   1595\n",
       "299           POLISH   1245\n",
       "..               ...    ...\n",
       "233       LEVER BOLT      1\n",
       "234     LEVER RUBBER      1\n",
       "237    LIGHTING COIL      1\n",
       "244  MAGNET ASSEMBLY      1\n",
       "431             tyre      1\n",
       "\n",
       "[432 rows x 2 columns]"
      ]
     },
     "execution_count": 38,
     "metadata": {},
     "output_type": "execute_result"
    }
   ],
   "source": [
    "# grouping by spare part\n",
    "sp_grouped_data = data.groupby(['spare_part'])['vehicle_model'].count().reset_index()\n",
    "sp_grouped_data.rename(columns={'vehicle_model': 'count'}, inplace=True)\n",
    "sp_grouped_data = sp_grouped_data.sort_values(by='count', ascending=False)\n",
    "sp_grouped_data\n"
   ]
  },
  {
   "cell_type": "code",
   "execution_count": 39,
   "id": "726e7d29-011d-4af7-a290-0b605bec59ac",
   "metadata": {},
   "outputs": [
    {
     "data": {
      "text/plain": [
       "553"
      ]
     },
     "execution_count": 39,
     "metadata": {},
     "output_type": "execute_result"
    }
   ],
   "source": [
    "data.date.nunique()"
   ]
  },
  {
   "cell_type": "code",
   "execution_count": 40,
   "id": "fdf76d22-18c5-4bc2-ba59-7d82829bd64f",
   "metadata": {},
   "outputs": [
    {
     "data": {
      "text/plain": [
       "date             0\n",
       "vehicle_model    0\n",
       "spare_part       0\n",
       "dtype: int64"
      ]
     },
     "execution_count": 40,
     "metadata": {},
     "output_type": "execute_result"
    }
   ],
   "source": [
    "data.isnull().sum()"
   ]
  },
  {
   "cell_type": "code",
   "execution_count": 41,
   "id": "7815e6ea-8875-4c14-9366-1ddca9a5f918",
   "metadata": {},
   "outputs": [
    {
     "name": "stdout",
     "output_type": "stream",
     "text": [
      "<class 'pandas.core.frame.DataFrame'>\n",
      "Index: 432 entries, 128 to 431\n",
      "Data columns (total 2 columns):\n",
      " #   Column      Non-Null Count  Dtype \n",
      "---  ------      --------------  ----- \n",
      " 0   spare_part  432 non-null    object\n",
      " 1   count       432 non-null    int64 \n",
      "dtypes: int64(1), object(1)\n",
      "memory usage: 10.1+ KB\n"
     ]
    }
   ],
   "source": [
    "sp_grouped_data.info()"
   ]
  },
  {
   "cell_type": "code",
   "execution_count": 42,
   "id": "1d2faabb-6705-4fcd-8aa2-e04fa756f03c",
   "metadata": {},
   "outputs": [
    {
     "name": "stdout",
     "output_type": "stream",
     "text": [
      "<class 'pandas.core.frame.DataFrame'>\n",
      "Index: 432 entries, 128 to 431\n",
      "Data columns (total 2 columns):\n",
      " #   Column      Non-Null Count  Dtype \n",
      "---  ------      --------------  ----- \n",
      " 0   spare_part  432 non-null    object\n",
      " 1   count       432 non-null    int64 \n",
      "dtypes: int64(1), object(1)\n",
      "memory usage: 10.1+ KB\n"
     ]
    }
   ],
   "source": [
    "sp_grouped_data.info()"
   ]
  },
  {
   "cell_type": "code",
   "execution_count": 43,
   "id": "9960f36a-548d-4801-aeb0-8a0487aa54ee",
   "metadata": {},
   "outputs": [
    {
     "data": {
      "text/plain": [
       "432"
      ]
     },
     "execution_count": 43,
     "metadata": {},
     "output_type": "execute_result"
    }
   ],
   "source": [
    "sp_grouped_data.shape[0]"
   ]
  },
  {
   "cell_type": "code",
   "execution_count": 44,
   "id": "e73a2b05-6113-403a-8d0a-8ba362945df9",
   "metadata": {},
   "outputs": [
    {
     "data": {
      "text/plain": [
       "289"
      ]
     },
     "execution_count": 44,
     "metadata": {},
     "output_type": "execute_result"
    }
   ],
   "source": [
    "sp_grouped_data[sp_grouped_data['count']>1].shape[0]"
   ]
  },
  {
   "cell_type": "code",
   "execution_count": 45,
   "id": "70d9e7ff-2b59-4d03-93d8-3b9667971a76",
   "metadata": {},
   "outputs": [
    {
     "data": {
      "text/plain": [
       "129"
      ]
     },
     "execution_count": 45,
     "metadata": {},
     "output_type": "execute_result"
    }
   ],
   "source": [
    "sp_grouped_data[sp_grouped_data['count']>10].shape[0]"
   ]
  },
  {
   "cell_type": "code",
   "execution_count": 46,
   "id": "e8c1fed7-63bb-424e-a73e-fde2794da4a4",
   "metadata": {},
   "outputs": [
    {
     "data": {
      "text/plain": [
       "23"
      ]
     },
     "execution_count": 46,
     "metadata": {},
     "output_type": "execute_result"
    }
   ],
   "source": [
    "sp_grouped_data[sp_grouped_data['count']>=100].shape[0]"
   ]
  },
  {
   "cell_type": "code",
   "execution_count": 47,
   "id": "d365066c-4ae0-4a8c-a5ab-a76797cc72e8",
   "metadata": {},
   "outputs": [
    {
     "data": {
      "text/html": [
       "<div>\n",
       "<style scoped>\n",
       "    .dataframe tbody tr th:only-of-type {\n",
       "        vertical-align: middle;\n",
       "    }\n",
       "\n",
       "    .dataframe tbody tr th {\n",
       "        vertical-align: top;\n",
       "    }\n",
       "\n",
       "    .dataframe thead th {\n",
       "        text-align: right;\n",
       "    }\n",
       "</style>\n",
       "<table border=\"1\" class=\"dataframe\">\n",
       "  <thead>\n",
       "    <tr style=\"text-align: right;\">\n",
       "      <th></th>\n",
       "      <th>vehicle_model</th>\n",
       "      <th>spare_part</th>\n",
       "    </tr>\n",
       "    <tr>\n",
       "      <th>date</th>\n",
       "      <th></th>\n",
       "      <th></th>\n",
       "    </tr>\n",
       "  </thead>\n",
       "  <tbody>\n",
       "    <tr>\n",
       "      <th>2017-05-30</th>\n",
       "      <td>BAJAJ AVENGER STREET 220</td>\n",
       "      <td>ENGINE OIL</td>\n",
       "    </tr>\n",
       "    <tr>\n",
       "      <th>2017-05-31</th>\n",
       "      <td>BAJAJ PULSAR NS 200</td>\n",
       "      <td>ENGINE OIL</td>\n",
       "    </tr>\n",
       "    <tr>\n",
       "      <th>2017-05-31</th>\n",
       "      <td>BAJAJ PULSAR NS 200</td>\n",
       "      <td>POLISH</td>\n",
       "    </tr>\n",
       "    <tr>\n",
       "      <th>2017-05-31</th>\n",
       "      <td>BAJAJ PULSAR NS 200</td>\n",
       "      <td>CONSUMABLES</td>\n",
       "    </tr>\n",
       "    <tr>\n",
       "      <th>2017-05-31</th>\n",
       "      <td>BAJAJ PULSAR NS 200</td>\n",
       "      <td>COOLANT OIL</td>\n",
       "    </tr>\n",
       "  </tbody>\n",
       "</table>\n",
       "</div>"
      ],
      "text/plain": [
       "                       vehicle_model   spare_part\n",
       "date                                             \n",
       "2017-05-30  BAJAJ AVENGER STREET 220   ENGINE OIL\n",
       "2017-05-31       BAJAJ PULSAR NS 200   ENGINE OIL\n",
       "2017-05-31       BAJAJ PULSAR NS 200       POLISH\n",
       "2017-05-31       BAJAJ PULSAR NS 200  CONSUMABLES\n",
       "2017-05-31       BAJAJ PULSAR NS 200  COOLANT OIL"
      ]
     },
     "execution_count": 47,
     "metadata": {},
     "output_type": "execute_result"
    }
   ],
   "source": [
    "# setting date as index column\n",
    "data_indexed = data.set_index('date')\n",
    "data_indexed.head()"
   ]
  },
  {
   "cell_type": "code",
   "execution_count": 197,
   "id": "4430b057-ba53-45ba-be73-d1974f8de8d2",
   "metadata": {},
   "outputs": [],
   "source": [
    "# resampling\n",
    "data = data_indexed[['spare_part']].resample('D').count()"
   ]
  },
  {
   "cell_type": "code",
   "execution_count": 198,
   "id": "d83e956a-dff3-4b10-892d-18fa8f91281e",
   "metadata": {},
   "outputs": [
    {
     "data": {
      "text/html": [
       "<div>\n",
       "<style scoped>\n",
       "    .dataframe tbody tr th:only-of-type {\n",
       "        vertical-align: middle;\n",
       "    }\n",
       "\n",
       "    .dataframe tbody tr th {\n",
       "        vertical-align: top;\n",
       "    }\n",
       "\n",
       "    .dataframe thead th {\n",
       "        text-align: right;\n",
       "    }\n",
       "</style>\n",
       "<table border=\"1\" class=\"dataframe\">\n",
       "  <thead>\n",
       "    <tr style=\"text-align: right;\">\n",
       "      <th></th>\n",
       "      <th>spare_part</th>\n",
       "    </tr>\n",
       "    <tr>\n",
       "      <th>date</th>\n",
       "      <th></th>\n",
       "    </tr>\n",
       "  </thead>\n",
       "  <tbody>\n",
       "    <tr>\n",
       "      <th>2017-01-06</th>\n",
       "      <td>34</td>\n",
       "    </tr>\n",
       "    <tr>\n",
       "      <th>2017-01-07</th>\n",
       "      <td>62</td>\n",
       "    </tr>\n",
       "    <tr>\n",
       "      <th>2017-01-08</th>\n",
       "      <td>32</td>\n",
       "    </tr>\n",
       "    <tr>\n",
       "      <th>2017-01-09</th>\n",
       "      <td>82</td>\n",
       "    </tr>\n",
       "    <tr>\n",
       "      <th>2017-01-10</th>\n",
       "      <td>14</td>\n",
       "    </tr>\n",
       "    <tr>\n",
       "      <th>...</th>\n",
       "      <td>...</td>\n",
       "    </tr>\n",
       "    <tr>\n",
       "      <th>2019-05-28</th>\n",
       "      <td>0</td>\n",
       "    </tr>\n",
       "    <tr>\n",
       "      <th>2019-05-29</th>\n",
       "      <td>0</td>\n",
       "    </tr>\n",
       "    <tr>\n",
       "      <th>2019-05-30</th>\n",
       "      <td>0</td>\n",
       "    </tr>\n",
       "    <tr>\n",
       "      <th>2019-05-31</th>\n",
       "      <td>0</td>\n",
       "    </tr>\n",
       "    <tr>\n",
       "      <th>2019-06-01</th>\n",
       "      <td>21</td>\n",
       "    </tr>\n",
       "  </tbody>\n",
       "</table>\n",
       "<p>877 rows × 1 columns</p>\n",
       "</div>"
      ],
      "text/plain": [
       "            spare_part\n",
       "date                  \n",
       "2017-01-06          34\n",
       "2017-01-07          62\n",
       "2017-01-08          32\n",
       "2017-01-09          82\n",
       "2017-01-10          14\n",
       "...                ...\n",
       "2019-05-28           0\n",
       "2019-05-29           0\n",
       "2019-05-30           0\n",
       "2019-05-31           0\n",
       "2019-06-01          21\n",
       "\n",
       "[877 rows x 1 columns]"
      ]
     },
     "execution_count": 198,
     "metadata": {},
     "output_type": "execute_result"
    }
   ],
   "source": [
    "data"
   ]
  },
  {
   "cell_type": "code",
   "execution_count": 199,
   "id": "09ab230c-af40-4455-a4cf-456a59048735",
   "metadata": {},
   "outputs": [
    {
     "data": {
      "text/plain": [
       "<Figure size 1500x1000 with 0 Axes>"
      ]
     },
     "metadata": {},
     "output_type": "display_data"
    },
    {
     "data": {
      "image/png": "[encoded data removed]",
      "text/plain": [
       "<Figure size 640x480 with 1 Axes>"
      ]
     },
     "metadata": {},
     "output_type": "display_data"
    }
   ],
   "source": [
    "# Set the figure size\n",
    "plt.figure(figsize=(15, 10))\n",
    "\n",
    "# Plot the weekly data \n",
    "data.plot()\n",
    "\n",
    "# Set the title and labels with customized fontsizes\n",
    "plt.title('spare parts demand per Day', fontsize=22)\n",
    "plt.ylabel('spare part count', fontsize=20)\n",
    "\n",
    "# Show the plot\n",
    "plt.show()"
   ]
  },
  {
   "cell_type": "code",
   "execution_count": 200,
   "id": "75300d5b-bb48-4954-a401-9085ddfc1526",
   "metadata": {},
   "outputs": [
    {
     "data": {
      "image/png": "[encoded data removed]",
      "text/plain": [
       "<Figure size 640x480 with 1 Axes>"
      ]
     },
     "execution_count": 200,
     "metadata": {},
     "output_type": "execute_result"
    },
    {
     "data": {
      "image/png": "[encoded data removed]",
      "text/plain": [
       "<Figure size 640x480 with 1 Axes>"
      ]
     },
     "metadata": {},
     "output_type": "display_data"
    }
   ],
   "source": [
    "## Plotting the autocorrelation function\n",
    "from statsmodels.graphics.tsaplots import plot_acf\n",
    "plot_acf(data)\n"
   ]
  },
  {
   "cell_type": "markdown",
   "id": "5fbd9e7a-4df9-483d-8953-53b2d890e872",
   "metadata": {},
   "source": [
    "From the autocorrelation plot, it is clear that given series is not stationary."
   ]
  },
  {
   "cell_type": "markdown",
   "id": "a8d08d62-c318-4f94-8542-9d57c2b91d3d",
   "metadata": {},
   "source": [
    "We can perform the ADfuller test, a test based on hypothesis, where if the p-value is less than 0.05, then we can consider the time series is stationary, and if the P-value is greater than 0.05, then the time series is non-stationary."
   ]
  },
  {
   "cell_type": "code",
   "execution_count": 201,
   "id": "b1e714bb-823d-4f80-91c6-47afde045629",
   "metadata": {},
   "outputs": [
    {
     "name": "stdout",
     "output_type": "stream",
     "text": [
      "1. ADF :  -2.97625101858824\n",
      "2. P-Value :  0.03717256822885033\n",
      "3. Num Of Lags :  17\n",
      "4. Num Of Observations Used For ADF Regression and Critical Values Calculation : 859\n",
      "5. Critical Values :\n",
      "\t 1% :  -3.437985563419411\n",
      "\t 5% :  -2.864910527649228\n",
      "\t 10% :  -2.5685647265209433\n"
     ]
    }
   ],
   "source": [
    "# ADfuller Test to check stationarity\n",
    "\n",
    "from statsmodels.tsa.stattools import adfuller\n",
    "dftest = adfuller(data.spare_part, autolag = 'AIC')\n",
    "print(\"1. ADF : \",dftest[0])\n",
    "print(\"2. P-Value : \", dftest[1])\n",
    "print(\"3. Num Of Lags : \", dftest[2])\n",
    "print(\"4. Num Of Observations Used For ADF Regression and Critical Values Calculation :\", dftest[3])\n",
    "print(\"5. Critical Values :\")\n",
    "for key, val in dftest[4].items():\n",
    "    print(\"\\t\",key, \": \", val)"
   ]
  },
  {
   "cell_type": "markdown",
   "id": "0857ba46-40b2-4f82-bc0c-3fe171f87210",
   "metadata": {},
   "source": [
    "#### P-value is higher for our dataset, and we can say that the evidence of rejecting the null hypothesis is low; hence the time series is non-stationary."
   ]
  },
  {
   "cell_type": "code",
   "execution_count": 202,
   "id": "267cfb52-50c4-481d-acec-59f2e8660b95",
   "metadata": {},
   "outputs": [],
   "source": [
    "## making it stationary by taking difference of 1\n",
    "data1=data.diff(periods=1) #This means calculating the change in your row(s)/column(s) over a set number of periods. Or simply,\n",
    "#pandas diff will subtract 1 cell value from another cell value within the same index."
   ]
  },
  {
   "cell_type": "code",
   "execution_count": 203,
   "id": "fb2e29c4-d641-4e0c-b44c-cae9cfb210bc",
   "metadata": {},
   "outputs": [
    {
     "data": {
      "text/html": [
       "<div>\n",
       "<style scoped>\n",
       "    .dataframe tbody tr th:only-of-type {\n",
       "        vertical-align: middle;\n",
       "    }\n",
       "\n",
       "    .dataframe tbody tr th {\n",
       "        vertical-align: top;\n",
       "    }\n",
       "\n",
       "    .dataframe thead th {\n",
       "        text-align: right;\n",
       "    }\n",
       "</style>\n",
       "<table border=\"1\" class=\"dataframe\">\n",
       "  <thead>\n",
       "    <tr style=\"text-align: right;\">\n",
       "      <th></th>\n",
       "      <th>spare_part</th>\n",
       "    </tr>\n",
       "    <tr>\n",
       "      <th>date</th>\n",
       "      <th></th>\n",
       "    </tr>\n",
       "  </thead>\n",
       "  <tbody>\n",
       "    <tr>\n",
       "      <th>2017-01-06</th>\n",
       "      <td>34</td>\n",
       "    </tr>\n",
       "    <tr>\n",
       "      <th>2017-01-07</th>\n",
       "      <td>62</td>\n",
       "    </tr>\n",
       "    <tr>\n",
       "      <th>2017-01-08</th>\n",
       "      <td>32</td>\n",
       "    </tr>\n",
       "    <tr>\n",
       "      <th>2017-01-09</th>\n",
       "      <td>82</td>\n",
       "    </tr>\n",
       "    <tr>\n",
       "      <th>2017-01-10</th>\n",
       "      <td>14</td>\n",
       "    </tr>\n",
       "  </tbody>\n",
       "</table>\n",
       "</div>"
      ],
      "text/plain": [
       "            spare_part\n",
       "date                  \n",
       "2017-01-06          34\n",
       "2017-01-07          62\n",
       "2017-01-08          32\n",
       "2017-01-09          82\n",
       "2017-01-10          14"
      ]
     },
     "execution_count": 203,
     "metadata": {},
     "output_type": "execute_result"
    }
   ],
   "source": [
    "data.head()"
   ]
  },
  {
   "cell_type": "code",
   "execution_count": 204,
   "id": "dcbf4b80-2427-42f0-9ff1-0236a2896930",
   "metadata": {},
   "outputs": [
    {
     "data": {
      "text/html": [
       "<div>\n",
       "<style scoped>\n",
       "    .dataframe tbody tr th:only-of-type {\n",
       "        vertical-align: middle;\n",
       "    }\n",
       "\n",
       "    .dataframe tbody tr th {\n",
       "        vertical-align: top;\n",
       "    }\n",
       "\n",
       "    .dataframe thead th {\n",
       "        text-align: right;\n",
       "    }\n",
       "</style>\n",
       "<table border=\"1\" class=\"dataframe\">\n",
       "  <thead>\n",
       "    <tr style=\"text-align: right;\">\n",
       "      <th></th>\n",
       "      <th>spare_part</th>\n",
       "    </tr>\n",
       "    <tr>\n",
       "      <th>date</th>\n",
       "      <th></th>\n",
       "    </tr>\n",
       "  </thead>\n",
       "  <tbody>\n",
       "    <tr>\n",
       "      <th>2017-01-06</th>\n",
       "      <td>NaN</td>\n",
       "    </tr>\n",
       "    <tr>\n",
       "      <th>2017-01-07</th>\n",
       "      <td>28.0</td>\n",
       "    </tr>\n",
       "    <tr>\n",
       "      <th>2017-01-08</th>\n",
       "      <td>-30.0</td>\n",
       "    </tr>\n",
       "    <tr>\n",
       "      <th>2017-01-09</th>\n",
       "      <td>50.0</td>\n",
       "    </tr>\n",
       "    <tr>\n",
       "      <th>2017-01-10</th>\n",
       "      <td>-68.0</td>\n",
       "    </tr>\n",
       "  </tbody>\n",
       "</table>\n",
       "</div>"
      ],
      "text/plain": [
       "            spare_part\n",
       "date                  \n",
       "2017-01-06         NaN\n",
       "2017-01-07        28.0\n",
       "2017-01-08       -30.0\n",
       "2017-01-09        50.0\n",
       "2017-01-10       -68.0"
      ]
     },
     "execution_count": 204,
     "metadata": {},
     "output_type": "execute_result"
    }
   ],
   "source": [
    "data1.head() # Series integrated to the order of 1"
   ]
  },
  {
   "cell_type": "code",
   "execution_count": 205,
   "id": "88cae7c6-0f7e-4c31-b1ca-241d54be6c2f",
   "metadata": {},
   "outputs": [
    {
     "data": {
      "text/html": [
       "<div>\n",
       "<style scoped>\n",
       "    .dataframe tbody tr th:only-of-type {\n",
       "        vertical-align: middle;\n",
       "    }\n",
       "\n",
       "    .dataframe tbody tr th {\n",
       "        vertical-align: top;\n",
       "    }\n",
       "\n",
       "    .dataframe thead th {\n",
       "        text-align: right;\n",
       "    }\n",
       "</style>\n",
       "<table border=\"1\" class=\"dataframe\">\n",
       "  <thead>\n",
       "    <tr style=\"text-align: right;\">\n",
       "      <th></th>\n",
       "      <th>spare_part</th>\n",
       "    </tr>\n",
       "    <tr>\n",
       "      <th>date</th>\n",
       "      <th></th>\n",
       "    </tr>\n",
       "  </thead>\n",
       "  <tbody>\n",
       "    <tr>\n",
       "      <th>2017-01-07</th>\n",
       "      <td>28.0</td>\n",
       "    </tr>\n",
       "    <tr>\n",
       "      <th>2017-01-08</th>\n",
       "      <td>-30.0</td>\n",
       "    </tr>\n",
       "    <tr>\n",
       "      <th>2017-01-09</th>\n",
       "      <td>50.0</td>\n",
       "    </tr>\n",
       "    <tr>\n",
       "      <th>2017-01-10</th>\n",
       "      <td>-68.0</td>\n",
       "    </tr>\n",
       "    <tr>\n",
       "      <th>2017-01-11</th>\n",
       "      <td>39.0</td>\n",
       "    </tr>\n",
       "    <tr>\n",
       "      <th>...</th>\n",
       "      <td>...</td>\n",
       "    </tr>\n",
       "    <tr>\n",
       "      <th>2019-05-28</th>\n",
       "      <td>0.0</td>\n",
       "    </tr>\n",
       "    <tr>\n",
       "      <th>2019-05-29</th>\n",
       "      <td>0.0</td>\n",
       "    </tr>\n",
       "    <tr>\n",
       "      <th>2019-05-30</th>\n",
       "      <td>0.0</td>\n",
       "    </tr>\n",
       "    <tr>\n",
       "      <th>2019-05-31</th>\n",
       "      <td>0.0</td>\n",
       "    </tr>\n",
       "    <tr>\n",
       "      <th>2019-06-01</th>\n",
       "      <td>21.0</td>\n",
       "    </tr>\n",
       "  </tbody>\n",
       "</table>\n",
       "<p>876 rows × 1 columns</p>\n",
       "</div>"
      ],
      "text/plain": [
       "            spare_part\n",
       "date                  \n",
       "2017-01-07        28.0\n",
       "2017-01-08       -30.0\n",
       "2017-01-09        50.0\n",
       "2017-01-10       -68.0\n",
       "2017-01-11        39.0\n",
       "...                ...\n",
       "2019-05-28         0.0\n",
       "2019-05-29         0.0\n",
       "2019-05-30         0.0\n",
       "2019-05-31         0.0\n",
       "2019-06-01        21.0\n",
       "\n",
       "[876 rows x 1 columns]"
      ]
     },
     "execution_count": 205,
     "metadata": {},
     "output_type": "execute_result"
    }
   ],
   "source": [
    "data1=data1.iloc[1:] #null value discarded\n",
    "data1"
   ]
  },
  {
   "cell_type": "code",
   "execution_count": 206,
   "id": "41380868-d107-45d5-be39-62b60fb1c4b5",
   "metadata": {},
   "outputs": [
    {
     "data": {
      "image/png": "[encoded data removed]",
      "text/plain": [
       "<Figure size 640x480 with 1 Axes>"
      ]
     },
     "metadata": {},
     "output_type": "display_data"
    }
   ],
   "source": [
    "plot_acf(data1); # autocorrelation plot"
   ]
  },
  {
   "cell_type": "code",
   "execution_count": 207,
   "id": "679e8ffe-4d2c-4897-b466-ca49b7a9abef",
   "metadata": {},
   "outputs": [],
   "source": [
    "data2=data1.diff(periods=1) # differencing applied to data1"
   ]
  },
  {
   "cell_type": "code",
   "execution_count": 208,
   "id": "d3266c9d-f3f4-4e7e-b96a-d14cf34e614c",
   "metadata": {},
   "outputs": [
    {
     "data": {
      "text/html": [
       "<div>\n",
       "<style scoped>\n",
       "    .dataframe tbody tr th:only-of-type {\n",
       "        vertical-align: middle;\n",
       "    }\n",
       "\n",
       "    .dataframe tbody tr th {\n",
       "        vertical-align: top;\n",
       "    }\n",
       "\n",
       "    .dataframe thead th {\n",
       "        text-align: right;\n",
       "    }\n",
       "</style>\n",
       "<table border=\"1\" class=\"dataframe\">\n",
       "  <thead>\n",
       "    <tr style=\"text-align: right;\">\n",
       "      <th></th>\n",
       "      <th>spare_part</th>\n",
       "    </tr>\n",
       "    <tr>\n",
       "      <th>date</th>\n",
       "      <th></th>\n",
       "    </tr>\n",
       "  </thead>\n",
       "  <tbody>\n",
       "    <tr>\n",
       "      <th>2017-01-07</th>\n",
       "      <td>NaN</td>\n",
       "    </tr>\n",
       "    <tr>\n",
       "      <th>2017-01-08</th>\n",
       "      <td>-58.0</td>\n",
       "    </tr>\n",
       "    <tr>\n",
       "      <th>2017-01-09</th>\n",
       "      <td>80.0</td>\n",
       "    </tr>\n",
       "    <tr>\n",
       "      <th>2017-01-10</th>\n",
       "      <td>-118.0</td>\n",
       "    </tr>\n",
       "    <tr>\n",
       "      <th>2017-01-11</th>\n",
       "      <td>107.0</td>\n",
       "    </tr>\n",
       "  </tbody>\n",
       "</table>\n",
       "</div>"
      ],
      "text/plain": [
       "            spare_part\n",
       "date                  \n",
       "2017-01-07         NaN\n",
       "2017-01-08       -58.0\n",
       "2017-01-09        80.0\n",
       "2017-01-10      -118.0\n",
       "2017-01-11       107.0"
      ]
     },
     "execution_count": 208,
     "metadata": {},
     "output_type": "execute_result"
    }
   ],
   "source": [
    "data2.head()"
   ]
  },
  {
   "cell_type": "code",
   "execution_count": 209,
   "id": "5999732a-e4ed-4fde-8470-e827f6501827",
   "metadata": {},
   "outputs": [],
   "source": [
    "data2=data2.iloc[1:] # integrated to the order of 2"
   ]
  },
  {
   "cell_type": "code",
   "execution_count": 210,
   "id": "11910cf8-fd9c-423c-9059-afbbec7d1239",
   "metadata": {},
   "outputs": [
    {
     "data": {
      "image/png": "[encoded data removed]",
      "text/plain": [
       "<Figure size 640x480 with 1 Axes>"
      ]
     },
     "metadata": {},
     "output_type": "display_data"
    }
   ],
   "source": [
    "plot_acf(data2);"
   ]
  },
  {
   "cell_type": "code",
   "execution_count": 211,
   "id": "9bccadfc-aec7-4734-ab46-f17a0d8b3954",
   "metadata": {},
   "outputs": [
    {
     "data": {
      "text/plain": [
       "(875, 1)"
      ]
     },
     "execution_count": 211,
     "metadata": {},
     "output_type": "execute_result"
    }
   ],
   "source": [
    "data2.shape"
   ]
  },
  {
   "cell_type": "code",
   "execution_count": 212,
   "id": "82feb327-baf8-43f9-ad49-c77782ad3e61",
   "metadata": {},
   "outputs": [],
   "source": [
    "data3=data2.diff(periods=1) # differencing applied to data2"
   ]
  },
  {
   "cell_type": "code",
   "execution_count": 213,
   "id": "6e87f376-a2e7-4387-a252-3a6a09c5dd23",
   "metadata": {},
   "outputs": [
    {
     "data": {
      "text/html": [
       "<div>\n",
       "<style scoped>\n",
       "    .dataframe tbody tr th:only-of-type {\n",
       "        vertical-align: middle;\n",
       "    }\n",
       "\n",
       "    .dataframe tbody tr th {\n",
       "        vertical-align: top;\n",
       "    }\n",
       "\n",
       "    .dataframe thead th {\n",
       "        text-align: right;\n",
       "    }\n",
       "</style>\n",
       "<table border=\"1\" class=\"dataframe\">\n",
       "  <thead>\n",
       "    <tr style=\"text-align: right;\">\n",
       "      <th></th>\n",
       "      <th>spare_part</th>\n",
       "    </tr>\n",
       "    <tr>\n",
       "      <th>date</th>\n",
       "      <th></th>\n",
       "    </tr>\n",
       "  </thead>\n",
       "  <tbody>\n",
       "    <tr>\n",
       "      <th>2017-01-08</th>\n",
       "      <td>NaN</td>\n",
       "    </tr>\n",
       "    <tr>\n",
       "      <th>2017-01-09</th>\n",
       "      <td>138.0</td>\n",
       "    </tr>\n",
       "    <tr>\n",
       "      <th>2017-01-10</th>\n",
       "      <td>-198.0</td>\n",
       "    </tr>\n",
       "    <tr>\n",
       "      <th>2017-01-11</th>\n",
       "      <td>225.0</td>\n",
       "    </tr>\n",
       "    <tr>\n",
       "      <th>2017-01-12</th>\n",
       "      <td>-192.0</td>\n",
       "    </tr>\n",
       "  </tbody>\n",
       "</table>\n",
       "</div>"
      ],
      "text/plain": [
       "            spare_part\n",
       "date                  \n",
       "2017-01-08         NaN\n",
       "2017-01-09       138.0\n",
       "2017-01-10      -198.0\n",
       "2017-01-11       225.0\n",
       "2017-01-12      -192.0"
      ]
     },
     "execution_count": 213,
     "metadata": {},
     "output_type": "execute_result"
    }
   ],
   "source": [
    "data3.head()"
   ]
  },
  {
   "cell_type": "code",
   "execution_count": 214,
   "id": "f9b3dc74-4c47-405e-b178-afbcbf7c1542",
   "metadata": {},
   "outputs": [],
   "source": [
    "data3=data2.iloc[1:] # integrated to the order of 3"
   ]
  },
  {
   "cell_type": "code",
   "execution_count": 215,
   "id": "7143fc55-736a-450d-a499-c4bb5164d3b9",
   "metadata": {},
   "outputs": [
    {
     "data": {
      "image/png": "[encoded data removed]",
      "text/plain": [
       "<Figure size 640x480 with 1 Axes>"
      ]
     },
     "metadata": {},
     "output_type": "display_data"
    }
   ],
   "source": [
    "plot_acf(data3);"
   ]
  },
  {
   "cell_type": "code",
   "execution_count": 216,
   "id": "bf27b6a7-37b5-4c50-bd36-4e21523873eb",
   "metadata": {},
   "outputs": [
    {
     "data": {
      "text/plain": [
       "(874, 1)"
      ]
     },
     "execution_count": 216,
     "metadata": {},
     "output_type": "execute_result"
    }
   ],
   "source": [
    "data3.shape"
   ]
  },
  {
   "cell_type": "code",
   "execution_count": 217,
   "id": "0570634a-81db-47c3-b2b4-886f6c0606cd",
   "metadata": {},
   "outputs": [],
   "source": [
    "data4=data3.diff(periods=1) # differencing applied to data3"
   ]
  },
  {
   "cell_type": "code",
   "execution_count": 218,
   "id": "8873536e-ccb1-4030-bfab-fb5d6c361aaf",
   "metadata": {},
   "outputs": [
    {
     "data": {
      "text/html": [
       "<div>\n",
       "<style scoped>\n",
       "    .dataframe tbody tr th:only-of-type {\n",
       "        vertical-align: middle;\n",
       "    }\n",
       "\n",
       "    .dataframe tbody tr th {\n",
       "        vertical-align: top;\n",
       "    }\n",
       "\n",
       "    .dataframe thead th {\n",
       "        text-align: right;\n",
       "    }\n",
       "</style>\n",
       "<table border=\"1\" class=\"dataframe\">\n",
       "  <thead>\n",
       "    <tr style=\"text-align: right;\">\n",
       "      <th></th>\n",
       "      <th>spare_part</th>\n",
       "    </tr>\n",
       "    <tr>\n",
       "      <th>date</th>\n",
       "      <th></th>\n",
       "    </tr>\n",
       "  </thead>\n",
       "  <tbody>\n",
       "    <tr>\n",
       "      <th>2017-01-09</th>\n",
       "      <td>NaN</td>\n",
       "    </tr>\n",
       "    <tr>\n",
       "      <th>2017-01-10</th>\n",
       "      <td>-198.0</td>\n",
       "    </tr>\n",
       "    <tr>\n",
       "      <th>2017-01-11</th>\n",
       "      <td>225.0</td>\n",
       "    </tr>\n",
       "    <tr>\n",
       "      <th>2017-01-12</th>\n",
       "      <td>-192.0</td>\n",
       "    </tr>\n",
       "    <tr>\n",
       "      <th>2017-01-13</th>\n",
       "      <td>124.0</td>\n",
       "    </tr>\n",
       "  </tbody>\n",
       "</table>\n",
       "</div>"
      ],
      "text/plain": [
       "            spare_part\n",
       "date                  \n",
       "2017-01-09         NaN\n",
       "2017-01-10      -198.0\n",
       "2017-01-11       225.0\n",
       "2017-01-12      -192.0\n",
       "2017-01-13       124.0"
      ]
     },
     "execution_count": 218,
     "metadata": {},
     "output_type": "execute_result"
    }
   ],
   "source": [
    "data4.head()"
   ]
  },
  {
   "cell_type": "code",
   "execution_count": 219,
   "id": "7386f6b9-a121-4f99-8900-7393c44eaadd",
   "metadata": {},
   "outputs": [],
   "source": [
    "data4=data3.iloc[1:] # integrated to the order of 3"
   ]
  },
  {
   "cell_type": "code",
   "execution_count": 220,
   "id": "0d51aa09-f34a-45eb-a3b7-233e75f3bbd3",
   "metadata": {},
   "outputs": [
    {
     "data": {
      "image/png": "[encoded data removed]",
      "text/plain": [
       "<Figure size 640x480 with 1 Axes>"
      ]
     },
     "metadata": {},
     "output_type": "display_data"
    }
   ],
   "source": [
    "plot_acf(data4);"
   ]
  },
  {
   "cell_type": "code",
   "execution_count": 221,
   "id": "322f32d4-3865-4173-a441-25065ba36a5e",
   "metadata": {},
   "outputs": [
    {
     "data": {
      "text/plain": [
       "(873, 1)"
      ]
     },
     "execution_count": 221,
     "metadata": {},
     "output_type": "execute_result"
    }
   ],
   "source": [
    "data4.shape"
   ]
  },
  {
   "cell_type": "code",
   "execution_count": null,
   "id": "d08866b0-c3a8-42cb-b69d-d9ad099500fe",
   "metadata": {},
   "outputs": [],
   "source": []
  },
  {
   "cell_type": "code",
   "execution_count": 285,
   "id": "aba82df6-7b08-44be-8ee7-d653aecf2a1c",
   "metadata": {},
   "outputs": [],
   "source": [
    "from sklearn.preprocessing import MinMaxScaler"
   ]
  },
  {
   "cell_type": "code",
   "execution_count": 286,
   "id": "28a44307-c397-4bd8-befb-337c15a9dc64",
   "metadata": {},
   "outputs": [],
   "source": [
    "sc=MinMaxScaler()\n",
    "data_Scaled = sc.fit_transform(data4)"
   ]
  },
  {
   "cell_type": "code",
   "execution_count": 287,
   "id": "505f8646-9539-4896-99b7-3e92e9d527e5",
   "metadata": {},
   "outputs": [
    {
     "data": {
      "text/plain": [
       "array([[0.24332344],\n",
       "       [0.91097923],\n",
       "       [0.34124629],\n",
       "       [0.70919881],\n",
       "       [0.61424332],\n",
       "       [0.59347181],\n",
       "       [0.59347181],\n",
       "       [0.59347181],\n",
       "       [0.59347181],\n",
       "       [0.59347181],\n",
       "       [0.59347181],\n",
       "       [0.59347181],\n",
       "       [0.59347181],\n",
       "       [0.59347181],\n",
       "       [0.59347181],\n",
       "       [0.59347181],\n",
       "       [0.59347181],\n",
       "       [0.59347181],\n",
       "       [0.59347181],\n",
       "       [0.59347181],\n",
       "       [0.59347181],\n",
       "       [0.59347181],\n",
       "       [0.59347181],\n",
       "       [0.59347181],\n",
       "       [0.59347181],\n",
       "       [0.59347181],\n",
       "       [0.59347181],\n",
       "       [0.62908012],\n",
       "       [0.52225519],\n",
       "       [0.69139466],\n",
       "       [0.56083086],\n",
       "       [0.59940653],\n",
       "       [0.50445104],\n",
       "       [0.71810089],\n",
       "       [0.3768546 ],\n",
       "       [0.7388724 ],\n",
       "       [0.59347181],\n",
       "       [0.59347181],\n",
       "       [0.59347181],\n",
       "       [0.59347181],\n",
       "       [0.59347181],\n",
       "       [0.59347181],\n",
       "       [0.59347181],\n",
       "       [0.59347181],\n",
       "       [0.59347181],\n",
       "       [0.59347181],\n",
       "       [0.59347181],\n",
       "       [0.59347181],\n",
       "       [0.59347181],\n",
       "       [0.59347181],\n",
       "       [0.59347181],\n",
       "       [0.59347181],\n",
       "       [0.59347181],\n",
       "       [0.59347181],\n",
       "       [0.59347181],\n",
       "       [0.66765579],\n",
       "       [0.48961424],\n",
       "       [0.6231454 ],\n",
       "       [0.59643917],\n",
       "       [0.62017804],\n",
       "       [0.61424332],\n",
       "       [0.47477745],\n",
       "       [0.60237389],\n",
       "       [0.65281899],\n",
       "       [0.59347181],\n",
       "       [0.59347181],\n",
       "       [0.59347181],\n",
       "       [0.59347181],\n",
       "       [0.59347181],\n",
       "       [0.59347181],\n",
       "       [0.59347181],\n",
       "       [0.59347181],\n",
       "       [0.59347181],\n",
       "       [0.59347181],\n",
       "       [0.59347181],\n",
       "       [0.59347181],\n",
       "       [0.59347181],\n",
       "       [0.59347181],\n",
       "       [0.59347181],\n",
       "       [0.59347181],\n",
       "       [0.59347181],\n",
       "       [0.59347181],\n",
       "       [0.59347181],\n",
       "       [0.59347181],\n",
       "       [0.59347181],\n",
       "       [0.59347181],\n",
       "       [0.62017804],\n",
       "       [0.63204748],\n",
       "       [0.50445104],\n",
       "       [0.73293769],\n",
       "       [0.38872404],\n",
       "       [0.72106825],\n",
       "       [0.49851632],\n",
       "       [0.5727003 ],\n",
       "       [0.67062315],\n",
       "       [0.59347181],\n",
       "       [0.59347181],\n",
       "       [0.59347181],\n",
       "       [0.59347181],\n",
       "       [0.59347181],\n",
       "       [0.59347181],\n",
       "       [0.59347181],\n",
       "       [0.59347181],\n",
       "       [0.59347181],\n",
       "       [0.59347181],\n",
       "       [0.59347181],\n",
       "       [0.59347181],\n",
       "       [0.59347181],\n",
       "       [0.59347181],\n",
       "       [0.59347181],\n",
       "       [0.59347181],\n",
       "       [0.59347181],\n",
       "       [0.59347181],\n",
       "       [0.59347181],\n",
       "       [0.59347181],\n",
       "       [0.59347181],\n",
       "       [0.77151335],\n",
       "       [0.25816024],\n",
       "       [0.80712166],\n",
       "       [0.56676558],\n",
       "       [0.58753709],\n",
       "       [0.43916914],\n",
       "       [0.79228487],\n",
       "       [0.45697329],\n",
       "       [0.66172107],\n",
       "       [0.59347181],\n",
       "       [0.59347181],\n",
       "       [0.59347181],\n",
       "       [0.59347181],\n",
       "       [0.59347181],\n",
       "       [0.59347181],\n",
       "       [0.59347181],\n",
       "       [0.59347181],\n",
       "       [0.59347181],\n",
       "       [0.59347181],\n",
       "       [0.59347181],\n",
       "       [0.59347181],\n",
       "       [0.59347181],\n",
       "       [0.59347181],\n",
       "       [0.59347181],\n",
       "       [0.59643917],\n",
       "       [0.69139466],\n",
       "       [0.38872404],\n",
       "       [0.69732938],\n",
       "       [0.59347181],\n",
       "       [0.59347181],\n",
       "       [0.59347181],\n",
       "       [0.70623145],\n",
       "       [0.44807122],\n",
       "       [0.54599407],\n",
       "       [0.82789318],\n",
       "       [0.31750742],\n",
       "       [0.8041543 ],\n",
       "       [0.46587537],\n",
       "       [0.64391691],\n",
       "       [0.75074184],\n",
       "       [0.22255193],\n",
       "       [0.85163205],\n",
       "       [0.46587537],\n",
       "       [0.68545994],\n",
       "       [0.54896142],\n",
       "       [0.61424332],\n",
       "       [0.60534125],\n",
       "       [0.71810089],\n",
       "       [0.38575668],\n",
       "       [0.69436202],\n",
       "       [0.51335312],\n",
       "       [0.70623145],\n",
       "       [0.43916914],\n",
       "       [0.73293769],\n",
       "       [0.51038576],\n",
       "       [0.64391691],\n",
       "       [0.51632047],\n",
       "       [0.65875371],\n",
       "       [0.59347181],\n",
       "       [0.59347181],\n",
       "       [0.59347181],\n",
       "       [0.65578635],\n",
       "       [0.58160237],\n",
       "       [0.46884273],\n",
       "       [0.69732938],\n",
       "       [0.67952522],\n",
       "       [0.34421365],\n",
       "       [0.82789318],\n",
       "       [0.43620178],\n",
       "       [0.6231454 ],\n",
       "       [0.66468843],\n",
       "       [0.43620178],\n",
       "       [0.78041543],\n",
       "       [0.59643917],\n",
       "       [0.39465875],\n",
       "       [0.75964392],\n",
       "       [0.52818991],\n",
       "       [0.71216617],\n",
       "       [0.34421365],\n",
       "       [0.85163205],\n",
       "       [0.44510386],\n",
       "       [0.64094955],\n",
       "       [0.63204748],\n",
       "       [0.5074184 ],\n",
       "       [0.68249258],\n",
       "       [0.42433234],\n",
       "       [0.84569733],\n",
       "       [0.33234421],\n",
       "       [0.72403561],\n",
       "       [0.59347181],\n",
       "       [0.59347181],\n",
       "       [0.59347181],\n",
       "       [0.62017804],\n",
       "       [0.74480712],\n",
       "       [0.39169139],\n",
       "       [0.53412463],\n",
       "       [0.57863501],\n",
       "       [0.84569733],\n",
       "       [0.36498516],\n",
       "       [0.58753709],\n",
       "       [0.77151335],\n",
       "       [0.45994065],\n",
       "       [0.65281899],\n",
       "       [0.54599407],\n",
       "       [0.58753709],\n",
       "       [0.62611276],\n",
       "       [0.57566766],\n",
       "       [0.6379822 ],\n",
       "       [0.6231454 ],\n",
       "       [0.50148368],\n",
       "       [0.64985163],\n",
       "       [0.46884273],\n",
       "       [0.75667656],\n",
       "       [0.49851632],\n",
       "       [0.66765579],\n",
       "       [0.64688427],\n",
       "       [0.39169139],\n",
       "       [0.71810089],\n",
       "       [0.49851632],\n",
       "       [0.67062315],\n",
       "       [0.59347181],\n",
       "       [0.59347181],\n",
       "       [0.59347181],\n",
       "       [0.64391691],\n",
       "       [0.49554896],\n",
       "       [0.76261128],\n",
       "       [0.39762611],\n",
       "       [0.71216617],\n",
       "       [0.57863501],\n",
       "       [0.57566766],\n",
       "       [0.49851632],\n",
       "       [0.72997033],\n",
       "       [0.53412463],\n",
       "       [0.57566766],\n",
       "       [0.59643917],\n",
       "       [0.68545994],\n",
       "       [0.53115727],\n",
       "       [0.5074184 ],\n",
       "       [0.70029674],\n",
       "       [0.55489614],\n",
       "       [0.6379822 ],\n",
       "       [0.52522255],\n",
       "       [0.71216617],\n",
       "       [0.41839763],\n",
       "       [0.70326409],\n",
       "       [0.48961424],\n",
       "       [0.65875371],\n",
       "       [0.70029674],\n",
       "       [0.41543027],\n",
       "       [0.68249258],\n",
       "       [0.59347181],\n",
       "       [0.59347181],\n",
       "       [0.59347181],\n",
       "       [0.84569733],\n",
       "       [0.21364985],\n",
       "       [0.66468843],\n",
       "       [0.65281899],\n",
       "       [0.58753709],\n",
       "       [0.6231454 ],\n",
       "       [0.54005935],\n",
       "       [0.68545994],\n",
       "       [0.57863501],\n",
       "       [0.35905045],\n",
       "       [1.        ],\n",
       "       [0.14836795],\n",
       "       [0.87537092],\n",
       "       [0.47477745],\n",
       "       [0.65281899],\n",
       "       [0.74777448],\n",
       "       [0.28486647],\n",
       "       [0.74777448],\n",
       "       [0.62017804],\n",
       "       [0.54005935],\n",
       "       [0.62017804],\n",
       "       [0.59347181],\n",
       "       [0.59347181],\n",
       "       [0.64985163],\n",
       "       [0.6735905 ],\n",
       "       [0.37091988],\n",
       "       [0.5727003 ],\n",
       "       [0.70029674],\n",
       "       [0.59347181],\n",
       "       [0.59347181],\n",
       "       [0.59347181],\n",
       "       [0.61424332],\n",
       "       [0.65281899],\n",
       "       [0.47774481],\n",
       "       [0.6231454 ],\n",
       "       [0.62908012],\n",
       "       [0.62017804],\n",
       "       [0.47477745],\n",
       "       [0.61424332],\n",
       "       [0.74777448],\n",
       "       [0.33531157],\n",
       "       [0.86350148],\n",
       "       [0.51928783],\n",
       "       [0.53709199],\n",
       "       [0.46884273],\n",
       "       [0.7537092 ],\n",
       "       [0.61424332],\n",
       "       [0.47774481],\n",
       "       [0.69139466],\n",
       "       [0.51335312],\n",
       "       [0.72403561],\n",
       "       [0.40949555],\n",
       "       [0.69436202],\n",
       "       [0.68249258],\n",
       "       [0.43916914],\n",
       "       [0.71810089],\n",
       "       [0.42136499],\n",
       "       [0.70623145],\n",
       "       [0.59347181],\n",
       "       [0.59347181],\n",
       "       [0.59347181],\n",
       "       [0.6884273 ],\n",
       "       [0.47181009],\n",
       "       [0.70029674],\n",
       "       [0.45697329],\n",
       "       [0.8041543 ],\n",
       "       [0.30267062],\n",
       "       [0.80118694],\n",
       "       [0.40356083],\n",
       "       [0.75667656],\n",
       "       [0.48961424],\n",
       "       [0.76261128],\n",
       "       [0.40652819],\n",
       "       [0.64391691],\n",
       "       [0.72997033],\n",
       "       [0.35311573],\n",
       "       [0.72403561],\n",
       "       [0.64094955],\n",
       "       [0.60830861],\n",
       "       [0.4421365 ],\n",
       "       [0.75964392],\n",
       "       [0.49851632],\n",
       "       [0.51038576],\n",
       "       [0.77448071],\n",
       "       [0.61424332],\n",
       "       [0.42136499],\n",
       "       [0.69139466],\n",
       "       [0.41839763],\n",
       "       [0.84569733],\n",
       "       [0.50148368],\n",
       "       [0.51632047],\n",
       "       [0.72106825],\n",
       "       [0.48664688],\n",
       "       [0.60830861],\n",
       "       [0.6735905 ],\n",
       "       [0.55489614],\n",
       "       [0.6735905 ],\n",
       "       [0.45697329],\n",
       "       [0.90504451],\n",
       "       [0.        ],\n",
       "       [0.87833828],\n",
       "       [0.59347181],\n",
       "       [0.68545994],\n",
       "       [0.54005935],\n",
       "       [0.6231454 ],\n",
       "       [0.55489614],\n",
       "       [0.66172107],\n",
       "       [0.46884273],\n",
       "       [0.74777448],\n",
       "       [0.38575668],\n",
       "       [0.78041543],\n",
       "       [0.45697329],\n",
       "       [0.6735905 ],\n",
       "       [0.66468843],\n",
       "       [0.40949555],\n",
       "       [0.71216617],\n",
       "       [0.64094955],\n",
       "       [0.55192878],\n",
       "       [0.57566766],\n",
       "       [0.59347181],\n",
       "       [0.60237389],\n",
       "       [0.5074184 ],\n",
       "       [0.72997033],\n",
       "       [0.49851632],\n",
       "       [0.66468843],\n",
       "       [0.61721068],\n",
       "       [0.43323442],\n",
       "       [0.88724036],\n",
       "       [0.24332344],\n",
       "       [0.76261128],\n",
       "       [0.57566766],\n",
       "       [0.47477745],\n",
       "       [0.8041543 ],\n",
       "       [0.45994065],\n",
       "       [0.69436202],\n",
       "       [0.43620178],\n",
       "       [0.77744807],\n",
       "       [0.48367953],\n",
       "       [0.64688427],\n",
       "       [0.62017804],\n",
       "       [0.51632047],\n",
       "       [0.61127596],\n",
       "       [0.56676558],\n",
       "       [0.62611276],\n",
       "       [0.71810089],\n",
       "       [0.3768546 ],\n",
       "       [0.6735905 ],\n",
       "       [0.66172107],\n",
       "       [0.5074184 ],\n",
       "       [0.62611276],\n",
       "       [0.5578635 ],\n",
       "       [0.64985163],\n",
       "       [0.59050445],\n",
       "       [0.54599407],\n",
       "       [0.69732938],\n",
       "       [0.45103858],\n",
       "       [0.75964392],\n",
       "       [0.47181009],\n",
       "       [0.57863501],\n",
       "       [0.56676558],\n",
       "       [0.62017804],\n",
       "       [0.61424332],\n",
       "       [0.71513353],\n",
       "       [0.32047478],\n",
       "       [0.80712166],\n",
       "       [0.56379822],\n",
       "       [0.57863501],\n",
       "       [0.62611276],\n",
       "       [0.5727003 ],\n",
       "       [0.65281899],\n",
       "       [0.37388724],\n",
       "       [0.78635015],\n",
       "       [0.5727003 ],\n",
       "       [0.5578635 ],\n",
       "       [0.52522255],\n",
       "       [0.81008902],\n",
       "       [0.39762611],\n",
       "       [0.58160237],\n",
       "       [0.67062315],\n",
       "       [0.58456973],\n",
       "       [0.61127596],\n",
       "       [0.66468843],\n",
       "       [0.42433234],\n",
       "       [0.79228487],\n",
       "       [0.38575668],\n",
       "       [0.84866469],\n",
       "       [0.31750742],\n",
       "       [0.67655786],\n",
       "       [0.87833828],\n",
       "       [0.03264095],\n",
       "       [0.98219585],\n",
       "       [0.35014837],\n",
       "       [0.92878338],\n",
       "       [0.33234421],\n",
       "       [0.64391691],\n",
       "       [0.6231454 ],\n",
       "       [0.60534125],\n",
       "       [0.69139466],\n",
       "       [0.3264095 ],\n",
       "       [0.80712166],\n",
       "       [0.52522255],\n",
       "       [0.64094955],\n",
       "       [0.51335312],\n",
       "       [0.6884273 ],\n",
       "       [0.54302671],\n",
       "       [0.50148368],\n",
       "       [0.74480712],\n",
       "       [0.53412463],\n",
       "       [0.6231454 ],\n",
       "       [0.60830861],\n",
       "       [0.53115727],\n",
       "       [0.62017804],\n",
       "       [0.53709199],\n",
       "       [0.68249258],\n",
       "       [0.4925816 ],\n",
       "       [0.91394659],\n",
       "       [0.14540059],\n",
       "       [0.9851632 ],\n",
       "       [0.28189911],\n",
       "       [0.53412463],\n",
       "       [0.78041543],\n",
       "       [0.64391691],\n",
       "       [0.45697329],\n",
       "       [0.70623145],\n",
       "       [0.56676558],\n",
       "       [0.58753709],\n",
       "       [0.52522255],\n",
       "       [0.72403561],\n",
       "       [0.47774481],\n",
       "       [0.61721068],\n",
       "       [0.56083086],\n",
       "       [0.65875371],\n",
       "       [0.59050445],\n",
       "       [0.58160237],\n",
       "       [0.67062315],\n",
       "       [0.56676558],\n",
       "       [0.4925816 ],\n",
       "       [0.62908012],\n",
       "       [0.58753709],\n",
       "       [0.58753709],\n",
       "       [0.57566766],\n",
       "       [0.71216617],\n",
       "       [0.44510386],\n",
       "       [0.70623145],\n",
       "       [0.57566766],\n",
       "       [0.56083086],\n",
       "       [0.64094955],\n",
       "       [0.7388724 ],\n",
       "       [0.27299703],\n",
       "       [0.76557864],\n",
       "       [0.51335312],\n",
       "       [0.61424332],\n",
       "       [0.58753709],\n",
       "       [0.64094955],\n",
       "       [0.50445104],\n",
       "       [0.72403561],\n",
       "       [0.70326409],\n",
       "       [0.26409496],\n",
       "       [0.85163205],\n",
       "       [0.46290801],\n",
       "       [0.66172107],\n",
       "       [0.49851632],\n",
       "       [0.59940653],\n",
       "       [0.74777448],\n",
       "       [0.45994065],\n",
       "       [0.6231454 ],\n",
       "       [0.58160237],\n",
       "       [0.66172107],\n",
       "       [0.43916914],\n",
       "       [0.87537092],\n",
       "       [0.35311573],\n",
       "       [0.67062315],\n",
       "       [0.45994065],\n",
       "       [0.76557864],\n",
       "       [0.60237389],\n",
       "       [0.39762611],\n",
       "       [0.85163205],\n",
       "       [0.30267062],\n",
       "       [0.75964392],\n",
       "       [0.80712166],\n",
       "       [0.26706231],\n",
       "       [0.64391691],\n",
       "       [0.71810089],\n",
       "       [0.51335312],\n",
       "       [0.67952522],\n",
       "       [0.53115727],\n",
       "       [0.56083086],\n",
       "       [0.66468843],\n",
       "       [0.53115727],\n",
       "       [0.5578635 ],\n",
       "       [0.62908012],\n",
       "       [0.72403561],\n",
       "       [0.38278932],\n",
       "       [0.64391691],\n",
       "       [0.64688427],\n",
       "       [0.55192878],\n",
       "       [0.64985163],\n",
       "       [0.61424332],\n",
       "       [0.54896142],\n",
       "       [0.62611276],\n",
       "       [0.5727003 ],\n",
       "       [0.58160237],\n",
       "       [0.51038576],\n",
       "       [0.6884273 ],\n",
       "       [0.72997033],\n",
       "       [0.3115727 ],\n",
       "       [0.79821958],\n",
       "       [0.55192878],\n",
       "       [0.55489614],\n",
       "       [0.47181009],\n",
       "       [0.86646884],\n",
       "       [0.45994065],\n",
       "       [0.58160237],\n",
       "       [0.54302671],\n",
       "       [0.56676558],\n",
       "       [0.80118694],\n",
       "       [0.6379822 ],\n",
       "       [0.20771513],\n",
       "       [0.92581602],\n",
       "       [0.47774481],\n",
       "       [0.58456973],\n",
       "       [0.59347181],\n",
       "       [0.57566766],\n",
       "       [0.62611276],\n",
       "       [0.57863501],\n",
       "       [0.60237389],\n",
       "       [0.62611276],\n",
       "       [0.45103858],\n",
       "       [0.63501484],\n",
       "       [0.66172107],\n",
       "       [0.70623145],\n",
       "       [0.48664688],\n",
       "       [0.54896142],\n",
       "       [0.65578635],\n",
       "       [0.55192878],\n",
       "       [0.64094955],\n",
       "       [0.53412463],\n",
       "       [0.56676558],\n",
       "       [0.62017804],\n",
       "       [0.77448071],\n",
       "       [0.29080119],\n",
       "       [0.74480712],\n",
       "       [0.59347181],\n",
       "       [0.81602374],\n",
       "       [0.28189911],\n",
       "       [0.66765579],\n",
       "       [0.68545994],\n",
       "       [0.44807122],\n",
       "       [0.66765579],\n",
       "       [0.66172107],\n",
       "       [0.48367953],\n",
       "       [0.71513353],\n",
       "       [0.33234421],\n",
       "       [0.84272997],\n",
       "       [0.48961424],\n",
       "       [0.66172107],\n",
       "       [0.59050445],\n",
       "       [0.48664688],\n",
       "       [0.79228487],\n",
       "       [0.27299703],\n",
       "       [0.81305638],\n",
       "       [0.62017804],\n",
       "       [0.52522255],\n",
       "       [0.62017804],\n",
       "       [0.59050445],\n",
       "       [0.51335312],\n",
       "       [0.72106825],\n",
       "       [0.5074184 ],\n",
       "       [0.72700297],\n",
       "       [0.43026706],\n",
       "       [0.54005935],\n",
       "       [0.72403561],\n",
       "       [0.70919881],\n",
       "       [0.37091988],\n",
       "       [0.69732938],\n",
       "       [0.75667656],\n",
       "       [0.31454006],\n",
       "       [0.6379822 ],\n",
       "       [0.53412463],\n",
       "       [0.86350148],\n",
       "       [0.39169139],\n",
       "       [0.67952522],\n",
       "       [0.55192878],\n",
       "       [0.61127596],\n",
       "       [0.64094955],\n",
       "       [0.43620178],\n",
       "       [0.75074184],\n",
       "       [0.37388724],\n",
       "       [0.82195846],\n",
       "       [0.5578635 ],\n",
       "       [0.5578635 ],\n",
       "       [0.47774481],\n",
       "       [0.7388724 ],\n",
       "       [0.56973294],\n",
       "       [0.59050445],\n",
       "       [0.57566766],\n",
       "       [0.70326409],\n",
       "       [0.49851632],\n",
       "       [0.59050445],\n",
       "       [0.66172107],\n",
       "       [0.57863501],\n",
       "       [0.29970326],\n",
       "       [0.99406528],\n",
       "       [0.4272997 ],\n",
       "       [0.59050445],\n",
       "       [0.58160237],\n",
       "       [0.59643917],\n",
       "       [0.71216617],\n",
       "       [0.28783383],\n",
       "       [0.84569733],\n",
       "       [0.73293769],\n",
       "       [0.37982196],\n",
       "       [0.5074184 ],\n",
       "       [0.64391691],\n",
       "       [0.90504451],\n",
       "       [0.14243323],\n",
       "       [0.9495549 ],\n",
       "       [0.51038576],\n",
       "       [0.32047478],\n",
       "       [0.87833828],\n",
       "       [0.71810089],\n",
       "       [0.10089021],\n",
       "       [0.88724036],\n",
       "       [0.6231454 ],\n",
       "       [0.48071217],\n",
       "       [0.7537092 ],\n",
       "       [0.39465875],\n",
       "       [0.89614243],\n",
       "       [0.3264095 ],\n",
       "       [0.63501484],\n",
       "       [0.68249258],\n",
       "       [0.45994065],\n",
       "       [0.74480712],\n",
       "       [0.51038576],\n",
       "       [0.65281899],\n",
       "       [0.67062315],\n",
       "       [0.2462908 ],\n",
       "       [0.91097923],\n",
       "       [0.56973294],\n",
       "       [0.5727003 ],\n",
       "       [0.48664688],\n",
       "       [0.64688427],\n",
       "       [0.66765579],\n",
       "       [0.32344214],\n",
       "       [0.99703264],\n",
       "       [0.22551929],\n",
       "       [0.77744807],\n",
       "       [0.64688427],\n",
       "       [0.54302671],\n",
       "       [0.46587537],\n",
       "       [0.67062315],\n",
       "       [0.74777448],\n",
       "       [0.28189911],\n",
       "       [0.78041543],\n",
       "       [0.59347181],\n",
       "       [0.59347181],\n",
       "       [0.59347181],\n",
       "       [0.59347181],\n",
       "       [0.59347181],\n",
       "       [0.59347181],\n",
       "       [0.59347181],\n",
       "       [0.59347181],\n",
       "       [0.59347181],\n",
       "       [0.59347181],\n",
       "       [0.59347181],\n",
       "       [0.59347181],\n",
       "       [0.59347181],\n",
       "       [0.59347181],\n",
       "       [0.59347181],\n",
       "       [0.59347181],\n",
       "       [0.59347181],\n",
       "       [0.59347181],\n",
       "       [0.59347181],\n",
       "       [0.59347181],\n",
       "       [0.59347181],\n",
       "       [0.59347181],\n",
       "       [0.59347181],\n",
       "       [0.59347181],\n",
       "       [0.59347181],\n",
       "       [0.59347181],\n",
       "       [0.59347181],\n",
       "       [0.59347181],\n",
       "       [0.59347181],\n",
       "       [0.79228487],\n",
       "       [0.1958457 ],\n",
       "       [0.79228487],\n",
       "       [0.59347181],\n",
       "       [0.59347181],\n",
       "       [0.59347181],\n",
       "       [0.59347181],\n",
       "       [0.59347181],\n",
       "       [0.59347181],\n",
       "       [0.59347181],\n",
       "       [0.59347181],\n",
       "       [0.59347181],\n",
       "       [0.59347181],\n",
       "       [0.59347181],\n",
       "       [0.59347181],\n",
       "       [0.59347181],\n",
       "       [0.59347181],\n",
       "       [0.59347181],\n",
       "       [0.59347181],\n",
       "       [0.59347181],\n",
       "       [0.59347181],\n",
       "       [0.59347181],\n",
       "       [0.59347181],\n",
       "       [0.59347181],\n",
       "       [0.59347181],\n",
       "       [0.59347181],\n",
       "       [0.59347181],\n",
       "       [0.59347181],\n",
       "       [0.72700297],\n",
       "       [0.3264095 ],\n",
       "       [0.72700297],\n",
       "       [0.59347181],\n",
       "       [0.59347181],\n",
       "       [0.59347181],\n",
       "       [0.59347181],\n",
       "       [0.59347181],\n",
       "       [0.59347181],\n",
       "       [0.59347181],\n",
       "       [0.59347181],\n",
       "       [0.59347181],\n",
       "       [0.59347181],\n",
       "       [0.59347181],\n",
       "       [0.59347181],\n",
       "       [0.59347181],\n",
       "       [0.59347181],\n",
       "       [0.59347181],\n",
       "       [0.59347181],\n",
       "       [0.59347181],\n",
       "       [0.59347181],\n",
       "       [0.59347181],\n",
       "       [0.59347181],\n",
       "       [0.59347181],\n",
       "       [0.59347181],\n",
       "       [0.59347181],\n",
       "       [0.59347181],\n",
       "       [0.59347181],\n",
       "       [0.59347181],\n",
       "       [0.59347181],\n",
       "       [0.59347181],\n",
       "       [0.81008902],\n",
       "       [0.16023739],\n",
       "       [0.81008902],\n",
       "       [0.59347181],\n",
       "       [0.59347181],\n",
       "       [0.59347181],\n",
       "       [0.59347181],\n",
       "       [0.59347181],\n",
       "       [0.59347181],\n",
       "       [0.59347181],\n",
       "       [0.59347181],\n",
       "       [0.59347181],\n",
       "       [0.59347181],\n",
       "       [0.59347181],\n",
       "       [0.59347181],\n",
       "       [0.59347181],\n",
       "       [0.59347181],\n",
       "       [0.59347181],\n",
       "       [0.59347181],\n",
       "       [0.59347181],\n",
       "       [0.59347181],\n",
       "       [0.59347181],\n",
       "       [0.59347181],\n",
       "       [0.59347181],\n",
       "       [0.59347181],\n",
       "       [0.59347181],\n",
       "       [0.59347181],\n",
       "       [0.59347181],\n",
       "       [0.59347181],\n",
       "       [0.59347181],\n",
       "       [0.79525223],\n",
       "       [0.18991098],\n",
       "       [0.79525223],\n",
       "       [0.59347181],\n",
       "       [0.59347181],\n",
       "       [0.59347181],\n",
       "       [0.59347181],\n",
       "       [0.59347181],\n",
       "       [0.59347181],\n",
       "       [0.59347181],\n",
       "       [0.59347181],\n",
       "       [0.59347181],\n",
       "       [0.59347181],\n",
       "       [0.59347181],\n",
       "       [0.59347181],\n",
       "       [0.59347181],\n",
       "       [0.59347181],\n",
       "       [0.59347181],\n",
       "       [0.59347181],\n",
       "       [0.59347181],\n",
       "       [0.59347181],\n",
       "       [0.59347181],\n",
       "       [0.59347181],\n",
       "       [0.59347181],\n",
       "       [0.59347181],\n",
       "       [0.59347181],\n",
       "       [0.59347181],\n",
       "       [0.59347181],\n",
       "       [0.59347181],\n",
       "       [0.59347181],\n",
       "       [0.59347181],\n",
       "       [0.65578635]])"
      ]
     },
     "execution_count": 287,
     "metadata": {},
     "output_type": "execute_result"
    }
   ],
   "source": [
    "data_Scaled"
   ]
  },
  {
   "cell_type": "code",
   "execution_count": 288,
   "id": "8caec306-03b6-4f34-957e-ceead59b59fe",
   "metadata": {},
   "outputs": [],
   "source": [
    "data=pd.DataFrame(data_Scaled,columns=data.columns)"
   ]
  },
  {
   "cell_type": "code",
   "execution_count": 289,
   "id": "cff99500-3b7f-4c13-9d95-93e54ad215dd",
   "metadata": {},
   "outputs": [],
   "source": [
    "## Creating training and test sets\n",
    "train=data[:698] #from 0th row to 96th row - traning data\n",
    "test=data[698:] #from 96th row to end - testing data"
   ]
  },
  {
   "cell_type": "code",
   "execution_count": 290,
   "id": "2e8de982-778e-4981-afed-618858584d55",
   "metadata": {},
   "outputs": [
    {
     "data": {
      "text/html": [
       "<div>\n",
       "<style scoped>\n",
       "    .dataframe tbody tr th:only-of-type {\n",
       "        vertical-align: middle;\n",
       "    }\n",
       "\n",
       "    .dataframe tbody tr th {\n",
       "        vertical-align: top;\n",
       "    }\n",
       "\n",
       "    .dataframe thead th {\n",
       "        text-align: right;\n",
       "    }\n",
       "</style>\n",
       "<table border=\"1\" class=\"dataframe\">\n",
       "  <thead>\n",
       "    <tr style=\"text-align: right;\">\n",
       "      <th></th>\n",
       "      <th>spare_part</th>\n",
       "    </tr>\n",
       "  </thead>\n",
       "  <tbody>\n",
       "    <tr>\n",
       "      <th>0</th>\n",
       "      <td>0.243323</td>\n",
       "    </tr>\n",
       "    <tr>\n",
       "      <th>1</th>\n",
       "      <td>0.910979</td>\n",
       "    </tr>\n",
       "    <tr>\n",
       "      <th>2</th>\n",
       "      <td>0.341246</td>\n",
       "    </tr>\n",
       "    <tr>\n",
       "      <th>3</th>\n",
       "      <td>0.709199</td>\n",
       "    </tr>\n",
       "    <tr>\n",
       "      <th>4</th>\n",
       "      <td>0.614243</td>\n",
       "    </tr>\n",
       "    <tr>\n",
       "      <th>...</th>\n",
       "      <td>...</td>\n",
       "    </tr>\n",
       "    <tr>\n",
       "      <th>693</th>\n",
       "      <td>0.480712</td>\n",
       "    </tr>\n",
       "    <tr>\n",
       "      <th>694</th>\n",
       "      <td>0.753709</td>\n",
       "    </tr>\n",
       "    <tr>\n",
       "      <th>695</th>\n",
       "      <td>0.394659</td>\n",
       "    </tr>\n",
       "    <tr>\n",
       "      <th>696</th>\n",
       "      <td>0.896142</td>\n",
       "    </tr>\n",
       "    <tr>\n",
       "      <th>697</th>\n",
       "      <td>0.326409</td>\n",
       "    </tr>\n",
       "  </tbody>\n",
       "</table>\n",
       "<p>698 rows × 1 columns</p>\n",
       "</div>"
      ],
      "text/plain": [
       "     spare_part\n",
       "0      0.243323\n",
       "1      0.910979\n",
       "2      0.341246\n",
       "3      0.709199\n",
       "4      0.614243\n",
       "..          ...\n",
       "693    0.480712\n",
       "694    0.753709\n",
       "695    0.394659\n",
       "696    0.896142\n",
       "697    0.326409\n",
       "\n",
       "[698 rows x 1 columns]"
      ]
     },
     "execution_count": 290,
     "metadata": {},
     "output_type": "execute_result"
    }
   ],
   "source": [
    "train"
   ]
  },
  {
   "cell_type": "code",
   "execution_count": 291,
   "id": "b7181312-cf6d-47ab-8c3f-49a2507fdaf2",
   "metadata": {},
   "outputs": [
    {
     "data": {
      "text/html": [
       "<div>\n",
       "<style scoped>\n",
       "    .dataframe tbody tr th:only-of-type {\n",
       "        vertical-align: middle;\n",
       "    }\n",
       "\n",
       "    .dataframe tbody tr th {\n",
       "        vertical-align: top;\n",
       "    }\n",
       "\n",
       "    .dataframe thead th {\n",
       "        text-align: right;\n",
       "    }\n",
       "</style>\n",
       "<table border=\"1\" class=\"dataframe\">\n",
       "  <thead>\n",
       "    <tr style=\"text-align: right;\">\n",
       "      <th></th>\n",
       "      <th>spare_part</th>\n",
       "    </tr>\n",
       "  </thead>\n",
       "  <tbody>\n",
       "    <tr>\n",
       "      <th>698</th>\n",
       "      <td>0.635015</td>\n",
       "    </tr>\n",
       "    <tr>\n",
       "      <th>699</th>\n",
       "      <td>0.682493</td>\n",
       "    </tr>\n",
       "    <tr>\n",
       "      <th>700</th>\n",
       "      <td>0.459941</td>\n",
       "    </tr>\n",
       "    <tr>\n",
       "      <th>701</th>\n",
       "      <td>0.744807</td>\n",
       "    </tr>\n",
       "    <tr>\n",
       "      <th>702</th>\n",
       "      <td>0.510386</td>\n",
       "    </tr>\n",
       "    <tr>\n",
       "      <th>...</th>\n",
       "      <td>...</td>\n",
       "    </tr>\n",
       "    <tr>\n",
       "      <th>868</th>\n",
       "      <td>0.593472</td>\n",
       "    </tr>\n",
       "    <tr>\n",
       "      <th>869</th>\n",
       "      <td>0.593472</td>\n",
       "    </tr>\n",
       "    <tr>\n",
       "      <th>870</th>\n",
       "      <td>0.593472</td>\n",
       "    </tr>\n",
       "    <tr>\n",
       "      <th>871</th>\n",
       "      <td>0.593472</td>\n",
       "    </tr>\n",
       "    <tr>\n",
       "      <th>872</th>\n",
       "      <td>0.655786</td>\n",
       "    </tr>\n",
       "  </tbody>\n",
       "</table>\n",
       "<p>175 rows × 1 columns</p>\n",
       "</div>"
      ],
      "text/plain": [
       "     spare_part\n",
       "698    0.635015\n",
       "699    0.682493\n",
       "700    0.459941\n",
       "701    0.744807\n",
       "702    0.510386\n",
       "..          ...\n",
       "868    0.593472\n",
       "869    0.593472\n",
       "870    0.593472\n",
       "871    0.593472\n",
       "872    0.655786\n",
       "\n",
       "[175 rows x 1 columns]"
      ]
     },
     "execution_count": 291,
     "metadata": {},
     "output_type": "execute_result"
    }
   ],
   "source": [
    "test"
   ]
  },
  {
   "cell_type": "code",
   "execution_count": 292,
   "id": "3e8e45d8-6fe2-4674-b700-d5493d28369b",
   "metadata": {},
   "outputs": [
    {
     "name": "stdout",
     "output_type": "stream",
     "text": [
      "<class 'pandas.core.frame.DataFrame'>\n",
      "RangeIndex: 698 entries, 0 to 697\n",
      "Data columns (total 1 columns):\n",
      " #   Column      Non-Null Count  Dtype  \n",
      "---  ------      --------------  -----  \n",
      " 0   spare_part  698 non-null    float64\n",
      "dtypes: float64(1)\n",
      "memory usage: 5.6 KB\n"
     ]
    }
   ],
   "source": [
    "train.info()#info about datatype and null value"
   ]
  },
  {
   "cell_type": "code",
   "execution_count": 188,
   "id": "55e56326-8378-483c-a456-c84f41b81b7c",
   "metadata": {},
   "outputs": [],
   "source": [
    "## Applying autoregressive model\n",
    "#from statsmodels.tsa.ar_model import AR\n",
    "##from statsmodels.tsa.ar_model import AutoReg\n",
    "\n",
    "from statsmodels.tsa.ar_model import AutoReg\n"
   ]
  },
  {
   "cell_type": "code",
   "execution_count": 293,
   "id": "9b16cd87-2053-4c52-8989-48ba96236dce",
   "metadata": {},
   "outputs": [
    {
     "data": {
      "text/plain": [
       "[1, 2, 3, 4, 5, 6, 7, 8, 9, 10, 11, 12, 13, 14]"
      ]
     },
     "execution_count": 293,
     "metadata": {},
     "output_type": "execute_result"
    }
   ],
   "source": [
    "#ar_select_order : gives the best lags ordered as an array\n",
    "\n",
    "# to select the optimal values for lags\n",
    "from statsmodels.tsa.ar_model import ar_select_order\n",
    "mod = ar_select_order(data,maxlag=17,glob=True)\n",
    "mod.ar_lags\n",
    "\n",
    "# select_order: selects the best number of lags\n",
    "# maxlag: The maximum lag to consider\n",
    "# glob: global search across all combinations of lags"
   ]
  },
  {
   "cell_type": "code",
   "execution_count": 294,
   "id": "976d037f-ab69-4ad2-8069-c4b182a8c168",
   "metadata": {},
   "outputs": [],
   "source": [
    "## model creation\n",
    "ar_model=AutoReg(train,lags=[1,2,3,4,5,6,7,8,9,19,11,12,13,14]) ## object creation with lags specified\n",
    "ar_model_fit=ar_model.fit() #training the model"
   ]
  },
  {
   "cell_type": "code",
   "execution_count": 295,
   "id": "9804b476-c95d-4119-bcec-2b7cceaea8e9",
   "metadata": {},
   "outputs": [],
   "source": [
    "##making prediction\n",
    "prediction=ar_model_fit.predict(start=698, end=873)"
   ]
  },
  {
   "cell_type": "code",
   "execution_count": 296,
   "id": "3107057f-becd-4a75-84c4-824eaaba1c70",
   "metadata": {},
   "outputs": [
    {
     "data": {
      "text/plain": [
       "698    0.657471\n",
       "699    0.614352\n",
       "700    0.558800\n",
       "701    0.632192\n",
       "702    0.566520\n",
       "dtype: float64"
      ]
     },
     "execution_count": 296,
     "metadata": {},
     "output_type": "execute_result"
    }
   ],
   "source": [
    "prediction.head()"
   ]
  },
  {
   "cell_type": "code",
   "execution_count": 297,
   "id": "f03d545e-2339-40ed-9300-207c06baebf6",
   "metadata": {},
   "outputs": [
    {
     "data": {
      "text/html": [
       "<div>\n",
       "<style scoped>\n",
       "    .dataframe tbody tr th:only-of-type {\n",
       "        vertical-align: middle;\n",
       "    }\n",
       "\n",
       "    .dataframe tbody tr th {\n",
       "        vertical-align: top;\n",
       "    }\n",
       "\n",
       "    .dataframe thead th {\n",
       "        text-align: right;\n",
       "    }\n",
       "</style>\n",
       "<table border=\"1\" class=\"dataframe\">\n",
       "  <thead>\n",
       "    <tr style=\"text-align: right;\">\n",
       "      <th></th>\n",
       "      <th>spare_part</th>\n",
       "    </tr>\n",
       "  </thead>\n",
       "  <tbody>\n",
       "    <tr>\n",
       "      <th>698</th>\n",
       "      <td>0.635015</td>\n",
       "    </tr>\n",
       "    <tr>\n",
       "      <th>699</th>\n",
       "      <td>0.682493</td>\n",
       "    </tr>\n",
       "    <tr>\n",
       "      <th>700</th>\n",
       "      <td>0.459941</td>\n",
       "    </tr>\n",
       "    <tr>\n",
       "      <th>701</th>\n",
       "      <td>0.744807</td>\n",
       "    </tr>\n",
       "    <tr>\n",
       "      <th>702</th>\n",
       "      <td>0.510386</td>\n",
       "    </tr>\n",
       "  </tbody>\n",
       "</table>\n",
       "</div>"
      ],
      "text/plain": [
       "     spare_part\n",
       "698    0.635015\n",
       "699    0.682493\n",
       "700    0.459941\n",
       "701    0.744807\n",
       "702    0.510386"
      ]
     },
     "execution_count": 297,
     "metadata": {},
     "output_type": "execute_result"
    }
   ],
   "source": [
    "test.head()"
   ]
  },
  {
   "cell_type": "code",
   "execution_count": 298,
   "id": "0cffb193-97c0-4077-8d07-f77df11bf5c5",
   "metadata": {},
   "outputs": [
    {
     "data": {
      "text/plain": [
       "[<matplotlib.lines.Line2D at 0x25ececb3050>]"
      ]
     },
     "execution_count": 298,
     "metadata": {},
     "output_type": "execute_result"
    },
    {
     "data": {
      "image/png": "[encoded data removed]",
      "text/plain": [
       "<Figure size 640x480 with 1 Axes>"
      ]
     },
     "metadata": {},
     "output_type": "display_data"
    }
   ],
   "source": [
    "import matplotlib.pyplot as plt\n",
    "\n",
    "plt.plot(test)\n",
    "plt.plot(prediction,color='green') #graph of test vs prediction"
   ]
  },
  {
   "cell_type": "markdown",
   "id": "2667ed3c-debf-4b88-a56f-94381bb54805",
   "metadata": {},
   "source": [
    "## ARIMA MODEL"
   ]
  },
  {
   "cell_type": "code",
   "execution_count": 299,
   "id": "20acd4a3-be3a-41d2-a4bd-f091065441d3",
   "metadata": {},
   "outputs": [],
   "source": [
    "## importing the library\n",
    "from statsmodels.tsa.arima.model import ARIMA"
   ]
  },
  {
   "cell_type": "code",
   "execution_count": 300,
   "id": "3be17b50-a2d6-422c-8e19-3761f3a9328a",
   "metadata": {},
   "outputs": [],
   "source": [
    "##Model object creation and fitting the model\n",
    "model_arima = ARIMA(train, order=(2,2,1))#order=p,d,q\n",
    "\n",
    "model_arima_fit = model_arima.fit()#training"
   ]
  },
  {
   "cell_type": "code",
   "execution_count": 302,
   "id": "6b500794-c9b1-4386-adbf-cbd35af8d4b5",
   "metadata": {},
   "outputs": [
    {
     "name": "stdout",
     "output_type": "stream",
     "text": [
      "-863.1370361078898\n"
     ]
    }
   ],
   "source": [
    "## evaluate the model\n",
    "print(model_arima_fit.aic)\n",
    "#no range or no limit for this aic"
   ]
  },
  {
   "cell_type": "code",
   "execution_count": 303,
   "id": "5593f178-ffe9-4573-80c9-d5d206f7179a",
   "metadata": {},
   "outputs": [],
   "source": [
    "## predicting the output of sample points\n",
    "predictions = model_arima_fit.forecast(steps=9)# first 9 \n",
    "#records to make prediction"
   ]
  },
  {
   "cell_type": "code",
   "execution_count": 304,
   "id": "48c88bc0-bcc0-43c8-a568-0332f744780a",
   "metadata": {},
   "outputs": [
    {
     "data": {
      "text/plain": [
       "698    0.726671\n",
       "699    0.581333\n",
       "700    0.513666\n",
       "701    0.689143\n",
       "702    0.511909\n",
       "703    0.624372\n",
       "704    0.594337\n",
       "705    0.561909\n",
       "706    0.621364\n",
       "Name: predicted_mean, dtype: float64"
      ]
     },
     "execution_count": 304,
     "metadata": {},
     "output_type": "execute_result"
    }
   ],
   "source": [
    "predictions"
   ]
  },
  {
   "cell_type": "code",
   "execution_count": 305,
   "id": "c6760dcb-db0f-4ba5-9788-e222149e69d2",
   "metadata": {},
   "outputs": [
    {
     "data": {
      "text/plain": [
       "[<matplotlib.lines.Line2D at 0x25ecec1d0d0>]"
      ]
     },
     "execution_count": 305,
     "metadata": {},
     "output_type": "execute_result"
    },
    {
     "data": {
      "image/png": "[encoded data removed]",
      "text/plain": [
       "<Figure size 640x480 with 1 Axes>"
      ]
     },
     "metadata": {},
     "output_type": "display_data"
    }
   ],
   "source": [
    "plt.plot(test[:25])\n",
    "plt.plot(predictions,color='green')"
   ]
  },
  {
   "cell_type": "code",
   "execution_count": 306,
   "id": "a2225e2d-3f36-472f-b458-90adffe5d5a8",
   "metadata": {},
   "outputs": [
    {
     "data": {
      "text/plain": [
       "[(0, 0, 0),\n",
       " (0, 0, 1),\n",
       " (0, 0, 2),\n",
       " (0, 0, 3),\n",
       " (0, 0, 4),\n",
       " (0, 1, 0),\n",
       " (0, 1, 1),\n",
       " (0, 1, 2),\n",
       " (0, 1, 3),\n",
       " (0, 1, 4),\n",
       " (0, 2, 0),\n",
       " (0, 2, 1),\n",
       " (0, 2, 2),\n",
       " (0, 2, 3),\n",
       " (0, 2, 4),\n",
       " (0, 3, 0),\n",
       " (0, 3, 1),\n",
       " (0, 3, 2),\n",
       " (0, 3, 3),\n",
       " (0, 3, 4),\n",
       " (0, 4, 0),\n",
       " (0, 4, 1),\n",
       " (0, 4, 2),\n",
       " (0, 4, 3),\n",
       " (0, 4, 4),\n",
       " (1, 0, 0),\n",
       " (1, 0, 1),\n",
       " (1, 0, 2),\n",
       " (1, 0, 3),\n",
       " (1, 0, 4),\n",
       " (1, 1, 0),\n",
       " (1, 1, 1),\n",
       " (1, 1, 2),\n",
       " (1, 1, 3),\n",
       " (1, 1, 4),\n",
       " (1, 2, 0),\n",
       " (1, 2, 1),\n",
       " (1, 2, 2),\n",
       " (1, 2, 3),\n",
       " (1, 2, 4),\n",
       " (1, 3, 0),\n",
       " (1, 3, 1),\n",
       " (1, 3, 2),\n",
       " (1, 3, 3),\n",
       " (1, 3, 4),\n",
       " (1, 4, 0),\n",
       " (1, 4, 1),\n",
       " (1, 4, 2),\n",
       " (1, 4, 3),\n",
       " (1, 4, 4),\n",
       " (2, 0, 0),\n",
       " (2, 0, 1),\n",
       " (2, 0, 2),\n",
       " (2, 0, 3),\n",
       " (2, 0, 4),\n",
       " (2, 1, 0),\n",
       " (2, 1, 1),\n",
       " (2, 1, 2),\n",
       " (2, 1, 3),\n",
       " (2, 1, 4),\n",
       " (2, 2, 0),\n",
       " (2, 2, 1),\n",
       " (2, 2, 2),\n",
       " (2, 2, 3),\n",
       " (2, 2, 4),\n",
       " (2, 3, 0),\n",
       " (2, 3, 1),\n",
       " (2, 3, 2),\n",
       " (2, 3, 3),\n",
       " (2, 3, 4),\n",
       " (2, 4, 0),\n",
       " (2, 4, 1),\n",
       " (2, 4, 2),\n",
       " (2, 4, 3),\n",
       " (2, 4, 4),\n",
       " (3, 0, 0),\n",
       " (3, 0, 1),\n",
       " (3, 0, 2),\n",
       " (3, 0, 3),\n",
       " (3, 0, 4),\n",
       " (3, 1, 0),\n",
       " (3, 1, 1),\n",
       " (3, 1, 2),\n",
       " (3, 1, 3),\n",
       " (3, 1, 4),\n",
       " (3, 2, 0),\n",
       " (3, 2, 1),\n",
       " (3, 2, 2),\n",
       " (3, 2, 3),\n",
       " (3, 2, 4),\n",
       " (3, 3, 0),\n",
       " (3, 3, 1),\n",
       " (3, 3, 2),\n",
       " (3, 3, 3),\n",
       " (3, 3, 4),\n",
       " (3, 4, 0),\n",
       " (3, 4, 1),\n",
       " (3, 4, 2),\n",
       " (3, 4, 3),\n",
       " (3, 4, 4),\n",
       " (4, 0, 0),\n",
       " (4, 0, 1),\n",
       " (4, 0, 2),\n",
       " (4, 0, 3),\n",
       " (4, 0, 4),\n",
       " (4, 1, 0),\n",
       " (4, 1, 1),\n",
       " (4, 1, 2),\n",
       " (4, 1, 3),\n",
       " (4, 1, 4),\n",
       " (4, 2, 0),\n",
       " (4, 2, 1),\n",
       " (4, 2, 2),\n",
       " (4, 2, 3),\n",
       " (4, 2, 4),\n",
       " (4, 3, 0),\n",
       " (4, 3, 1),\n",
       " (4, 3, 2),\n",
       " (4, 3, 3),\n",
       " (4, 3, 4),\n",
       " (4, 4, 0),\n",
       " (4, 4, 1),\n",
       " (4, 4, 2),\n",
       " (4, 4, 3),\n",
       " (4, 4, 4)]"
      ]
     },
     "execution_count": 306,
     "metadata": {},
     "output_type": "execute_result"
    }
   ],
   "source": [
    "## Geeting the optimal values of p,q an d\n",
    "import itertools\n",
    "\n",
    "p =d= q=range(0,5)#values of p,d,q range from 0 to 4\n",
    "\n",
    "pdq = list(itertools.product(p,d,q))\n",
    "# is used to find the cartesian product from the given iterator, output is lexicographic ordered.\n",
    "pdq #number of combinaton of pdq"
   ]
  },
  {
   "cell_type": "code",
   "execution_count": 307,
   "id": "f7b8975d-7a51-4fb6-b227-e50b4da8475e",
   "metadata": {},
   "outputs": [
    {
     "name": "stdout",
     "output_type": "stream",
     "text": [
      "(0, 0, 0) -763.6827410681962\n",
      "(0, 0, 1) -1533.6954013235097\n",
      "(0, 0, 2) -1858.8446469844303\n"
     ]
    },
    {
     "name": "stderr",
     "output_type": "stream",
     "text": [
      "C:\\ProgramData\\anaconda3\\Lib\\site-packages\\statsmodels\\base\\model.py:607: ConvergenceWarning: Maximum Likelihood optimization failed to converge. Check mle_retvals\n",
      "  warnings.warn(\"Maximum Likelihood optimization failed to \"\n"
     ]
    },
    {
     "name": "stdout",
     "output_type": "stream",
     "text": [
      "(0, 0, 3) -1853.9568282450844\n"
     ]
    },
    {
     "name": "stderr",
     "output_type": "stream",
     "text": [
      "C:\\ProgramData\\anaconda3\\Lib\\site-packages\\statsmodels\\base\\model.py:607: ConvergenceWarning: Maximum Likelihood optimization failed to converge. Check mle_retvals\n",
      "  warnings.warn(\"Maximum Likelihood optimization failed to \"\n"
     ]
    },
    {
     "name": "stdout",
     "output_type": "stream",
     "text": [
      "(0, 0, 4) -1868.1157567025389\n",
      "(0, 1, 0) 83.90616981375382\n",
      "(0, 1, 1) -755.0349407862402\n",
      "(0, 1, 2) -1516.9068049423968\n",
      "(0, 1, 3) -1825.377604000529\n",
      "(0, 1, 4) -1830.740802812883\n",
      "(0, 2, 0) 958.7866296775404\n",
      "(0, 2, 1) 93.33510916659182\n",
      "(0, 2, 2) -738.5281689282405\n",
      "(0, 2, 3) -1491.5262628248533\n"
     ]
    },
    {
     "name": "stderr",
     "output_type": "stream",
     "text": [
      "C:\\ProgramData\\anaconda3\\Lib\\site-packages\\statsmodels\\base\\model.py:607: ConvergenceWarning: Maximum Likelihood optimization failed to converge. Check mle_retvals\n",
      "  warnings.warn(\"Maximum Likelihood optimization failed to \"\n"
     ]
    },
    {
     "name": "stdout",
     "output_type": "stream",
     "text": [
      "(0, 2, 4) -1795.9692185097676\n",
      "(0, 3, 0) 1847.5356618703584\n",
      "(0, 3, 1) 966.9482009070575\n",
      "(0, 3, 2) 108.42656964150336\n",
      "(0, 3, 3) -716.7925897287089\n"
     ]
    },
    {
     "name": "stderr",
     "output_type": "stream",
     "text": [
      "C:\\ProgramData\\anaconda3\\Lib\\site-packages\\statsmodels\\base\\model.py:607: ConvergenceWarning: Maximum Likelihood optimization failed to converge. Check mle_retvals\n",
      "  warnings.warn(\"Maximum Likelihood optimization failed to \"\n"
     ]
    },
    {
     "name": "stdout",
     "output_type": "stream",
     "text": [
      "(0, 3, 4) -1393.6899516326393\n",
      "(0, 4, 0) 2745.257808909413\n",
      "(0, 4, 1) 1854.4231896515093\n",
      "(0, 4, 2) 980.7740432138878\n",
      "(0, 4, 3) 128.5973346339947\n"
     ]
    },
    {
     "name": "stderr",
     "output_type": "stream",
     "text": [
      "C:\\ProgramData\\anaconda3\\Lib\\site-packages\\statsmodels\\base\\model.py:607: ConvergenceWarning: Maximum Likelihood optimization failed to converge. Check mle_retvals\n",
      "  warnings.warn(\"Maximum Likelihood optimization failed to \"\n"
     ]
    },
    {
     "name": "stdout",
     "output_type": "stream",
     "text": [
      "(0, 4, 4) -577.8160232145278\n",
      "(1, 0, 0) -1228.6928731212874\n"
     ]
    },
    {
     "name": "stderr",
     "output_type": "stream",
     "text": [
      "C:\\ProgramData\\anaconda3\\Lib\\site-packages\\statsmodels\\base\\model.py:607: ConvergenceWarning: Maximum Likelihood optimization failed to converge. Check mle_retvals\n",
      "  warnings.warn(\"Maximum Likelihood optimization failed to \"\n"
     ]
    },
    {
     "name": "stdout",
     "output_type": "stream",
     "text": [
      "(1, 0, 1) -1753.0092006079667\n",
      "(1, 0, 2) -1733.0469135827138\n"
     ]
    },
    {
     "name": "stderr",
     "output_type": "stream",
     "text": [
      "C:\\ProgramData\\anaconda3\\Lib\\site-packages\\statsmodels\\base\\model.py:607: ConvergenceWarning: Maximum Likelihood optimization failed to converge. Check mle_retvals\n",
      "  warnings.warn(\"Maximum Likelihood optimization failed to \"\n"
     ]
    },
    {
     "name": "stdout",
     "output_type": "stream",
     "text": [
      "(1, 0, 3) -1831.1680798886632\n"
     ]
    },
    {
     "name": "stderr",
     "output_type": "stream",
     "text": [
      "C:\\ProgramData\\anaconda3\\Lib\\site-packages\\statsmodels\\base\\model.py:607: ConvergenceWarning: Maximum Likelihood optimization failed to converge. Check mle_retvals\n",
      "  warnings.warn(\"Maximum Likelihood optimization failed to \"\n"
     ]
    },
    {
     "name": "stdout",
     "output_type": "stream",
     "text": [
      "(1, 0, 4) -1860.8738838593968\n",
      "(1, 1, 0) -539.8507687920184\n",
      "(1, 1, 1) -1218.3114016230884\n",
      "(1, 1, 2) -1742.29688339611\n",
      "(1, 1, 3) -1554.3231365280487\n",
      "(1, 1, 4) -1837.9740086947593\n",
      "(1, 2, 0) 211.7815654782283\n",
      "(1, 2, 1) -528.3742765716867\n",
      "(1, 2, 2) -1199.4591940627083\n"
     ]
    },
    {
     "name": "stderr",
     "output_type": "stream",
     "text": [
      "C:\\ProgramData\\anaconda3\\Lib\\site-packages\\statsmodels\\base\\model.py:607: ConvergenceWarning: Maximum Likelihood optimization failed to converge. Check mle_retvals\n",
      "  warnings.warn(\"Maximum Likelihood optimization failed to \"\n"
     ]
    },
    {
     "name": "stdout",
     "output_type": "stream",
     "text": [
      "(1, 2, 3) -1522.7350003594968\n",
      "(1, 2, 4) -1485.2620945989029\n",
      "(1, 3, 0) 998.2510660201965\n",
      "(1, 3, 1) 222.23062901353308\n"
     ]
    },
    {
     "name": "stderr",
     "output_type": "stream",
     "text": [
      "C:\\ProgramData\\anaconda3\\Lib\\site-packages\\statsmodels\\base\\model.py:607: ConvergenceWarning: Maximum Likelihood optimization failed to converge. Check mle_retvals\n",
      "  warnings.warn(\"Maximum Likelihood optimization failed to \"\n"
     ]
    },
    {
     "name": "stdout",
     "output_type": "stream",
     "text": [
      "(1, 3, 2) -510.6898877018572\n",
      "(1, 3, 3) -1175.0652612288668\n"
     ]
    },
    {
     "name": "stderr",
     "output_type": "stream",
     "text": [
      "C:\\ProgramData\\anaconda3\\Lib\\site-packages\\statsmodels\\base\\model.py:607: ConvergenceWarning: Maximum Likelihood optimization failed to converge. Check mle_retvals\n",
      "  warnings.warn(\"Maximum Likelihood optimization failed to \"\n"
     ]
    },
    {
     "name": "stdout",
     "output_type": "stream",
     "text": [
      "(1, 3, 4) -707.3613154337486\n",
      "(1, 4, 0) 1808.1963232995138\n",
      "(1, 4, 1) 1007.6030041924978\n",
      "(1, 4, 2) 238.4570277933015\n",
      "(1, 4, 3) -488.203221454594\n"
     ]
    },
    {
     "name": "stderr",
     "output_type": "stream",
     "text": [
      "C:\\ProgramData\\anaconda3\\Lib\\site-packages\\statsmodels\\base\\model.py:607: ConvergenceWarning: Maximum Likelihood optimization failed to converge. Check mle_retvals\n",
      "  warnings.warn(\"Maximum Likelihood optimization failed to \"\n"
     ]
    },
    {
     "name": "stdout",
     "output_type": "stream",
     "text": [
      "(1, 4, 4) -998.6348443441445\n",
      "(2, 0, 0) -1441.9883327536659\n"
     ]
    },
    {
     "name": "stderr",
     "output_type": "stream",
     "text": [
      "C:\\ProgramData\\anaconda3\\Lib\\site-packages\\statsmodels\\base\\model.py:607: ConvergenceWarning: Maximum Likelihood optimization failed to converge. Check mle_retvals\n",
      "  warnings.warn(\"Maximum Likelihood optimization failed to \"\n"
     ]
    },
    {
     "name": "stdout",
     "output_type": "stream",
     "text": [
      "(2, 0, 1) -1808.4300401657356\n"
     ]
    },
    {
     "name": "stderr",
     "output_type": "stream",
     "text": [
      "C:\\ProgramData\\anaconda3\\Lib\\site-packages\\statsmodels\\base\\model.py:607: ConvergenceWarning: Maximum Likelihood optimization failed to converge. Check mle_retvals\n",
      "  warnings.warn(\"Maximum Likelihood optimization failed to \"\n"
     ]
    },
    {
     "name": "stdout",
     "output_type": "stream",
     "text": [
      "(2, 0, 2) -1769.5653997466356\n"
     ]
    },
    {
     "name": "stderr",
     "output_type": "stream",
     "text": [
      "C:\\ProgramData\\anaconda3\\Lib\\site-packages\\statsmodels\\base\\model.py:607: ConvergenceWarning: Maximum Likelihood optimization failed to converge. Check mle_retvals\n",
      "  warnings.warn(\"Maximum Likelihood optimization failed to \"\n"
     ]
    },
    {
     "name": "stdout",
     "output_type": "stream",
     "text": [
      "(2, 0, 3) -1732.7568651004408\n",
      "(2, 0, 4) -1788.9263751392418\n",
      "(2, 1, 0) -876.0605912981414\n",
      "(2, 1, 1) -1430.4678629903588\n",
      "(2, 1, 2) -1796.2907213064263\n"
     ]
    },
    {
     "name": "stderr",
     "output_type": "stream",
     "text": [
      "C:\\ProgramData\\anaconda3\\Lib\\site-packages\\statsmodels\\base\\model.py:607: ConvergenceWarning: Maximum Likelihood optimization failed to converge. Check mle_retvals\n",
      "  warnings.warn(\"Maximum Likelihood optimization failed to \"\n"
     ]
    },
    {
     "name": "stdout",
     "output_type": "stream",
     "text": [
      "(2, 1, 3) -1739.378691694562\n"
     ]
    },
    {
     "name": "stderr",
     "output_type": "stream",
     "text": [
      "C:\\ProgramData\\anaconda3\\Lib\\site-packages\\statsmodels\\base\\model.py:607: ConvergenceWarning: Maximum Likelihood optimization failed to converge. Check mle_retvals\n",
      "  warnings.warn(\"Maximum Likelihood optimization failed to \"\n"
     ]
    },
    {
     "name": "stdout",
     "output_type": "stream",
     "text": [
      "(2, 1, 4) -1849.0728018349826\n",
      "(2, 2, 0) -224.4172936239949\n",
      "(2, 2, 1) -863.1370361078898\n"
     ]
    },
    {
     "name": "stderr",
     "output_type": "stream",
     "text": [
      "C:\\ProgramData\\anaconda3\\Lib\\site-packages\\statsmodels\\base\\model.py:607: ConvergenceWarning: Maximum Likelihood optimization failed to converge. Check mle_retvals\n",
      "  warnings.warn(\"Maximum Likelihood optimization failed to \"\n"
     ]
    },
    {
     "name": "stdout",
     "output_type": "stream",
     "text": [
      "(2, 2, 2) -1409.4203571224107\n"
     ]
    },
    {
     "name": "stderr",
     "output_type": "stream",
     "text": [
      "C:\\ProgramData\\anaconda3\\Lib\\site-packages\\statsmodels\\base\\model.py:607: ConvergenceWarning: Maximum Likelihood optimization failed to converge. Check mle_retvals\n",
      "  warnings.warn(\"Maximum Likelihood optimization failed to \"\n"
     ]
    },
    {
     "name": "stdout",
     "output_type": "stream",
     "text": [
      "(2, 2, 3) -1734.8516802964207\n",
      "(2, 2, 4) -1516.0048247784503\n",
      "(2, 3, 0) 472.2472320465947\n",
      "(2, 3, 1) -212.28284852195446\n",
      "(2, 3, 2) -843.9611985025806\n"
     ]
    },
    {
     "name": "stderr",
     "output_type": "stream",
     "text": [
      "C:\\ProgramData\\anaconda3\\Lib\\site-packages\\statsmodels\\base\\model.py:607: ConvergenceWarning: Maximum Likelihood optimization failed to converge. Check mle_retvals\n",
      "  warnings.warn(\"Maximum Likelihood optimization failed to \"\n"
     ]
    },
    {
     "name": "stdout",
     "output_type": "stream",
     "text": [
      "(2, 3, 3) -1376.8945990180118\n",
      "(2, 3, 4) -1172.428653574251\n",
      "(2, 4, 0) 1198.2758357926782\n",
      "(2, 4, 1) 483.54610070040394\n",
      "(2, 4, 2) -193.94872747589434\n",
      "(2, 4, 3) -818.9304901079142\n",
      "(2, 4, 4) -485.9021236656826\n",
      "(3, 0, 0) -1553.1499897461204\n"
     ]
    },
    {
     "name": "stderr",
     "output_type": "stream",
     "text": [
      "C:\\ProgramData\\anaconda3\\Lib\\site-packages\\statsmodels\\base\\model.py:607: ConvergenceWarning: Maximum Likelihood optimization failed to converge. Check mle_retvals\n",
      "  warnings.warn(\"Maximum Likelihood optimization failed to \"\n"
     ]
    },
    {
     "name": "stdout",
     "output_type": "stream",
     "text": [
      "(3, 0, 1) -1819.6221097599212\n",
      "(3, 0, 2) -1790.99777282732\n",
      "(3, 0, 3) -1774.1057624516486\n"
     ]
    },
    {
     "name": "stderr",
     "output_type": "stream",
     "text": [
      "C:\\ProgramData\\anaconda3\\Lib\\site-packages\\statsmodels\\base\\model.py:607: ConvergenceWarning: Maximum Likelihood optimization failed to converge. Check mle_retvals\n",
      "  warnings.warn(\"Maximum Likelihood optimization failed to \"\n"
     ]
    },
    {
     "name": "stdout",
     "output_type": "stream",
     "text": [
      "(3, 0, 4) -1779.7720234078838\n",
      "(3, 1, 0) -1082.7823280884008\n"
     ]
    },
    {
     "name": "stderr",
     "output_type": "stream",
     "text": [
      "C:\\ProgramData\\anaconda3\\Lib\\site-packages\\statsmodels\\base\\model.py:607: ConvergenceWarning: Maximum Likelihood optimization failed to converge. Check mle_retvals\n",
      "  warnings.warn(\"Maximum Likelihood optimization failed to \"\n"
     ]
    },
    {
     "name": "stdout",
     "output_type": "stream",
     "text": [
      "(3, 1, 1) -1540.8117193221178\n"
     ]
    },
    {
     "name": "stderr",
     "output_type": "stream",
     "text": [
      "C:\\ProgramData\\anaconda3\\Lib\\site-packages\\statsmodels\\base\\model.py:607: ConvergenceWarning: Maximum Likelihood optimization failed to converge. Check mle_retvals\n",
      "  warnings.warn(\"Maximum Likelihood optimization failed to \"\n"
     ]
    },
    {
     "name": "stdout",
     "output_type": "stream",
     "text": [
      "(3, 1, 2) -1436.2104402719456\n",
      "(3, 1, 3) -1793.238483626803\n"
     ]
    },
    {
     "name": "stderr",
     "output_type": "stream",
     "text": [
      "C:\\ProgramData\\anaconda3\\Lib\\site-packages\\statsmodels\\base\\model.py:607: ConvergenceWarning: Maximum Likelihood optimization failed to converge. Check mle_retvals\n",
      "  warnings.warn(\"Maximum Likelihood optimization failed to \"\n"
     ]
    },
    {
     "name": "stdout",
     "output_type": "stream",
     "text": [
      "(3, 1, 4) -1753.953001901716\n",
      "(3, 2, 0) -497.76918882875486\n"
     ]
    },
    {
     "name": "stderr",
     "output_type": "stream",
     "text": [
      "C:\\ProgramData\\anaconda3\\Lib\\site-packages\\statsmodels\\base\\model.py:607: ConvergenceWarning: Maximum Likelihood optimization failed to converge. Check mle_retvals\n",
      "  warnings.warn(\"Maximum Likelihood optimization failed to \"\n"
     ]
    },
    {
     "name": "stdout",
     "output_type": "stream",
     "text": [
      "(3, 2, 1) -1068.7236322560839\n",
      "(3, 2, 2) -1436.603475156694\n",
      "(3, 2, 3) -1402.2228813565212\n"
     ]
    },
    {
     "name": "stderr",
     "output_type": "stream",
     "text": [
      "C:\\ProgramData\\anaconda3\\Lib\\site-packages\\statsmodels\\base\\model.py:607: ConvergenceWarning: Maximum Likelihood optimization failed to converge. Check mle_retvals\n",
      "  warnings.warn(\"Maximum Likelihood optimization failed to \"\n"
     ]
    },
    {
     "name": "stdout",
     "output_type": "stream",
     "text": [
      "(3, 2, 4) -1701.9276334306278\n",
      "(3, 3, 0) 149.1240363663372\n",
      "(3, 3, 1) -484.3529441703789\n",
      "(3, 3, 2) -1047.0285859112985\n",
      "(3, 3, 3) -838.1355020335259\n",
      "(3, 3, 4) -1169.5921002382624\n",
      "(3, 4, 0) 830.2478751681895\n",
      "(3, 4, 1) 161.74537680691205\n",
      "(3, 4, 2) -464.15673989226593\n"
     ]
    },
    {
     "name": "stderr",
     "output_type": "stream",
     "text": [
      "C:\\ProgramData\\anaconda3\\Lib\\site-packages\\statsmodels\\base\\model.py:607: ConvergenceWarning: Maximum Likelihood optimization failed to converge. Check mle_retvals\n",
      "  warnings.warn(\"Maximum Likelihood optimization failed to \"\n"
     ]
    },
    {
     "name": "stdout",
     "output_type": "stream",
     "text": [
      "(3, 4, 3) -950.4891209229538\n"
     ]
    },
    {
     "name": "stderr",
     "output_type": "stream",
     "text": [
      "C:\\ProgramData\\anaconda3\\Lib\\site-packages\\statsmodels\\base\\model.py:607: ConvergenceWarning: Maximum Likelihood optimization failed to converge. Check mle_retvals\n",
      "  warnings.warn(\"Maximum Likelihood optimization failed to \"\n"
     ]
    },
    {
     "name": "stdout",
     "output_type": "stream",
     "text": [
      "(3, 4, 4) -669.2573514730641\n",
      "(4, 0, 0) -1615.9108900921924\n",
      "(4, 0, 1) -1780.0668941092017\n",
      "(4, 0, 2) -1527.1453922642106\n",
      "(4, 0, 3) -1773.417082888369\n",
      "(4, 0, 4) -1779.8502334640898\n",
      "(4, 1, 0) -1252.2529439050895\n"
     ]
    },
    {
     "name": "stderr",
     "output_type": "stream",
     "text": [
      "C:\\ProgramData\\anaconda3\\Lib\\site-packages\\statsmodels\\base\\model.py:607: ConvergenceWarning: Maximum Likelihood optimization failed to converge. Check mle_retvals\n",
      "  warnings.warn(\"Maximum Likelihood optimization failed to \"\n"
     ]
    },
    {
     "name": "stdout",
     "output_type": "stream",
     "text": [
      "(4, 1, 1) -1602.9565732404558\n"
     ]
    },
    {
     "name": "stderr",
     "output_type": "stream",
     "text": [
      "C:\\ProgramData\\anaconda3\\Lib\\site-packages\\statsmodels\\base\\model.py:607: ConvergenceWarning: Maximum Likelihood optimization failed to converge. Check mle_retvals\n",
      "  warnings.warn(\"Maximum Likelihood optimization failed to \"\n"
     ]
    },
    {
     "name": "stdout",
     "output_type": "stream",
     "text": [
      "(4, 1, 2) -1609.5430899055104\n"
     ]
    },
    {
     "name": "stderr",
     "output_type": "stream",
     "text": [
      "C:\\ProgramData\\anaconda3\\Lib\\site-packages\\statsmodels\\base\\model.py:607: ConvergenceWarning: Maximum Likelihood optimization failed to converge. Check mle_retvals\n",
      "  warnings.warn(\"Maximum Likelihood optimization failed to \"\n"
     ]
    },
    {
     "name": "stdout",
     "output_type": "stream",
     "text": [
      "(4, 1, 3) -1798.4576384852517\n"
     ]
    },
    {
     "name": "stderr",
     "output_type": "stream",
     "text": [
      "C:\\ProgramData\\anaconda3\\Lib\\site-packages\\statsmodels\\base\\model.py:607: ConvergenceWarning: Maximum Likelihood optimization failed to converge. Check mle_retvals\n",
      "  warnings.warn(\"Maximum Likelihood optimization failed to \"\n"
     ]
    },
    {
     "name": "stdout",
     "output_type": "stream",
     "text": [
      "(4, 1, 4) -1787.9674112596713\n",
      "(4, 2, 0) -766.5255923576901\n"
     ]
    },
    {
     "name": "stderr",
     "output_type": "stream",
     "text": [
      "C:\\ProgramData\\anaconda3\\Lib\\site-packages\\statsmodels\\base\\model.py:607: ConvergenceWarning: Maximum Likelihood optimization failed to converge. Check mle_retvals\n",
      "  warnings.warn(\"Maximum Likelihood optimization failed to \"\n"
     ]
    },
    {
     "name": "stdout",
     "output_type": "stream",
     "text": [
      "(4, 2, 1) -1237.169820154146\n"
     ]
    },
    {
     "name": "stderr",
     "output_type": "stream",
     "text": [
      "C:\\ProgramData\\anaconda3\\Lib\\site-packages\\statsmodels\\base\\model.py:607: ConvergenceWarning: Maximum Likelihood optimization failed to converge. Check mle_retvals\n",
      "  warnings.warn(\"Maximum Likelihood optimization failed to \"\n"
     ]
    },
    {
     "name": "stdout",
     "output_type": "stream",
     "text": [
      "(4, 2, 2) -1577.6631061026196\n",
      "(4, 2, 3) -1516.2942361532464\n"
     ]
    },
    {
     "name": "stderr",
     "output_type": "stream",
     "text": [
      "C:\\ProgramData\\anaconda3\\Lib\\site-packages\\statsmodels\\base\\model.py:607: ConvergenceWarning: Maximum Likelihood optimization failed to converge. Check mle_retvals\n",
      "  warnings.warn(\"Maximum Likelihood optimization failed to \"\n"
     ]
    },
    {
     "name": "stdout",
     "output_type": "stream",
     "text": [
      "(4, 2, 4) -1405.0424195220257\n",
      "(4, 3, 0) -191.24139357467868\n"
     ]
    },
    {
     "name": "stderr",
     "output_type": "stream",
     "text": [
      "C:\\ProgramData\\anaconda3\\Lib\\site-packages\\statsmodels\\base\\model.py:607: ConvergenceWarning: Maximum Likelihood optimization failed to converge. Check mle_retvals\n",
      "  warnings.warn(\"Maximum Likelihood optimization failed to \"\n"
     ]
    },
    {
     "name": "stdout",
     "output_type": "stream",
     "text": [
      "(4, 3, 1) -751.8004940620283\n"
     ]
    },
    {
     "name": "stderr",
     "output_type": "stream",
     "text": [
      "C:\\ProgramData\\anaconda3\\Lib\\site-packages\\statsmodels\\base\\model.py:607: ConvergenceWarning: Maximum Likelihood optimization failed to converge. Check mle_retvals\n",
      "  warnings.warn(\"Maximum Likelihood optimization failed to \"\n"
     ]
    },
    {
     "name": "stdout",
     "output_type": "stream",
     "text": [
      "(4, 3, 2) -1211.2290419742376\n"
     ]
    },
    {
     "name": "stderr",
     "output_type": "stream",
     "text": [
      "C:\\ProgramData\\anaconda3\\Lib\\site-packages\\statsmodels\\base\\model.py:607: ConvergenceWarning: Maximum Likelihood optimization failed to converge. Check mle_retvals\n",
      "  warnings.warn(\"Maximum Likelihood optimization failed to \"\n"
     ]
    },
    {
     "name": "stdout",
     "output_type": "stream",
     "text": [
      "(4, 3, 3) -1046.5673418841668\n"
     ]
    },
    {
     "name": "stderr",
     "output_type": "stream",
     "text": [
      "C:\\ProgramData\\anaconda3\\Lib\\site-packages\\statsmodels\\base\\model.py:607: ConvergenceWarning: Maximum Likelihood optimization failed to converge. Check mle_retvals\n",
      "  warnings.warn(\"Maximum Likelihood optimization failed to \"\n"
     ]
    },
    {
     "name": "stdout",
     "output_type": "stream",
     "text": [
      "(4, 3, 4) -1476.7212596163392\n",
      "(4, 4, 0) 444.00720118641317\n"
     ]
    },
    {
     "name": "stderr",
     "output_type": "stream",
     "text": [
      "C:\\ProgramData\\anaconda3\\Lib\\site-packages\\statsmodels\\base\\model.py:607: ConvergenceWarning: Maximum Likelihood optimization failed to converge. Check mle_retvals\n",
      "  warnings.warn(\"Maximum Likelihood optimization failed to \"\n"
     ]
    },
    {
     "name": "stdout",
     "output_type": "stream",
     "text": [
      "(4, 4, 1) -177.12177541550773\n"
     ]
    },
    {
     "name": "stderr",
     "output_type": "stream",
     "text": [
      "C:\\ProgramData\\anaconda3\\Lib\\site-packages\\statsmodels\\base\\model.py:607: ConvergenceWarning: Maximum Likelihood optimization failed to converge. Check mle_retvals\n",
      "  warnings.warn(\"Maximum Likelihood optimization failed to \"\n"
     ]
    },
    {
     "name": "stdout",
     "output_type": "stream",
     "text": [
      "(4, 4, 2) -729.7265260152917\n"
     ]
    },
    {
     "name": "stderr",
     "output_type": "stream",
     "text": [
      "C:\\ProgramData\\anaconda3\\Lib\\site-packages\\statsmodels\\base\\model.py:607: ConvergenceWarning: Maximum Likelihood optimization failed to converge. Check mle_retvals\n",
      "  warnings.warn(\"Maximum Likelihood optimization failed to \"\n"
     ]
    },
    {
     "name": "stdout",
     "output_type": "stream",
     "text": [
      "(4, 4, 3) -1187.3338429075243\n",
      "(4, 4, 4) -1015.0045015913045\n"
     ]
    },
    {
     "name": "stderr",
     "output_type": "stream",
     "text": [
      "C:\\ProgramData\\anaconda3\\Lib\\site-packages\\statsmodels\\base\\model.py:607: ConvergenceWarning: Maximum Likelihood optimization failed to converge. Check mle_retvals\n",
      "  warnings.warn(\"Maximum Likelihood optimization failed to \"\n"
     ]
    }
   ],
   "source": [
    "##The Python try… except statement catches an exception. It is used to test code for an error which is written in the “try” statement.\n",
    "#If an error is encountered, the contents of the “except” block are run.\n",
    "list1=[]\n",
    "list2=[]\n",
    "for params in pdq: #iterating params over pdq\n",
    "    try:\n",
    "        model_arima = ARIMA(train, order=params)#training model on various pdq values\n",
    "        model_arima_fit = model_arima.fit()#training\n",
    "        print(params, model_arima_fit.aic)#printing parameter and aic values\n",
    "        list1.append(params)\n",
    "        list2.append(model_arima_fit.aic)\n",
    "    except:\n",
    "        continue"
   ]
  },
  {
   "cell_type": "code",
   "execution_count": 308,
   "id": "a9752be6-bd83-48f3-ae6a-1036639d224f",
   "metadata": {},
   "outputs": [
    {
     "data": {
      "text/plain": [
       "-1868.1157567025389"
      ]
     },
     "execution_count": 308,
     "metadata": {},
     "output_type": "execute_result"
    }
   ],
   "source": [
    "min(list2)  # lowest aic score"
   ]
  },
  {
   "cell_type": "code",
   "execution_count": 309,
   "id": "9b88a247-9d5b-40f6-9588-a85ffb0a4524",
   "metadata": {},
   "outputs": [
    {
     "data": {
      "text/plain": [
       "4"
      ]
     },
     "execution_count": 309,
     "metadata": {},
     "output_type": "execute_result"
    }
   ],
   "source": [
    "list2.index(min(list2))"
   ]
  },
  {
   "cell_type": "code",
   "execution_count": 310,
   "id": "174e2875-1a57-416f-911d-7010d2331aa6",
   "metadata": {},
   "outputs": [
    {
     "data": {
      "text/plain": [
       "(0, 0, 4)"
      ]
     },
     "execution_count": 310,
     "metadata": {},
     "output_type": "execute_result"
    }
   ],
   "source": [
    "# pdq corresponding to lowest aic\n",
    "loc=list2.index(min(list2))\n",
    "list1[loc]"
   ]
  },
  {
   "cell_type": "code",
   "execution_count": 318,
   "id": "f0b21f7e-60f7-43be-813c-8140c58e6a26",
   "metadata": {},
   "outputs": [
    {
     "name": "stderr",
     "output_type": "stream",
     "text": [
      "C:\\ProgramData\\anaconda3\\Lib\\site-packages\\statsmodels\\base\\model.py:607: ConvergenceWarning: Maximum Likelihood optimization failed to converge. Check mle_retvals\n",
      "  warnings.warn(\"Maximum Likelihood optimization failed to \"\n"
     ]
    }
   ],
   "source": [
    "## create the final model with lowest aic score parameter\n",
    "model_arima = ARIMA(data, order=(0,0,4))\n",
    "\n",
    "model_arima_fit = model_arima.fit() #training"
   ]
  },
  {
   "cell_type": "code",
   "execution_count": 339,
   "id": "c9ab9e24-fb53-4e88-b0c3-35798dcf2e0c",
   "metadata": {},
   "outputs": [
    {
     "data": {
      "text/plain": [
       "873    0.484134\n",
       "874    0.654719\n",
       "875    0.577955\n",
       "876    0.597355\n",
       "877    0.593546\n",
       "878    0.593546\n",
       "879    0.593546\n",
       "880    0.593546\n",
       "881    0.593546\n",
       "882    0.593546\n",
       "883    0.593546\n",
       "884    0.593546\n",
       "885    0.593546\n",
       "886    0.593546\n",
       "887    0.593546\n",
       "888    0.593546\n",
       "889    0.593546\n",
       "890    0.593546\n",
       "891    0.593546\n",
       "892    0.593546\n",
       "893    0.593546\n",
       "894    0.593546\n",
       "895    0.593546\n",
       "896    0.593546\n",
       "897    0.593546\n",
       "Name: predicted_mean, dtype: float64"
      ]
     },
     "execution_count": 339,
     "metadata": {},
     "output_type": "execute_result"
    }
   ],
   "source": [
    "forecast = model_arima_fit.forecast(steps=25)\n",
    "forecast"
   ]
  },
  {
   "cell_type": "code",
   "execution_count": 340,
   "id": "1d19dea9-dcc9-4cff-b179-b2c56e5569dc",
   "metadata": {},
   "outputs": [
    {
     "data": {
      "text/plain": [
       "[<matplotlib.lines.Line2D at 0x25ed647d3d0>]"
      ]
     },
     "execution_count": 340,
     "metadata": {},
     "output_type": "execute_result"
    },
    {
     "data": {
      "image/png": "[encoded data removed]",
      "text/plain": [
       "<Figure size 640x480 with 1 Axes>"
      ]
     },
     "metadata": {},
     "output_type": "display_data"
    }
   ],
   "source": [
    "plt.plot(forecast,color='green')\n",
    "plt.plot(test[:25])"
   ]
  },
  {
   "cell_type": "code",
   "execution_count": 341,
   "id": "ba7b01d4-4bab-4002-b693-24a4d11b1424",
   "metadata": {},
   "outputs": [
    {
     "data": {
      "text/plain": [
       "array([0.63501484, 0.68249258, 0.45994065, 0.74480712, 0.51038576,\n",
       "       0.65281899, 0.67062315, 0.2462908 , 0.91097923, 0.56973294,\n",
       "       0.5727003 , 0.48664688, 0.64688427, 0.66765579, 0.32344214,\n",
       "       0.99703264, 0.22551929, 0.77744807, 0.64688427, 0.54302671,\n",
       "       0.46587537, 0.67062315, 0.74777448, 0.28189911, 0.78041543])"
      ]
     },
     "execution_count": 341,
     "metadata": {},
     "output_type": "execute_result"
    }
   ],
   "source": [
    "forecast2 = model_arima_fit.forecast(steps=25)\n",
    "test1 = test[0:25].values.flatten()\n",
    "test1"
   ]
  },
  {
   "cell_type": "code",
   "execution_count": 342,
   "id": "8eafa2b5-acf5-43c3-95d2-8c6b9d899e5e",
   "metadata": {},
   "outputs": [
    {
     "data": {
      "text/plain": [
       "[<matplotlib.lines.Line2D at 0x25ed8947f90>]"
      ]
     },
     "execution_count": 342,
     "metadata": {},
     "output_type": "execute_result"
    },
    {
     "data": {
      "image/png": "[encoded data removed]",
      "text/plain": [
       "<Figure size 640x480 with 1 Axes>"
      ]
     },
     "metadata": {},
     "output_type": "display_data"
    }
   ],
   "source": [
    "# Comparision of actual vs predicted for 25 values\n",
    "plt.plot(test[:25])\n",
    "plt.plot(forecast2,color='green') #line plot for prediction"
   ]
  },
  {
   "cell_type": "code",
   "execution_count": null,
   "id": "9c479bbb-1100-495f-8cf8-9770b85003b9",
   "metadata": {},
   "outputs": [],
   "source": []
  },
  {
   "cell_type": "code",
   "execution_count": 343,
   "id": "7a733501-4123-402e-a654-c64bac83b0aa",
   "metadata": {},
   "outputs": [
    {
     "name": "stdout",
     "output_type": "stream",
     "text": [
      "RMSE 0.19038712848273126\n",
      "MSE 0.03624725869190002\n",
      "MAE 0.15176779625041187\n"
     ]
    }
   ],
   "source": [
    "from sklearn.metrics import mean_squared_error,mean_absolute_error\n",
    "from statsmodels.tools.eval_measures import rmse\n",
    "\n",
    "# Calculate root mean squared error\n",
    "print('RMSE',rmse(test1, forecast2))\n",
    "\n",
    "# Calculate mean squared error\n",
    "print('MSE',mean_squared_error(test1, forecast2))\n",
    "\n",
    "print('MAE',mean_absolute_error(test1,forecast2))\n"
   ]
  },
  {
   "cell_type": "code",
   "execution_count": null,
   "id": "6d21bbc2-c19d-4975-968f-5a61d4e9180f",
   "metadata": {},
   "outputs": [],
   "source": []
  },
  {
   "cell_type": "code",
   "execution_count": null,
   "id": "cb5f6f69-0bfd-49d7-a6f7-6148d5376a25",
   "metadata": {},
   "outputs": [],
   "source": []
  }
 ],
 "metadata": {
  "kernelspec": {
   "display_name": "Python 3 (ipykernel)",
   "language": "python",
   "name": "python3"
  },
  "language_info": {
   "codemirror_mode": {
    "name": "ipython",
    "version": 3
   },
   "file_extension": ".py",
   "mimetype": "text/x-python",
   "name": "python",
   "nbconvert_exporter": "python",
   "pygments_lexer": "ipython3",
   "version": "3.11.7"
  }
 },
 "nbformat": 4,
 "nbformat_minor": 5
}
